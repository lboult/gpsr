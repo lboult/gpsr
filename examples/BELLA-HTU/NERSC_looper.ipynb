{
 "cells": [
  {
   "cell_type": "code",
   "execution_count": 3,
   "metadata": {
    "tags": []
   },
   "outputs": [],
   "source": [
    "import os\n",
    "import torch\n",
    "import matplotlib.pyplot as plt\n",
    "import numpy as np\n",
    "\n",
    "from phase_space_reconstruction.virtual.beamlines import quad_drift\n",
    "from phase_space_reconstruction.virtual.scans import run_quad_scan\n",
    "from phase_space_reconstruction.diagnostics import ImageDiagnostic\n",
    "from phase_space_reconstruction.train import train_1d_scan\n",
    "\n",
    "from bmadx.plot import plot_projections\n",
    "from phase_space_reconstruction.visualization import plot_scan_data, plot_predicted_screens"
   ]
  },
  {
   "cell_type": "code",
   "execution_count": 2,
   "metadata": {
    "tags": []
   },
   "outputs": [],
   "source": [
    "#convert saved BELLA quad scan data into correct format for subsequent analysis\n",
    "from PIL import Image, ImageOps\n",
    "import re\n",
    "\n",
    "# Function to pad the images to be square\n",
    "def pad_to_square(img):\n",
    "    width, height = img.size\n",
    "    new_size = max(width, height)\n",
    "    delta_w = new_size - width\n",
    "    delta_h = new_size - height\n",
    "    padding = (delta_w//2, delta_h//2, delta_w-(delta_w//2), delta_h-(delta_h//2))\n",
    "    return ImageOps.expand(img, padding)\n",
    "\n",
    "# Function to get all image files from a specified directory\n",
    "def get_image_files(dir_path):\n",
    "    # Get a list of all files with the specified extensions\n",
    "    files = [f for f in os.listdir(dir_path) if f.endswith(('.png', '.jpg', '.jpeg'))]\n",
    "    \n",
    "    # Extract the number from each filename and sort the files based on these numbers\n",
    "    sorted_files = sorted(files, key=lambda x: int(re.search(r'_(\\d+)', x).group(1)))\n",
    "    \n",
    "    return sorted_files\n",
    "\n",
    "# Get a list of all image files in the specified directory\n",
    "image_folder_path = \"16bit_images/\"\n",
    "image_files = get_image_files(image_folder_path)\n",
    "\n",
    "# Open, pad to make square, and resize each image, then convert them to grayscale\n",
    "image_list = []\n",
    "for file in image_files:\n",
    "    img = Image.open(os.path.join(image_folder_path, file))\n",
    "    img = pad_to_square(img)\n",
    "    \n",
    "    # Get the new dimensions after padding\n",
    "    width, height = img.size\n",
    "    \n",
    "    # Crop 200 pixels from each edge\n",
    "    img = img.crop((200, 200, width - 200, height - 200))\n",
    "    \n",
    "    img = img.resize((200, 200))\n",
    "    \n",
    "    # Convert the image to a numpy array\n",
    "    img_array = np.array(img, dtype=np.float32)\n",
    "    \n",
    "    # Find the maximum value in the image\n",
    "    max_value = np.amax(img_array)\n",
    "    \n",
    "    # Normalize the image by dividing each pixel by the maximum value\n",
    "    img_array /= max_value\n",
    "    image_list.append(np.array(img, dtype=np.float32))\n",
    "\n",
    "# Convert the images to a torch tensor\n",
    "images_tensor = torch.stack([torch.tensor(np.array(img)) for img in image_list])\n",
    "\n",
    "# Add an extra dimension for the channel (grayscale)\n",
    "images_tensor = images_tensor.unsqueeze(1)\n",
    "\n",
    "images=images_tensor.double()\n",
    "\n",
    "\n",
    "\n",
    "# convert quad current values to normalized k values\n",
    "def EMQ3CurToGrad(cur):\n",
    "    return 2.9016 * cur + 0.093\n",
    "\n",
    "def gradientToK(gradient,energy):\n",
    "    return gradient*299.8/energy\n",
    "\n",
    "currents=np.linspace(1.3,2.3,11)\n",
    "gradients = EMQ3CurToGrad(currents)\n",
    "\n",
    "# Fixed value of energy\n",
    "energy = 105\n",
    "\n",
    "# # Convert the gradients tensor to a numpy array for easier manipulation\n",
    "# gradients_numpy = gradients.numpy()\n",
    "\n",
    "# Apply the function to each gradient value\n",
    "k_values_numpy = gradientToK(gradients, energy)\n",
    "\n",
    "# Convert the k_values back to a torch tensor\n",
    "k_values_tensor = torch.tensor(k_values_numpy).unsqueeze(1).unsqueeze(2).double()\n",
    "\n",
    "# k_values_tensor = k_values_tensor.unsqueeze(1).unsqueeze(2)\n",
    "ks=k_values_tensor"
   ]
  },
  {
   "cell_type": "code",
   "execution_count": 3,
   "metadata": {
    "tags": []
   },
   "outputs": [
    {
     "name": "stdout",
     "output_type": "stream",
     "text": [
      "dataset saved as 'data/test.dset'\n",
      "dataset saved as 'data/train.dset'\n"
     ]
    }
   ],
   "source": [
    "from phase_space_reconstruction.modeling import ImageDataset, ImageDataset3D\n",
    "\n",
    "# create image dataset\n",
    "save_as='test.dset'\n",
    "dset = ImageDataset(ks[1::2], images[::2])\n",
    "\n",
    "# save scan data if wanted\n",
    "if save_as is not None:\n",
    "    # Include the path to the \"data\" directory in the save_as variable\n",
    "    save_as = os.path.join(\"data\", save_as)\n",
    "    \n",
    "    # Check if the \"data\" directory exists, if not, create it\n",
    "    if not os.path.exists(\"data\"):\n",
    "        os.makedirs(\"data\")\n",
    "    \n",
    "    # Save the dataset in the \"data\" directory\n",
    "    torch.save(dset, save_as)\n",
    "    print(f\"dataset saved as '{save_as}'\")\n",
    "    \n",
    "    \n",
    "# create image dataset\n",
    "save_as='train.dset'\n",
    "dset = ImageDataset(ks[::2], images[::2])\n",
    "\n",
    "# save scan data if wanted\n",
    "if save_as is not None:\n",
    "    # Include the path to the \"data\" directory in the save_as variable\n",
    "    save_as = os.path.join(\"data\", save_as)\n",
    "    \n",
    "    # Check if the \"data\" directory exists, if not, create it\n",
    "    if not os.path.exists(\"data\"):\n",
    "        os.makedirs(\"data\")\n",
    "    \n",
    "    # Save the dataset in the \"data\" directory\n",
    "    torch.save(dset, save_as)\n",
    "    print(f\"dataset saved as '{save_as}'\")"
   ]
  },
  {
   "cell_type": "code",
   "execution_count": 4,
   "metadata": {
    "tags": []
   },
   "outputs": [],
   "source": [
    "data_dir = 'data'"
   ]
  },
  {
   "cell_type": "code",
   "execution_count": 5,
   "metadata": {
    "tags": []
   },
   "outputs": [],
   "source": [
    "# load data:\n",
    "train_dset = torch.load(os.path.join(data_dir,'train.dset'))\n",
    "test_dset = torch.load(os.path.join(data_dir,'test.dset'))\n",
    "\n",
    "# image bins: \n",
    "bins_x = torch.linspace(-7.32, 7.32, train_dset.images.shape[-2])*1e-3\n",
    "bins_y = torch.linspace(-7.32, 7.32, train_dset.images.shape[-1])*1e-3"
   ]
  },
  {
   "cell_type": "code",
   "execution_count": 6,
   "metadata": {
    "tags": []
   },
   "outputs": [
    {
     "name": "stdout",
     "output_type": "stream",
     "text": [
      "image size = 15 x 15 mm\n",
      "test samples boxed in orange\n"
     ]
    },
    {
     "data": {
      "image/png": "[encoded data removed]",
      "text/plain": [
       "<Figure size 1200x100 with 12 Axes>"
      ]
     },
     "metadata": {},
     "output_type": "display_data"
    }
   ],
   "source": [
    "fig, ax = plot_scan_data(train_dset, test_dset, bins_x, bins_y)\n",
    "plt.show()"
   ]
  },
  {
   "cell_type": "code",
   "execution_count": 7,
   "metadata": {
    "tags": []
   },
   "outputs": [],
   "source": [
    "# diagnostic beamline:\n",
    "lattice = quad_drift(l_d=2.126, l_q=0.1409)\n",
    "\n",
    "# design momentum (eV)\n",
    "p0c = energy* 1e6\n",
    "\n",
    "# diagnostic screen: \n",
    "bandwidth = (bins_x[1]-bins_x[0]) / 2\n",
    "screen = ImageDiagnostic(bins_x, bins_y, bandwidth)"
   ]
  },
  {
   "cell_type": "code",
   "execution_count": 10,
   "metadata": {
    "collapsed": true,
    "jupyter": {
     "outputs_hidden": true
    },
    "tags": []
   },
   "outputs": [
    {
     "name": "stdout",
     "output_type": "stream",
     "text": [
      "Using device: cuda\n",
      "0 tensor(5000418.8241, device='cuda:0', dtype=torch.float64,\n",
      "       grad_fn=<MulBackward0>)\n",
      "100 tensor(3425707.1078, device='cuda:0', dtype=torch.float64,\n",
      "       grad_fn=<MulBackward0>)\n",
      "200 tensor(1486897.4349, device='cuda:0', dtype=torch.float64,\n",
      "       grad_fn=<MulBackward0>)\n",
      "300 tensor(915246.4682, device='cuda:0', dtype=torch.float64,\n",
      "       grad_fn=<MulBackward0>)\n",
      "400 tensor(758486.7172, device='cuda:0', dtype=torch.float64,\n",
      "       grad_fn=<MulBackward0>)\n",
      "500 tensor(722243.0153, device='cuda:0', dtype=torch.float64,\n",
      "       grad_fn=<MulBackward0>)\n",
      "600 tensor(739803.2112, device='cuda:0', dtype=torch.float64,\n",
      "       grad_fn=<MulBackward0>)\n",
      "700 tensor(693087.4622, device='cuda:0', dtype=torch.float64,\n",
      "       grad_fn=<MulBackward0>)\n",
      "800 tensor(702398.0337, device='cuda:0', dtype=torch.float64,\n",
      "       grad_fn=<MulBackward0>)\n",
      "900 tensor(709111.3454, device='cuda:0', dtype=torch.float64,\n",
      "       grad_fn=<MulBackward0>)\n",
      "image size = 15 x 15 mm\n",
      "test samples boxed in orange\n",
      "Using device: cuda\n",
      "0 tensor(4630686.0871, device='cuda:0', dtype=torch.float64,\n",
      "       grad_fn=<MulBackward0>)\n",
      "100 tensor(1547887.3018, device='cuda:0', dtype=torch.float64,\n",
      "       grad_fn=<MulBackward0>)\n",
      "200 tensor(1031587.9269, device='cuda:0', dtype=torch.float64,\n",
      "       grad_fn=<MulBackward0>)\n",
      "300 tensor(855812.0922, device='cuda:0', dtype=torch.float64,\n",
      "       grad_fn=<MulBackward0>)\n",
      "400 tensor(763819.3371, device='cuda:0', dtype=torch.float64,\n",
      "       grad_fn=<MulBackward0>)\n",
      "500 tensor(735043.3630, device='cuda:0', dtype=torch.float64,\n",
      "       grad_fn=<MulBackward0>)\n",
      "600 tensor(696609.0242, device='cuda:0', dtype=torch.float64,\n",
      "       grad_fn=<MulBackward0>)\n",
      "700 tensor(706282.0457, device='cuda:0', dtype=torch.float64,\n",
      "       grad_fn=<MulBackward0>)\n",
      "800 tensor(696006.3141, device='cuda:0', dtype=torch.float64,\n",
      "       grad_fn=<MulBackward0>)\n",
      "900 tensor(686379.4401, device='cuda:0', dtype=torch.float64,\n",
      "       grad_fn=<MulBackward0>)\n",
      "image size = 15 x 15 mm\n",
      "test samples boxed in orange\n",
      "Using device: cuda\n",
      "0 tensor(4534584.0862, device='cuda:0', dtype=torch.float64,\n",
      "       grad_fn=<MulBackward0>)\n",
      "100 tensor(1119747.8209, device='cuda:0', dtype=torch.float64,\n",
      "       grad_fn=<MulBackward0>)\n",
      "200 tensor(837960.5760, device='cuda:0', dtype=torch.float64,\n",
      "       grad_fn=<MulBackward0>)\n",
      "300 tensor(773371.0832, device='cuda:0', dtype=torch.float64,\n",
      "       grad_fn=<MulBackward0>)\n",
      "400 tensor(806464.4650, device='cuda:0', dtype=torch.float64,\n",
      "       grad_fn=<MulBackward0>)\n",
      "500 tensor(758500.9239, device='cuda:0', dtype=torch.float64,\n",
      "       grad_fn=<MulBackward0>)\n",
      "600 tensor(752888.8080, device='cuda:0', dtype=torch.float64,\n",
      "       grad_fn=<MulBackward0>)\n",
      "700 tensor(709927.0831, device='cuda:0', dtype=torch.float64,\n",
      "       grad_fn=<MulBackward0>)\n",
      "800 tensor(711776.2151, device='cuda:0', dtype=torch.float64,\n",
      "       grad_fn=<MulBackward0>)\n",
      "900 tensor(688053.7715, device='cuda:0', dtype=torch.float64,\n",
      "       grad_fn=<MulBackward0>)\n",
      "image size = 15 x 15 mm\n",
      "test samples boxed in orange\n",
      "Using device: cuda\n",
      "0 tensor(3725300.1626, device='cuda:0', dtype=torch.float64,\n",
      "       grad_fn=<MulBackward0>)\n",
      "100 tensor(1139327.5383, device='cuda:0', dtype=torch.float64,\n",
      "       grad_fn=<MulBackward0>)\n",
      "200 tensor(1061826.8830, device='cuda:0', dtype=torch.float64,\n",
      "       grad_fn=<MulBackward0>)\n",
      "300 tensor(934864.4666, device='cuda:0', dtype=torch.float64,\n",
      "       grad_fn=<MulBackward0>)\n",
      "400 tensor(816480.8809, device='cuda:0', dtype=torch.float64,\n",
      "       grad_fn=<MulBackward0>)\n",
      "500 tensor(795583.7896, device='cuda:0', dtype=torch.float64,\n",
      "       grad_fn=<MulBackward0>)\n",
      "600 tensor(736384.6310, device='cuda:0', dtype=torch.float64,\n",
      "       grad_fn=<MulBackward0>)\n",
      "700 tensor(720993.7780, device='cuda:0', dtype=torch.float64,\n",
      "       grad_fn=<MulBackward0>)\n",
      "800 tensor(716841.9822, device='cuda:0', dtype=torch.float64,\n",
      "       grad_fn=<MulBackward0>)\n",
      "900 tensor(685845.2072, device='cuda:0', dtype=torch.float64,\n",
      "       grad_fn=<MulBackward0>)\n",
      "image size = 15 x 15 mm\n",
      "test samples boxed in orange\n",
      "Using device: cuda\n",
      "0 tensor(4747143.2716, device='cuda:0', dtype=torch.float64,\n",
      "       grad_fn=<MulBackward0>)\n",
      "100 tensor(2045196.1972, device='cuda:0', dtype=torch.float64,\n",
      "       grad_fn=<MulBackward0>)\n",
      "200 tensor(1573318.9438, device='cuda:0', dtype=torch.float64,\n",
      "       grad_fn=<MulBackward0>)\n",
      "300 tensor(1388360.7876, device='cuda:0', dtype=torch.float64,\n",
      "       grad_fn=<MulBackward0>)\n",
      "400 tensor(1314554.4867, device='cuda:0', dtype=torch.float64,\n",
      "       grad_fn=<MulBackward0>)\n",
      "500 tensor(1253768.0491, device='cuda:0', dtype=torch.float64,\n",
      "       grad_fn=<MulBackward0>)\n",
      "600 tensor(1167580.9133, device='cuda:0', dtype=torch.float64,\n",
      "       grad_fn=<MulBackward0>)\n",
      "700 tensor(1082533.5822, device='cuda:0', dtype=torch.float64,\n",
      "       grad_fn=<MulBackward0>)\n",
      "800 tensor(1037456.6320, device='cuda:0', dtype=torch.float64,\n",
      "       grad_fn=<MulBackward0>)\n",
      "900 tensor(974134.9377, device='cuda:0', dtype=torch.float64,\n",
      "       grad_fn=<MulBackward0>)\n",
      "image size = 15 x 15 mm\n",
      "test samples boxed in orange\n",
      "Using device: cuda\n",
      "0 tensor(4277917.2059, device='cuda:0', dtype=torch.float64,\n",
      "       grad_fn=<MulBackward0>)\n",
      "100 tensor(1273329.3794, device='cuda:0', dtype=torch.float64,\n",
      "       grad_fn=<MulBackward0>)\n",
      "200 tensor(956186.0659, device='cuda:0', dtype=torch.float64,\n",
      "       grad_fn=<MulBackward0>)\n",
      "300 tensor(849735.0353, device='cuda:0', dtype=torch.float64,\n",
      "       grad_fn=<MulBackward0>)\n",
      "400 tensor(751798.7437, device='cuda:0', dtype=torch.float64,\n",
      "       grad_fn=<MulBackward0>)\n",
      "500 tensor(736787.0333, device='cuda:0', dtype=torch.float64,\n",
      "       grad_fn=<MulBackward0>)\n",
      "600 tensor(727190.1504, device='cuda:0', dtype=torch.float64,\n",
      "       grad_fn=<MulBackward0>)\n",
      "700 tensor(711932.4827, device='cuda:0', dtype=torch.float64,\n",
      "       grad_fn=<MulBackward0>)\n",
      "800 tensor(703739.8656, device='cuda:0', dtype=torch.float64,\n",
      "       grad_fn=<MulBackward0>)\n",
      "900 tensor(723742.2510, device='cuda:0', dtype=torch.float64,\n",
      "       grad_fn=<MulBackward0>)\n",
      "image size = 15 x 15 mm\n",
      "test samples boxed in orange\n",
      "Using device: cuda\n",
      "0 tensor(4733208.2626, device='cuda:0', dtype=torch.float64,\n",
      "       grad_fn=<MulBackward0>)\n",
      "100 tensor(1711468.5600, device='cuda:0', dtype=torch.float64,\n",
      "       grad_fn=<MulBackward0>)\n",
      "200 tensor(1176217.8806, device='cuda:0', dtype=torch.float64,\n",
      "       grad_fn=<MulBackward0>)\n",
      "300 tensor(898143.7508, device='cuda:0', dtype=torch.float64,\n",
      "       grad_fn=<MulBackward0>)\n",
      "400 tensor(798097.6484, device='cuda:0', dtype=torch.float64,\n",
      "       grad_fn=<MulBackward0>)\n",
      "500 tensor(761212.3790, device='cuda:0', dtype=torch.float64,\n",
      "       grad_fn=<MulBackward0>)\n",
      "600 tensor(742360.6339, device='cuda:0', dtype=torch.float64,\n",
      "       grad_fn=<MulBackward0>)\n",
      "700 tensor(722556.5839, device='cuda:0', dtype=torch.float64,\n",
      "       grad_fn=<MulBackward0>)\n",
      "800 tensor(723671.7215, device='cuda:0', dtype=torch.float64,\n",
      "       grad_fn=<MulBackward0>)\n",
      "900 tensor(705093.9398, device='cuda:0', dtype=torch.float64,\n",
      "       grad_fn=<MulBackward0>)\n",
      "image size = 15 x 15 mm\n",
      "test samples boxed in orange\n",
      "Using device: cuda\n",
      "0 tensor(4565046.1034, device='cuda:0', dtype=torch.float64,\n",
      "       grad_fn=<MulBackward0>)\n",
      "100 tensor(1213489.7469, device='cuda:0', dtype=torch.float64,\n",
      "       grad_fn=<MulBackward0>)\n",
      "200 tensor(809952.8994, device='cuda:0', dtype=torch.float64,\n",
      "       grad_fn=<MulBackward0>)\n",
      "300 tensor(759846.6159, device='cuda:0', dtype=torch.float64,\n",
      "       grad_fn=<MulBackward0>)\n",
      "400 tensor(736958.4947, device='cuda:0', dtype=torch.float64,\n",
      "       grad_fn=<MulBackward0>)\n",
      "500 tensor(702175.7874, device='cuda:0', dtype=torch.float64,\n",
      "       grad_fn=<MulBackward0>)\n",
      "600 tensor(717635.2747, device='cuda:0', dtype=torch.float64,\n",
      "       grad_fn=<MulBackward0>)\n",
      "700 tensor(688123.0705, device='cuda:0', dtype=torch.float64,\n",
      "       grad_fn=<MulBackward0>)\n",
      "800 tensor(717636.0445, device='cuda:0', dtype=torch.float64,\n",
      "       grad_fn=<MulBackward0>)\n",
      "900 tensor(684818.1910, device='cuda:0', dtype=torch.float64,\n",
      "       grad_fn=<MulBackward0>)\n",
      "image size = 15 x 15 mm\n",
      "test samples boxed in orange\n",
      "Using device: cuda\n",
      "0 tensor(4958570.3336, device='cuda:0', dtype=torch.float64,\n",
      "       grad_fn=<MulBackward0>)\n",
      "100 tensor(1280730.4222, device='cuda:0', dtype=torch.float64,\n",
      "       grad_fn=<MulBackward0>)\n",
      "200 tensor(819765.5908, device='cuda:0', dtype=torch.float64,\n",
      "       grad_fn=<MulBackward0>)\n",
      "300 tensor(763848.5518, device='cuda:0', dtype=torch.float64,\n",
      "       grad_fn=<MulBackward0>)\n",
      "400 tensor(769118.3465, device='cuda:0', dtype=torch.float64,\n",
      "       grad_fn=<MulBackward0>)\n",
      "500 tensor(716887.6603, device='cuda:0', dtype=torch.float64,\n",
      "       grad_fn=<MulBackward0>)\n",
      "600 tensor(702385.6676, device='cuda:0', dtype=torch.float64,\n",
      "       grad_fn=<MulBackward0>)\n",
      "700 tensor(719053.6135, device='cuda:0', dtype=torch.float64,\n",
      "       grad_fn=<MulBackward0>)\n",
      "800 tensor(692908.1050, device='cuda:0', dtype=torch.float64,\n",
      "       grad_fn=<MulBackward0>)\n",
      "900 tensor(719351.6545, device='cuda:0', dtype=torch.float64,\n",
      "       grad_fn=<MulBackward0>)\n",
      "image size = 15 x 15 mm\n",
      "test samples boxed in orange\n",
      "Using device: cuda\n",
      "0 tensor(4818300.5264, device='cuda:0', dtype=torch.float64,\n",
      "       grad_fn=<MulBackward0>)\n",
      "100 tensor(1342350.9674, device='cuda:0', dtype=torch.float64,\n",
      "       grad_fn=<MulBackward0>)\n",
      "200 tensor(855168.4774, device='cuda:0', dtype=torch.float64,\n",
      "       grad_fn=<MulBackward0>)\n",
      "300 tensor(779243.5711, device='cuda:0', dtype=torch.float64,\n",
      "       grad_fn=<MulBackward0>)\n",
      "400 tensor(721834.0757, device='cuda:0', dtype=torch.float64,\n",
      "       grad_fn=<MulBackward0>)\n",
      "500 tensor(727779.8046, device='cuda:0', dtype=torch.float64,\n",
      "       grad_fn=<MulBackward0>)\n",
      "600 tensor(723468.8229, device='cuda:0', dtype=torch.float64,\n",
      "       grad_fn=<MulBackward0>)\n",
      "700 tensor(681502.3976, device='cuda:0', dtype=torch.float64,\n",
      "       grad_fn=<MulBackward0>)\n",
      "800 tensor(675947.6795, device='cuda:0', dtype=torch.float64,\n",
      "       grad_fn=<MulBackward0>)\n",
      "900 tensor(675861.4183, device='cuda:0', dtype=torch.float64,\n",
      "       grad_fn=<MulBackward0>)\n",
      "image size = 15 x 15 mm\n",
      "test samples boxed in orange\n"
     ]
    },
    {
     "name": "stderr",
     "output_type": "stream",
     "text": [
      "/global/u1/c/cedoss/PhaseSpaceReconstruction/Bmad-X/bmadx/plot.py:66: RuntimeWarning: More than 20 figures have been opened. Figures created through the pyplot interface (`matplotlib.pyplot.figure`) are retained until explicitly closed and may consume too much memory. (To control this warning, see the rcParam `figure.max_open_warning`).\n",
      "  fig, ax = plt.subplots(n_coords, n_coords, figsize=fig_size)\n"
     ]
    },
    {
     "name": "stdout",
     "output_type": "stream",
     "text": [
      "Using device: cuda\n",
      "0 tensor(4676762.2205, device='cuda:0', dtype=torch.float64,\n",
      "       grad_fn=<MulBackward0>)\n",
      "100 tensor(1185996.7642, device='cuda:0', dtype=torch.float64,\n",
      "       grad_fn=<MulBackward0>)\n",
      "200 tensor(1012076.2214, device='cuda:0', dtype=torch.float64,\n",
      "       grad_fn=<MulBackward0>)\n",
      "300 tensor(865084.9533, device='cuda:0', dtype=torch.float64,\n",
      "       grad_fn=<MulBackward0>)\n",
      "400 tensor(769542.7869, device='cuda:0', dtype=torch.float64,\n",
      "       grad_fn=<MulBackward0>)\n",
      "500 tensor(739949.4964, device='cuda:0', dtype=torch.float64,\n",
      "       grad_fn=<MulBackward0>)\n",
      "600 tensor(720967.1886, device='cuda:0', dtype=torch.float64,\n",
      "       grad_fn=<MulBackward0>)\n",
      "700 tensor(719851.8007, device='cuda:0', dtype=torch.float64,\n",
      "       grad_fn=<MulBackward0>)\n",
      "800 tensor(697005.7500, device='cuda:0', dtype=torch.float64,\n",
      "       grad_fn=<MulBackward0>)\n",
      "900 tensor(716646.8512, device='cuda:0', dtype=torch.float64,\n",
      "       grad_fn=<MulBackward0>)\n",
      "image size = 15 x 15 mm\n",
      "test samples boxed in orange\n",
      "Using device: cuda\n",
      "0 tensor(4935693.4278, device='cuda:0', dtype=torch.float64,\n",
      "       grad_fn=<MulBackward0>)\n",
      "100 tensor(1395516.6356, device='cuda:0', dtype=torch.float64,\n",
      "       grad_fn=<MulBackward0>)\n",
      "200 tensor(930825.7931, device='cuda:0', dtype=torch.float64,\n",
      "       grad_fn=<MulBackward0>)\n",
      "300 tensor(767350.0118, device='cuda:0', dtype=torch.float64,\n",
      "       grad_fn=<MulBackward0>)\n",
      "400 tensor(718190.3644, device='cuda:0', dtype=torch.float64,\n",
      "       grad_fn=<MulBackward0>)\n",
      "500 tensor(723035.6917, device='cuda:0', dtype=torch.float64,\n",
      "       grad_fn=<MulBackward0>)\n",
      "600 tensor(709789.9891, device='cuda:0', dtype=torch.float64,\n",
      "       grad_fn=<MulBackward0>)\n",
      "700 tensor(695457.9970, device='cuda:0', dtype=torch.float64,\n",
      "       grad_fn=<MulBackward0>)\n",
      "800 tensor(698801.3997, device='cuda:0', dtype=torch.float64,\n",
      "       grad_fn=<MulBackward0>)\n",
      "900 tensor(683376.5458, device='cuda:0', dtype=torch.float64,\n",
      "       grad_fn=<MulBackward0>)\n",
      "image size = 15 x 15 mm\n",
      "test samples boxed in orange\n",
      "Using device: cuda\n",
      "0 tensor(4969056.4271, device='cuda:0', dtype=torch.float64,\n",
      "       grad_fn=<MulBackward0>)\n",
      "100 tensor(1306673.5785, device='cuda:0', dtype=torch.float64,\n",
      "       grad_fn=<MulBackward0>)\n",
      "200 tensor(845868.5399, device='cuda:0', dtype=torch.float64,\n",
      "       grad_fn=<MulBackward0>)\n",
      "300 tensor(760396.9069, device='cuda:0', dtype=torch.float64,\n",
      "       grad_fn=<MulBackward0>)\n",
      "400 tensor(729797.0531, device='cuda:0', dtype=torch.float64,\n",
      "       grad_fn=<MulBackward0>)\n",
      "500 tensor(719341.1415, device='cuda:0', dtype=torch.float64,\n",
      "       grad_fn=<MulBackward0>)\n",
      "600 tensor(702915.7391, device='cuda:0', dtype=torch.float64,\n",
      "       grad_fn=<MulBackward0>)\n",
      "700 tensor(681363.3372, device='cuda:0', dtype=torch.float64,\n",
      "       grad_fn=<MulBackward0>)\n",
      "800 tensor(699568.3288, device='cuda:0', dtype=torch.float64,\n",
      "       grad_fn=<MulBackward0>)\n",
      "900 tensor(682726.6665, device='cuda:0', dtype=torch.float64,\n",
      "       grad_fn=<MulBackward0>)\n",
      "image size = 15 x 15 mm\n",
      "test samples boxed in orange\n",
      "Using device: cuda\n",
      "0 tensor(4946756.3706, device='cuda:0', dtype=torch.float64,\n",
      "       grad_fn=<MulBackward0>)\n",
      "100 tensor(1341067.8745, device='cuda:0', dtype=torch.float64,\n",
      "       grad_fn=<MulBackward0>)\n",
      "200 tensor(895660.9468, device='cuda:0', dtype=torch.float64,\n",
      "       grad_fn=<MulBackward0>)\n",
      "300 tensor(764387.0720, device='cuda:0', dtype=torch.float64,\n",
      "       grad_fn=<MulBackward0>)\n",
      "400 tensor(743389.3326, device='cuda:0', dtype=torch.float64,\n",
      "       grad_fn=<MulBackward0>)\n",
      "500 tensor(708964.2705, device='cuda:0', dtype=torch.float64,\n",
      "       grad_fn=<MulBackward0>)\n",
      "600 tensor(689673.5318, device='cuda:0', dtype=torch.float64,\n",
      "       grad_fn=<MulBackward0>)\n",
      "700 tensor(688304.5460, device='cuda:0', dtype=torch.float64,\n",
      "       grad_fn=<MulBackward0>)\n",
      "800 tensor(736239.4498, device='cuda:0', dtype=torch.float64,\n",
      "       grad_fn=<MulBackward0>)\n",
      "900 tensor(672743.6455, device='cuda:0', dtype=torch.float64,\n",
      "       grad_fn=<MulBackward0>)\n",
      "image size = 15 x 15 mm\n",
      "test samples boxed in orange\n",
      "Using device: cuda\n",
      "0 tensor(4041251.3713, device='cuda:0', dtype=torch.float64,\n",
      "       grad_fn=<MulBackward0>)\n",
      "100 tensor(980843.4112, device='cuda:0', dtype=torch.float64,\n",
      "       grad_fn=<MulBackward0>)\n",
      "200 tensor(736535.0417, device='cuda:0', dtype=torch.float64,\n",
      "       grad_fn=<MulBackward0>)\n",
      "300 tensor(718019.1466, device='cuda:0', dtype=torch.float64,\n",
      "       grad_fn=<MulBackward0>)\n",
      "400 tensor(710633.0153, device='cuda:0', dtype=torch.float64,\n",
      "       grad_fn=<MulBackward0>)\n",
      "500 tensor(702674.0332, device='cuda:0', dtype=torch.float64,\n",
      "       grad_fn=<MulBackward0>)\n",
      "600 tensor(687099.2298, device='cuda:0', dtype=torch.float64,\n",
      "       grad_fn=<MulBackward0>)\n",
      "700 tensor(691256.8894, device='cuda:0', dtype=torch.float64,\n",
      "       grad_fn=<MulBackward0>)\n",
      "800 tensor(672857.9249, device='cuda:0', dtype=torch.float64,\n",
      "       grad_fn=<MulBackward0>)\n",
      "900 tensor(670354.0783, device='cuda:0', dtype=torch.float64,\n",
      "       grad_fn=<MulBackward0>)\n",
      "image size = 15 x 15 mm\n",
      "test samples boxed in orange\n",
      "Using device: cuda\n",
      "0 tensor(nan, device='cuda:0', dtype=torch.float64, grad_fn=<MulBackward0>)\n",
      "100 tensor(nan, device='cuda:0', dtype=torch.float64, grad_fn=<MulBackward0>)\n",
      "200 tensor(nan, device='cuda:0', dtype=torch.float64, grad_fn=<MulBackward0>)\n",
      "300 tensor(nan, device='cuda:0', dtype=torch.float64, grad_fn=<MulBackward0>)\n",
      "400 tensor(nan, device='cuda:0', dtype=torch.float64, grad_fn=<MulBackward0>)\n",
      "500 tensor(nan, device='cuda:0', dtype=torch.float64, grad_fn=<MulBackward0>)\n",
      "600 tensor(nan, device='cuda:0', dtype=torch.float64, grad_fn=<MulBackward0>)\n",
      "700 tensor(nan, device='cuda:0', dtype=torch.float64, grad_fn=<MulBackward0>)\n",
      "800 tensor(nan, device='cuda:0', dtype=torch.float64, grad_fn=<MulBackward0>)\n",
      "900 tensor(nan, device='cuda:0', dtype=torch.float64, grad_fn=<MulBackward0>)\n",
      "image size = 15 x 15 mm\n",
      "test samples boxed in orange\n",
      "Error occured at step 015. Probably returned all NaN\n",
      "Using device: cuda\n",
      "0 tensor(4851100.2526, device='cuda:0', dtype=torch.float64,\n",
      "       grad_fn=<MulBackward0>)\n",
      "100 tensor(1216261.5634, device='cuda:0', dtype=torch.float64,\n",
      "       grad_fn=<MulBackward0>)\n",
      "200 tensor(857914.6972, device='cuda:0', dtype=torch.float64,\n",
      "       grad_fn=<MulBackward0>)\n",
      "300 tensor(777554.1658, device='cuda:0', dtype=torch.float64,\n",
      "       grad_fn=<MulBackward0>)\n",
      "400 tensor(745222.5376, device='cuda:0', dtype=torch.float64,\n",
      "       grad_fn=<MulBackward0>)\n",
      "500 tensor(702142.6248, device='cuda:0', dtype=torch.float64,\n",
      "       grad_fn=<MulBackward0>)\n",
      "600 tensor(698588.9225, device='cuda:0', dtype=torch.float64,\n",
      "       grad_fn=<MulBackward0>)\n",
      "700 tensor(707742.3945, device='cuda:0', dtype=torch.float64,\n",
      "       grad_fn=<MulBackward0>)\n",
      "800 tensor(684102.8857, device='cuda:0', dtype=torch.float64,\n",
      "       grad_fn=<MulBackward0>)\n",
      "900 tensor(698923.1033, device='cuda:0', dtype=torch.float64,\n",
      "       grad_fn=<MulBackward0>)\n",
      "image size = 15 x 15 mm\n",
      "test samples boxed in orange\n",
      "Using device: cuda\n",
      "0 tensor(4984776.6448, device='cuda:0', dtype=torch.float64,\n",
      "       grad_fn=<MulBackward0>)\n",
      "100 tensor(1299021.2415, device='cuda:0', dtype=torch.float64,\n",
      "       grad_fn=<MulBackward0>)\n",
      "200 tensor(854483.2900, device='cuda:0', dtype=torch.float64,\n",
      "       grad_fn=<MulBackward0>)\n",
      "300 tensor(758845.9123, device='cuda:0', dtype=torch.float64,\n",
      "       grad_fn=<MulBackward0>)\n",
      "400 tensor(739219.2572, device='cuda:0', dtype=torch.float64,\n",
      "       grad_fn=<MulBackward0>)\n",
      "500 tensor(708087.0515, device='cuda:0', dtype=torch.float64,\n",
      "       grad_fn=<MulBackward0>)\n",
      "600 tensor(701033.4806, device='cuda:0', dtype=torch.float64,\n",
      "       grad_fn=<MulBackward0>)\n",
      "700 tensor(706949.5317, device='cuda:0', dtype=torch.float64,\n",
      "       grad_fn=<MulBackward0>)\n",
      "800 tensor(675815.0483, device='cuda:0', dtype=torch.float64,\n",
      "       grad_fn=<MulBackward0>)\n",
      "900 tensor(675608.9769, device='cuda:0', dtype=torch.float64,\n",
      "       grad_fn=<MulBackward0>)\n",
      "image size = 15 x 15 mm\n",
      "test samples boxed in orange\n",
      "Using device: cuda\n",
      "0 tensor(4443757.7678, device='cuda:0', dtype=torch.float64,\n",
      "       grad_fn=<MulBackward0>)\n",
      "100 tensor(3336403.1655, device='cuda:0', dtype=torch.float64,\n",
      "       grad_fn=<MulBackward0>)\n",
      "200 tensor(1372806.9817, device='cuda:0', dtype=torch.float64,\n",
      "       grad_fn=<MulBackward0>)\n",
      "300 tensor(821802.2119, device='cuda:0', dtype=torch.float64,\n",
      "       grad_fn=<MulBackward0>)\n",
      "400 tensor(818944.2172, device='cuda:0', dtype=torch.float64,\n",
      "       grad_fn=<MulBackward0>)\n",
      "500 tensor(730612.0408, device='cuda:0', dtype=torch.float64,\n",
      "       grad_fn=<MulBackward0>)\n",
      "600 tensor(747322.0771, device='cuda:0', dtype=torch.float64,\n",
      "       grad_fn=<MulBackward0>)\n",
      "700 tensor(700494.6397, device='cuda:0', dtype=torch.float64,\n",
      "       grad_fn=<MulBackward0>)\n",
      "800 tensor(694999.0976, device='cuda:0', dtype=torch.float64,\n",
      "       grad_fn=<MulBackward0>)\n",
      "900 tensor(694071.7085, device='cuda:0', dtype=torch.float64,\n",
      "       grad_fn=<MulBackward0>)\n",
      "image size = 15 x 15 mm\n",
      "test samples boxed in orange\n",
      "Using device: cuda\n",
      "0 tensor(4993288.1519, device='cuda:0', dtype=torch.float64,\n",
      "       grad_fn=<MulBackward0>)\n",
      "100 tensor(3330576.4601, device='cuda:0', dtype=torch.float64,\n",
      "       grad_fn=<MulBackward0>)\n",
      "200 tensor(1111577.4629, device='cuda:0', dtype=torch.float64,\n",
      "       grad_fn=<MulBackward0>)\n",
      "300 tensor(828827.7476, device='cuda:0', dtype=torch.float64,\n",
      "       grad_fn=<MulBackward0>)\n",
      "400 tensor(829584.7725, device='cuda:0', dtype=torch.float64,\n",
      "       grad_fn=<MulBackward0>)\n",
      "500 tensor(724706.8857, device='cuda:0', dtype=torch.float64,\n",
      "       grad_fn=<MulBackward0>)\n",
      "600 tensor(726663.8020, device='cuda:0', dtype=torch.float64,\n",
      "       grad_fn=<MulBackward0>)\n",
      "700 tensor(693737.1255, device='cuda:0', dtype=torch.float64,\n",
      "       grad_fn=<MulBackward0>)\n",
      "800 tensor(713749.6389, device='cuda:0', dtype=torch.float64,\n",
      "       grad_fn=<MulBackward0>)\n",
      "900 tensor(687076.0707, device='cuda:0', dtype=torch.float64,\n",
      "       grad_fn=<MulBackward0>)\n",
      "image size = 15 x 15 mm\n",
      "test samples boxed in orange\n",
      "Using device: cuda\n",
      "0 tensor(3853084.3660, device='cuda:0', dtype=torch.float64,\n",
      "       grad_fn=<MulBackward0>)\n",
      "100 tensor(1100468.1545, device='cuda:0', dtype=torch.float64,\n",
      "       grad_fn=<MulBackward0>)\n",
      "200 tensor(966765.7423, device='cuda:0', dtype=torch.float64,\n",
      "       grad_fn=<MulBackward0>)\n",
      "300 tensor(791629.6827, device='cuda:0', dtype=torch.float64,\n",
      "       grad_fn=<MulBackward0>)\n",
      "400 tensor(774753.1301, device='cuda:0', dtype=torch.float64,\n",
      "       grad_fn=<MulBackward0>)\n",
      "500 tensor(772090.6359, device='cuda:0', dtype=torch.float64,\n",
      "       grad_fn=<MulBackward0>)\n",
      "600 tensor(727955.2671, device='cuda:0', dtype=torch.float64,\n",
      "       grad_fn=<MulBackward0>)\n",
      "700 tensor(717177.7799, device='cuda:0', dtype=torch.float64,\n",
      "       grad_fn=<MulBackward0>)\n",
      "800 tensor(706250.3041, device='cuda:0', dtype=torch.float64,\n",
      "       grad_fn=<MulBackward0>)\n",
      "900 tensor(714290.0223, device='cuda:0', dtype=torch.float64,\n",
      "       grad_fn=<MulBackward0>)\n",
      "image size = 15 x 15 mm\n",
      "test samples boxed in orange\n",
      "Using device: cuda\n",
      "0 tensor(3971095.1027, device='cuda:0', dtype=torch.float64,\n",
      "       grad_fn=<MulBackward0>)\n",
      "100 tensor(2292029.6393, device='cuda:0', dtype=torch.float64,\n",
      "       grad_fn=<MulBackward0>)\n",
      "200 tensor(880871.6038, device='cuda:0', dtype=torch.float64,\n",
      "       grad_fn=<MulBackward0>)\n",
      "300 tensor(813800.3029, device='cuda:0', dtype=torch.float64,\n",
      "       grad_fn=<MulBackward0>)\n",
      "400 tensor(732297.6779, device='cuda:0', dtype=torch.float64,\n",
      "       grad_fn=<MulBackward0>)\n",
      "500 tensor(716169.7903, device='cuda:0', dtype=torch.float64,\n",
      "       grad_fn=<MulBackward0>)\n",
      "600 tensor(718268.6218, device='cuda:0', dtype=torch.float64,\n",
      "       grad_fn=<MulBackward0>)\n",
      "700 tensor(780350.7639, device='cuda:0', dtype=torch.float64,\n",
      "       grad_fn=<MulBackward0>)\n",
      "800 tensor(700769.5993, device='cuda:0', dtype=torch.float64,\n",
      "       grad_fn=<MulBackward0>)\n",
      "900 tensor(689307.2373, device='cuda:0', dtype=torch.float64,\n",
      "       grad_fn=<MulBackward0>)\n",
      "image size = 15 x 15 mm\n",
      "test samples boxed in orange\n",
      "Using device: cuda\n",
      "0 tensor(4086355.7408, device='cuda:0', dtype=torch.float64,\n",
      "       grad_fn=<MulBackward0>)\n",
      "100 tensor(1162891.1734, device='cuda:0', dtype=torch.float64,\n",
      "       grad_fn=<MulBackward0>)\n",
      "200 tensor(795536.5964, device='cuda:0', dtype=torch.float64,\n",
      "       grad_fn=<MulBackward0>)\n",
      "300 tensor(766416.1960, device='cuda:0', dtype=torch.float64,\n",
      "       grad_fn=<MulBackward0>)\n",
      "400 tensor(708441.4072, device='cuda:0', dtype=torch.float64,\n",
      "       grad_fn=<MulBackward0>)\n",
      "500 tensor(707551.0268, device='cuda:0', dtype=torch.float64,\n",
      "       grad_fn=<MulBackward0>)\n",
      "600 tensor(692243.5972, device='cuda:0', dtype=torch.float64,\n",
      "       grad_fn=<MulBackward0>)\n",
      "700 tensor(684118.9250, device='cuda:0', dtype=torch.float64,\n",
      "       grad_fn=<MulBackward0>)\n",
      "800 tensor(671664.7179, device='cuda:0', dtype=torch.float64,\n",
      "       grad_fn=<MulBackward0>)\n",
      "900 tensor(681448.8899, device='cuda:0', dtype=torch.float64,\n",
      "       grad_fn=<MulBackward0>)\n",
      "image size = 15 x 15 mm\n",
      "test samples boxed in orange\n",
      "Using device: cuda\n",
      "0 tensor(4900332.0609, device='cuda:0', dtype=torch.float64,\n",
      "       grad_fn=<MulBackward0>)\n",
      "100 tensor(1705648.2504, device='cuda:0', dtype=torch.float64,\n",
      "       grad_fn=<MulBackward0>)\n",
      "200 tensor(918822.6732, device='cuda:0', dtype=torch.float64,\n",
      "       grad_fn=<MulBackward0>)\n",
      "300 tensor(779013.4366, device='cuda:0', dtype=torch.float64,\n",
      "       grad_fn=<MulBackward0>)\n",
      "400 tensor(717912.2582, device='cuda:0', dtype=torch.float64,\n",
      "       grad_fn=<MulBackward0>)\n",
      "500 tensor(698465.5556, device='cuda:0', dtype=torch.float64,\n",
      "       grad_fn=<MulBackward0>)\n",
      "600 tensor(693450.8331, device='cuda:0', dtype=torch.float64,\n",
      "       grad_fn=<MulBackward0>)\n",
      "700 tensor(679699.2890, device='cuda:0', dtype=torch.float64,\n",
      "       grad_fn=<MulBackward0>)\n",
      "800 tensor(682461.4676, device='cuda:0', dtype=torch.float64,\n",
      "       grad_fn=<MulBackward0>)\n",
      "900 tensor(662420.8410, device='cuda:0', dtype=torch.float64,\n",
      "       grad_fn=<MulBackward0>)\n",
      "image size = 15 x 15 mm\n",
      "test samples boxed in orange\n",
      "Using device: cuda\n",
      "0 tensor(4910026.6118, device='cuda:0', dtype=torch.float64,\n",
      "       grad_fn=<MulBackward0>)\n",
      "100 tensor(1265304.2245, device='cuda:0', dtype=torch.float64,\n",
      "       grad_fn=<MulBackward0>)\n",
      "200 tensor(1097346.0531, device='cuda:0', dtype=torch.float64,\n",
      "       grad_fn=<MulBackward0>)\n",
      "300 tensor(1036086.1719, device='cuda:0', dtype=torch.float64,\n",
      "       grad_fn=<MulBackward0>)\n",
      "400 tensor(866124.9918, device='cuda:0', dtype=torch.float64,\n",
      "       grad_fn=<MulBackward0>)\n",
      "500 tensor(804461.7879, device='cuda:0', dtype=torch.float64,\n",
      "       grad_fn=<MulBackward0>)\n",
      "600 tensor(763860.9225, device='cuda:0', dtype=torch.float64,\n",
      "       grad_fn=<MulBackward0>)\n",
      "700 tensor(757314.2678, device='cuda:0', dtype=torch.float64,\n",
      "       grad_fn=<MulBackward0>)\n",
      "800 tensor(738965.7844, device='cuda:0', dtype=torch.float64,\n",
      "       grad_fn=<MulBackward0>)\n",
      "900 tensor(709583.2041, device='cuda:0', dtype=torch.float64,\n",
      "       grad_fn=<MulBackward0>)\n",
      "image size = 15 x 15 mm\n",
      "test samples boxed in orange\n",
      "Using device: cuda\n",
      "0 tensor(4924486.9937, device='cuda:0', dtype=torch.float64,\n",
      "       grad_fn=<MulBackward0>)\n",
      "100 tensor(1379540.5444, device='cuda:0', dtype=torch.float64,\n",
      "       grad_fn=<MulBackward0>)\n",
      "200 tensor(919913.4981, device='cuda:0', dtype=torch.float64,\n",
      "       grad_fn=<MulBackward0>)\n",
      "300 tensor(789349.0629, device='cuda:0', dtype=torch.float64,\n",
      "       grad_fn=<MulBackward0>)\n",
      "400 tensor(760103.3503, device='cuda:0', dtype=torch.float64,\n",
      "       grad_fn=<MulBackward0>)\n",
      "500 tensor(735635.7698, device='cuda:0', dtype=torch.float64,\n",
      "       grad_fn=<MulBackward0>)\n",
      "600 tensor(715695.8104, device='cuda:0', dtype=torch.float64,\n",
      "       grad_fn=<MulBackward0>)\n",
      "700 tensor(705693.3710, device='cuda:0', dtype=torch.float64,\n",
      "       grad_fn=<MulBackward0>)\n",
      "800 tensor(722567.6938, device='cuda:0', dtype=torch.float64,\n",
      "       grad_fn=<MulBackward0>)\n",
      "900 tensor(692941.4954, device='cuda:0', dtype=torch.float64,\n",
      "       grad_fn=<MulBackward0>)\n",
      "image size = 15 x 15 mm\n",
      "test samples boxed in orange\n",
      "Using device: cuda\n",
      "0 tensor(4643136.3358, device='cuda:0', dtype=torch.float64,\n",
      "       grad_fn=<MulBackward0>)\n",
      "100 tensor(1325909.9079, device='cuda:0', dtype=torch.float64,\n",
      "       grad_fn=<MulBackward0>)\n",
      "200 tensor(842111.9254, device='cuda:0', dtype=torch.float64,\n",
      "       grad_fn=<MulBackward0>)\n",
      "300 tensor(773913.8361, device='cuda:0', dtype=torch.float64,\n",
      "       grad_fn=<MulBackward0>)\n",
      "400 tensor(753784.8198, device='cuda:0', dtype=torch.float64,\n",
      "       grad_fn=<MulBackward0>)\n",
      "500 tensor(712572.9223, device='cuda:0', dtype=torch.float64,\n",
      "       grad_fn=<MulBackward0>)\n",
      "600 tensor(703192.5230, device='cuda:0', dtype=torch.float64,\n",
      "       grad_fn=<MulBackward0>)\n",
      "700 tensor(696549.8307, device='cuda:0', dtype=torch.float64,\n",
      "       grad_fn=<MulBackward0>)\n",
      "800 tensor(673992.6846, device='cuda:0', dtype=torch.float64,\n",
      "       grad_fn=<MulBackward0>)\n",
      "900 tensor(697827.4375, device='cuda:0', dtype=torch.float64,\n",
      "       grad_fn=<MulBackward0>)\n",
      "image size = 15 x 15 mm\n",
      "test samples boxed in orange\n",
      "Using device: cuda\n",
      "0 tensor(5000419.2409, device='cuda:0', dtype=torch.float64,\n",
      "       grad_fn=<MulBackward0>)\n",
      "100 tensor(3536325.6528, device='cuda:0', dtype=torch.float64,\n",
      "       grad_fn=<MulBackward0>)\n",
      "200 tensor(3283854.1432, device='cuda:0', dtype=torch.float64,\n",
      "       grad_fn=<MulBackward0>)\n",
      "300 tensor(1209607.9564, device='cuda:0', dtype=torch.float64,\n",
      "       grad_fn=<MulBackward0>)\n",
      "400 tensor(981114.0834, device='cuda:0', dtype=torch.float64,\n",
      "       grad_fn=<MulBackward0>)\n",
      "500 tensor(794144.6239, device='cuda:0', dtype=torch.float64,\n",
      "       grad_fn=<MulBackward0>)\n",
      "600 tensor(730208.5946, device='cuda:0', dtype=torch.float64,\n",
      "       grad_fn=<MulBackward0>)\n",
      "700 tensor(709571.2431, device='cuda:0', dtype=torch.float64,\n",
      "       grad_fn=<MulBackward0>)\n",
      "800 tensor(702273.0958, device='cuda:0', dtype=torch.float64,\n",
      "       grad_fn=<MulBackward0>)\n",
      "900 tensor(694725.8577, device='cuda:0', dtype=torch.float64,\n",
      "       grad_fn=<MulBackward0>)\n",
      "image size = 15 x 15 mm\n",
      "test samples boxed in orange\n",
      "Using device: cuda\n",
      "0 tensor(4547252.3179, device='cuda:0', dtype=torch.float64,\n",
      "       grad_fn=<MulBackward0>)\n",
      "100 tensor(1216237.5421, device='cuda:0', dtype=torch.float64,\n",
      "       grad_fn=<MulBackward0>)\n",
      "200 tensor(831659.2325, device='cuda:0', dtype=torch.float64,\n",
      "       grad_fn=<MulBackward0>)\n",
      "300 tensor(778629.8217, device='cuda:0', dtype=torch.float64,\n",
      "       grad_fn=<MulBackward0>)\n",
      "400 tensor(733096.9197, device='cuda:0', dtype=torch.float64,\n",
      "       grad_fn=<MulBackward0>)\n",
      "500 tensor(749493.1387, device='cuda:0', dtype=torch.float64,\n",
      "       grad_fn=<MulBackward0>)\n",
      "600 tensor(706223.3146, device='cuda:0', dtype=torch.float64,\n",
      "       grad_fn=<MulBackward0>)\n",
      "700 tensor(714880.6512, device='cuda:0', dtype=torch.float64,\n",
      "       grad_fn=<MulBackward0>)\n",
      "800 tensor(697651.2476, device='cuda:0', dtype=torch.float64,\n",
      "       grad_fn=<MulBackward0>)\n",
      "900 tensor(699106.2100, device='cuda:0', dtype=torch.float64,\n",
      "       grad_fn=<MulBackward0>)\n",
      "image size = 15 x 15 mm\n",
      "test samples boxed in orange\n",
      "Using device: cuda\n",
      "0 tensor(4670014.1994, device='cuda:0', dtype=torch.float64,\n",
      "       grad_fn=<MulBackward0>)\n",
      "100 tensor(1356211.1584, device='cuda:0', dtype=torch.float64,\n",
      "       grad_fn=<MulBackward0>)\n",
      "200 tensor(1018088.3950, device='cuda:0', dtype=torch.float64,\n",
      "       grad_fn=<MulBackward0>)\n",
      "300 tensor(824267.5338, device='cuda:0', dtype=torch.float64,\n",
      "       grad_fn=<MulBackward0>)\n",
      "400 tensor(739241.2992, device='cuda:0', dtype=torch.float64,\n",
      "       grad_fn=<MulBackward0>)\n",
      "500 tensor(729504.5350, device='cuda:0', dtype=torch.float64,\n",
      "       grad_fn=<MulBackward0>)\n",
      "600 tensor(715492.9099, device='cuda:0', dtype=torch.float64,\n",
      "       grad_fn=<MulBackward0>)\n",
      "700 tensor(730512.1279, device='cuda:0', dtype=torch.float64,\n",
      "       grad_fn=<MulBackward0>)\n",
      "800 tensor(701681.7708, device='cuda:0', dtype=torch.float64,\n",
      "       grad_fn=<MulBackward0>)\n",
      "900 tensor(679755.2095, device='cuda:0', dtype=torch.float64,\n",
      "       grad_fn=<MulBackward0>)\n",
      "image size = 15 x 15 mm\n",
      "test samples boxed in orange\n",
      "Using device: cuda\n",
      "0 tensor(4695411.6629, device='cuda:0', dtype=torch.float64,\n",
      "       grad_fn=<MulBackward0>)\n",
      "100 tensor(1419364.5963, device='cuda:0', dtype=torch.float64,\n",
      "       grad_fn=<MulBackward0>)\n",
      "200 tensor(1068196.0829, device='cuda:0', dtype=torch.float64,\n",
      "       grad_fn=<MulBackward0>)\n",
      "300 tensor(934621.9120, device='cuda:0', dtype=torch.float64,\n",
      "       grad_fn=<MulBackward0>)\n",
      "400 tensor(751839.5554, device='cuda:0', dtype=torch.float64,\n",
      "       grad_fn=<MulBackward0>)\n",
      "500 tensor(722126.4026, device='cuda:0', dtype=torch.float64,\n",
      "       grad_fn=<MulBackward0>)\n",
      "600 tensor(721089.7960, device='cuda:0', dtype=torch.float64,\n",
      "       grad_fn=<MulBackward0>)\n",
      "700 tensor(711172.5365, device='cuda:0', dtype=torch.float64,\n",
      "       grad_fn=<MulBackward0>)\n",
      "800 tensor(693069.5468, device='cuda:0', dtype=torch.float64,\n",
      "       grad_fn=<MulBackward0>)\n",
      "900 tensor(698647.4836, device='cuda:0', dtype=torch.float64,\n",
      "       grad_fn=<MulBackward0>)\n",
      "image size = 15 x 15 mm\n",
      "test samples boxed in orange\n",
      "Using device: cuda\n",
      "0 tensor(5000419.2158, device='cuda:0', dtype=torch.float64,\n",
      "       grad_fn=<MulBackward0>)\n",
      "100 tensor(1595964.7753, device='cuda:0', dtype=torch.float64,\n",
      "       grad_fn=<MulBackward0>)\n",
      "200 tensor(1024198.0858, device='cuda:0', dtype=torch.float64,\n",
      "       grad_fn=<MulBackward0>)\n",
      "300 tensor(836657.8607, device='cuda:0', dtype=torch.float64,\n",
      "       grad_fn=<MulBackward0>)\n",
      "400 tensor(788645.0845, device='cuda:0', dtype=torch.float64,\n",
      "       grad_fn=<MulBackward0>)\n",
      "500 tensor(739904.1831, device='cuda:0', dtype=torch.float64,\n",
      "       grad_fn=<MulBackward0>)\n",
      "600 tensor(771707.6872, device='cuda:0', dtype=torch.float64,\n",
      "       grad_fn=<MulBackward0>)\n",
      "700 tensor(722332.8349, device='cuda:0', dtype=torch.float64,\n",
      "       grad_fn=<MulBackward0>)\n",
      "800 tensor(712156.2539, device='cuda:0', dtype=torch.float64,\n",
      "       grad_fn=<MulBackward0>)\n",
      "900 tensor(702772.8330, device='cuda:0', dtype=torch.float64,\n",
      "       grad_fn=<MulBackward0>)\n",
      "image size = 15 x 15 mm\n",
      "test samples boxed in orange\n",
      "Using device: cuda\n",
      "0 tensor(3648730.7690, device='cuda:0', dtype=torch.float64,\n",
      "       grad_fn=<MulBackward0>)\n",
      "100 tensor(1067144.5863, device='cuda:0', dtype=torch.float64,\n",
      "       grad_fn=<MulBackward0>)\n",
      "200 tensor(822718.3637, device='cuda:0', dtype=torch.float64,\n",
      "       grad_fn=<MulBackward0>)\n",
      "300 tensor(747221.4013, device='cuda:0', dtype=torch.float64,\n",
      "       grad_fn=<MulBackward0>)\n",
      "400 tensor(721017.9265, device='cuda:0', dtype=torch.float64,\n",
      "       grad_fn=<MulBackward0>)\n",
      "500 tensor(735950.5006, device='cuda:0', dtype=torch.float64,\n",
      "       grad_fn=<MulBackward0>)\n",
      "600 tensor(701243.8196, device='cuda:0', dtype=torch.float64,\n",
      "       grad_fn=<MulBackward0>)\n",
      "700 tensor(709990.7313, device='cuda:0', dtype=torch.float64,\n",
      "       grad_fn=<MulBackward0>)\n",
      "800 tensor(681222.2907, device='cuda:0', dtype=torch.float64,\n",
      "       grad_fn=<MulBackward0>)\n",
      "900 tensor(706715.5074, device='cuda:0', dtype=torch.float64,\n",
      "       grad_fn=<MulBackward0>)\n",
      "image size = 15 x 15 mm\n",
      "test samples boxed in orange\n",
      "Using device: cuda\n",
      "0 tensor(4606511.0310, device='cuda:0', dtype=torch.float64,\n",
      "       grad_fn=<MulBackward0>)\n",
      "100 tensor(1077661.5389, device='cuda:0', dtype=torch.float64,\n",
      "       grad_fn=<MulBackward0>)\n",
      "200 tensor(784473.9863, device='cuda:0', dtype=torch.float64,\n",
      "       grad_fn=<MulBackward0>)\n",
      "300 tensor(738790.1962, device='cuda:0', dtype=torch.float64,\n",
      "       grad_fn=<MulBackward0>)\n",
      "400 tensor(732202.3577, device='cuda:0', dtype=torch.float64,\n",
      "       grad_fn=<MulBackward0>)\n",
      "500 tensor(698848.0629, device='cuda:0', dtype=torch.float64,\n",
      "       grad_fn=<MulBackward0>)\n",
      "600 tensor(691652.1643, device='cuda:0', dtype=torch.float64,\n",
      "       grad_fn=<MulBackward0>)\n",
      "700 tensor(689580.8379, device='cuda:0', dtype=torch.float64,\n",
      "       grad_fn=<MulBackward0>)\n",
      "800 tensor(669741.8526, device='cuda:0', dtype=torch.float64,\n",
      "       grad_fn=<MulBackward0>)\n",
      "900 tensor(667024.6487, device='cuda:0', dtype=torch.float64,\n",
      "       grad_fn=<MulBackward0>)\n",
      "image size = 15 x 15 mm\n",
      "test samples boxed in orange\n",
      "Using device: cuda\n",
      "0 tensor(nan, device='cuda:0', dtype=torch.float64, grad_fn=<MulBackward0>)\n",
      "100 tensor(nan, device='cuda:0', dtype=torch.float64, grad_fn=<MulBackward0>)\n",
      "200 tensor(nan, device='cuda:0', dtype=torch.float64, grad_fn=<MulBackward0>)\n",
      "300 tensor(nan, device='cuda:0', dtype=torch.float64, grad_fn=<MulBackward0>)\n",
      "400 tensor(nan, device='cuda:0', dtype=torch.float64, grad_fn=<MulBackward0>)\n",
      "500 tensor(nan, device='cuda:0', dtype=torch.float64, grad_fn=<MulBackward0>)\n",
      "600 tensor(nan, device='cuda:0', dtype=torch.float64, grad_fn=<MulBackward0>)\n",
      "700 tensor(nan, device='cuda:0', dtype=torch.float64, grad_fn=<MulBackward0>)\n",
      "800 tensor(nan, device='cuda:0', dtype=torch.float64, grad_fn=<MulBackward0>)\n",
      "900 tensor(nan, device='cuda:0', dtype=torch.float64, grad_fn=<MulBackward0>)\n",
      "image size = 15 x 15 mm\n",
      "test samples boxed in orange\n",
      "Error occured at step 034. Probably returned all NaN\n",
      "Using device: cuda\n",
      "0 tensor(5000417.9084, device='cuda:0', dtype=torch.float64,\n",
      "       grad_fn=<MulBackward0>)\n",
      "100 tensor(2452879.2714, device='cuda:0', dtype=torch.float64,\n",
      "       grad_fn=<MulBackward0>)\n",
      "200 tensor(1003410.1033, device='cuda:0', dtype=torch.float64,\n",
      "       grad_fn=<MulBackward0>)\n",
      "300 tensor(771932.4670, device='cuda:0', dtype=torch.float64,\n",
      "       grad_fn=<MulBackward0>)\n",
      "400 tensor(742591.2120, device='cuda:0', dtype=torch.float64,\n",
      "       grad_fn=<MulBackward0>)\n",
      "500 tensor(721103.6443, device='cuda:0', dtype=torch.float64,\n",
      "       grad_fn=<MulBackward0>)\n",
      "600 tensor(713253.3583, device='cuda:0', dtype=torch.float64,\n",
      "       grad_fn=<MulBackward0>)\n",
      "700 tensor(739370.0039, device='cuda:0', dtype=torch.float64,\n",
      "       grad_fn=<MulBackward0>)\n",
      "800 tensor(697819.3175, device='cuda:0', dtype=torch.float64,\n",
      "       grad_fn=<MulBackward0>)\n",
      "900 tensor(686735.1242, device='cuda:0', dtype=torch.float64,\n",
      "       grad_fn=<MulBackward0>)\n",
      "image size = 15 x 15 mm\n",
      "test samples boxed in orange\n",
      "Using device: cuda\n",
      "0 tensor(5000376.6823, device='cuda:0', dtype=torch.float64,\n",
      "       grad_fn=<MulBackward0>)\n",
      "100 tensor(1371285.9156, device='cuda:0', dtype=torch.float64,\n",
      "       grad_fn=<MulBackward0>)\n",
      "200 tensor(1021250.6658, device='cuda:0', dtype=torch.float64,\n",
      "       grad_fn=<MulBackward0>)\n",
      "300 tensor(769832.3035, device='cuda:0', dtype=torch.float64,\n",
      "       grad_fn=<MulBackward0>)\n",
      "400 tensor(716737.2189, device='cuda:0', dtype=torch.float64,\n",
      "       grad_fn=<MulBackward0>)\n",
      "500 tensor(737260.0727, device='cuda:0', dtype=torch.float64,\n",
      "       grad_fn=<MulBackward0>)\n",
      "600 tensor(688839.2064, device='cuda:0', dtype=torch.float64,\n",
      "       grad_fn=<MulBackward0>)\n",
      "700 tensor(682982.0637, device='cuda:0', dtype=torch.float64,\n",
      "       grad_fn=<MulBackward0>)\n",
      "800 tensor(683148.6065, device='cuda:0', dtype=torch.float64,\n",
      "       grad_fn=<MulBackward0>)\n",
      "900 tensor(683639.8585, device='cuda:0', dtype=torch.float64,\n",
      "       grad_fn=<MulBackward0>)\n",
      "image size = 15 x 15 mm\n",
      "test samples boxed in orange\n",
      "Using device: cuda\n",
      "0 tensor(4792966.4779, device='cuda:0', dtype=torch.float64,\n",
      "       grad_fn=<MulBackward0>)\n",
      "100 tensor(1476605.9808, device='cuda:0', dtype=torch.float64,\n",
      "       grad_fn=<MulBackward0>)\n",
      "200 tensor(917590.2144, device='cuda:0', dtype=torch.float64,\n",
      "       grad_fn=<MulBackward0>)\n",
      "300 tensor(767130.2449, device='cuda:0', dtype=torch.float64,\n",
      "       grad_fn=<MulBackward0>)\n",
      "400 tensor(749857.8122, device='cuda:0', dtype=torch.float64,\n",
      "       grad_fn=<MulBackward0>)\n",
      "500 tensor(709832.5691, device='cuda:0', dtype=torch.float64,\n",
      "       grad_fn=<MulBackward0>)\n",
      "600 tensor(728052.7400, device='cuda:0', dtype=torch.float64,\n",
      "       grad_fn=<MulBackward0>)\n",
      "700 tensor(738486.8257, device='cuda:0', dtype=torch.float64,\n",
      "       grad_fn=<MulBackward0>)\n",
      "800 tensor(748212.7405, device='cuda:0', dtype=torch.float64,\n",
      "       grad_fn=<MulBackward0>)\n",
      "900 tensor(716501.7853, device='cuda:0', dtype=torch.float64,\n",
      "       grad_fn=<MulBackward0>)\n",
      "image size = 15 x 15 mm\n",
      "test samples boxed in orange\n",
      "Using device: cuda\n",
      "0 tensor(4975549.1863, device='cuda:0', dtype=torch.float64,\n",
      "       grad_fn=<MulBackward0>)\n",
      "100 tensor(1222122.6928, device='cuda:0', dtype=torch.float64,\n",
      "       grad_fn=<MulBackward0>)\n",
      "200 tensor(1014096.8677, device='cuda:0', dtype=torch.float64,\n",
      "       grad_fn=<MulBackward0>)\n",
      "300 tensor(820038.3496, device='cuda:0', dtype=torch.float64,\n",
      "       grad_fn=<MulBackward0>)\n",
      "400 tensor(778025.5256, device='cuda:0', dtype=torch.float64,\n",
      "       grad_fn=<MulBackward0>)\n",
      "500 tensor(757938.2290, device='cuda:0', dtype=torch.float64,\n",
      "       grad_fn=<MulBackward0>)\n",
      "600 tensor(725461.8923, device='cuda:0', dtype=torch.float64,\n",
      "       grad_fn=<MulBackward0>)\n",
      "700 tensor(719855.5574, device='cuda:0', dtype=torch.float64,\n",
      "       grad_fn=<MulBackward0>)\n",
      "800 tensor(714114.8581, device='cuda:0', dtype=torch.float64,\n",
      "       grad_fn=<MulBackward0>)\n",
      "900 tensor(705374.2036, device='cuda:0', dtype=torch.float64,\n",
      "       grad_fn=<MulBackward0>)\n",
      "image size = 15 x 15 mm\n",
      "test samples boxed in orange\n",
      "Using device: cuda\n",
      "0 tensor(4787083.1320, device='cuda:0', dtype=torch.float64,\n",
      "       grad_fn=<MulBackward0>)\n",
      "100 tensor(1251316.1966, device='cuda:0', dtype=torch.float64,\n",
      "       grad_fn=<MulBackward0>)\n",
      "200 tensor(894921.9275, device='cuda:0', dtype=torch.float64,\n",
      "       grad_fn=<MulBackward0>)\n",
      "300 tensor(788953.6646, device='cuda:0', dtype=torch.float64,\n",
      "       grad_fn=<MulBackward0>)\n",
      "400 tensor(744463.2154, device='cuda:0', dtype=torch.float64,\n",
      "       grad_fn=<MulBackward0>)\n",
      "500 tensor(723214.8103, device='cuda:0', dtype=torch.float64,\n",
      "       grad_fn=<MulBackward0>)\n",
      "600 tensor(700196.1201, device='cuda:0', dtype=torch.float64,\n",
      "       grad_fn=<MulBackward0>)\n",
      "700 tensor(684628.3779, device='cuda:0', dtype=torch.float64,\n",
      "       grad_fn=<MulBackward0>)\n",
      "800 tensor(687169.0613, device='cuda:0', dtype=torch.float64,\n",
      "       grad_fn=<MulBackward0>)\n",
      "900 tensor(670178.2685, device='cuda:0', dtype=torch.float64,\n",
      "       grad_fn=<MulBackward0>)\n",
      "image size = 15 x 15 mm\n",
      "test samples boxed in orange\n",
      "Using device: cuda\n",
      "0 tensor(5000418.6214, device='cuda:0', dtype=torch.float64,\n",
      "       grad_fn=<MulBackward0>)\n",
      "100 tensor(nan, device='cuda:0', dtype=torch.float64, grad_fn=<MulBackward0>)\n",
      "200 tensor(nan, device='cuda:0', dtype=torch.float64, grad_fn=<MulBackward0>)\n",
      "300 tensor(nan, device='cuda:0', dtype=torch.float64, grad_fn=<MulBackward0>)\n",
      "400 tensor(nan, device='cuda:0', dtype=torch.float64, grad_fn=<MulBackward0>)\n",
      "500 tensor(nan, device='cuda:0', dtype=torch.float64, grad_fn=<MulBackward0>)\n",
      "600 tensor(nan, device='cuda:0', dtype=torch.float64, grad_fn=<MulBackward0>)\n",
      "700 tensor(nan, device='cuda:0', dtype=torch.float64, grad_fn=<MulBackward0>)\n",
      "800 tensor(nan, device='cuda:0', dtype=torch.float64, grad_fn=<MulBackward0>)\n",
      "900 tensor(nan, device='cuda:0', dtype=torch.float64, grad_fn=<MulBackward0>)\n",
      "image size = 15 x 15 mm\n",
      "test samples boxed in orange\n",
      "Error occured at step 040. Probably returned all NaN\n",
      "Using device: cuda\n",
      "0 tensor(4599451.1828, device='cuda:0', dtype=torch.float64,\n",
      "       grad_fn=<MulBackward0>)\n",
      "100 tensor(1149140.3170, device='cuda:0', dtype=torch.float64,\n",
      "       grad_fn=<MulBackward0>)\n",
      "200 tensor(1087800.5121, device='cuda:0', dtype=torch.float64,\n",
      "       grad_fn=<MulBackward0>)\n",
      "300 tensor(1038243.9015, device='cuda:0', dtype=torch.float64,\n",
      "       grad_fn=<MulBackward0>)\n",
      "400 tensor(931005.6098, device='cuda:0', dtype=torch.float64,\n",
      "       grad_fn=<MulBackward0>)\n",
      "500 tensor(739728.7889, device='cuda:0', dtype=torch.float64,\n",
      "       grad_fn=<MulBackward0>)\n",
      "600 tensor(733801.0581, device='cuda:0', dtype=torch.float64,\n",
      "       grad_fn=<MulBackward0>)\n",
      "700 tensor(691244.7463, device='cuda:0', dtype=torch.float64,\n",
      "       grad_fn=<MulBackward0>)\n",
      "800 tensor(673961.9131, device='cuda:0', dtype=torch.float64,\n",
      "       grad_fn=<MulBackward0>)\n",
      "900 tensor(679743.3690, device='cuda:0', dtype=torch.float64,\n",
      "       grad_fn=<MulBackward0>)\n",
      "image size = 15 x 15 mm\n",
      "test samples boxed in orange\n",
      "Using device: cuda\n",
      "0 tensor(5000417.0292, device='cuda:0', dtype=torch.float64,\n",
      "       grad_fn=<MulBackward0>)\n",
      "100 tensor(3307437.9926, device='cuda:0', dtype=torch.float64,\n",
      "       grad_fn=<MulBackward0>)\n",
      "200 tensor(1258957.2386, device='cuda:0', dtype=torch.float64,\n",
      "       grad_fn=<MulBackward0>)\n",
      "300 tensor(860344.7714, device='cuda:0', dtype=torch.float64,\n",
      "       grad_fn=<MulBackward0>)\n",
      "400 tensor(775983.4259, device='cuda:0', dtype=torch.float64,\n",
      "       grad_fn=<MulBackward0>)\n",
      "500 tensor(728678.0821, device='cuda:0', dtype=torch.float64,\n",
      "       grad_fn=<MulBackward0>)\n",
      "600 tensor(719130.3451, device='cuda:0', dtype=torch.float64,\n",
      "       grad_fn=<MulBackward0>)\n",
      "700 tensor(717985.1806, device='cuda:0', dtype=torch.float64,\n",
      "       grad_fn=<MulBackward0>)\n",
      "800 tensor(692702.6480, device='cuda:0', dtype=torch.float64,\n",
      "       grad_fn=<MulBackward0>)\n",
      "900 tensor(685975.2163, device='cuda:0', dtype=torch.float64,\n",
      "       grad_fn=<MulBackward0>)\n",
      "image size = 15 x 15 mm\n",
      "test samples boxed in orange\n",
      "Using device: cuda\n",
      "0 tensor(4806891.0770, device='cuda:0', dtype=torch.float64,\n",
      "       grad_fn=<MulBackward0>)\n",
      "100 tensor(2356475.5720, device='cuda:0', dtype=torch.float64,\n",
      "       grad_fn=<MulBackward0>)\n",
      "200 tensor(1679403.7321, device='cuda:0', dtype=torch.float64,\n",
      "       grad_fn=<MulBackward0>)\n",
      "300 tensor(1435273.4844, device='cuda:0', dtype=torch.float64,\n",
      "       grad_fn=<MulBackward0>)\n",
      "400 tensor(1332982.2670, device='cuda:0', dtype=torch.float64,\n",
      "       grad_fn=<MulBackward0>)\n",
      "500 tensor(1255562.8295, device='cuda:0', dtype=torch.float64,\n",
      "       grad_fn=<MulBackward0>)\n",
      "600 tensor(1202378.1302, device='cuda:0', dtype=torch.float64,\n",
      "       grad_fn=<MulBackward0>)\n",
      "700 tensor(1137233.6902, device='cuda:0', dtype=torch.float64,\n",
      "       grad_fn=<MulBackward0>)\n",
      "800 tensor(1048146.9378, device='cuda:0', dtype=torch.float64,\n",
      "       grad_fn=<MulBackward0>)\n",
      "900 tensor(955167.5999, device='cuda:0', dtype=torch.float64,\n",
      "       grad_fn=<MulBackward0>)\n",
      "image size = 15 x 15 mm\n",
      "test samples boxed in orange\n",
      "Using device: cuda\n",
      "0 tensor(5000317.0484, device='cuda:0', dtype=torch.float64,\n",
      "       grad_fn=<MulBackward0>)\n",
      "100 tensor(3396971.5984, device='cuda:0', dtype=torch.float64,\n",
      "       grad_fn=<MulBackward0>)\n",
      "200 tensor(3325110.4217, device='cuda:0', dtype=torch.float64,\n",
      "       grad_fn=<MulBackward0>)\n",
      "300 tensor(1229631.5090, device='cuda:0', dtype=torch.float64,\n",
      "       grad_fn=<MulBackward0>)\n",
      "400 tensor(978909.7384, device='cuda:0', dtype=torch.float64,\n",
      "       grad_fn=<MulBackward0>)\n",
      "500 tensor(763427.1780, device='cuda:0', dtype=torch.float64,\n",
      "       grad_fn=<MulBackward0>)\n",
      "600 tensor(716237.9978, device='cuda:0', dtype=torch.float64,\n",
      "       grad_fn=<MulBackward0>)\n",
      "700 tensor(703498.3616, device='cuda:0', dtype=torch.float64,\n",
      "       grad_fn=<MulBackward0>)\n",
      "800 tensor(685156.7044, device='cuda:0', dtype=torch.float64,\n",
      "       grad_fn=<MulBackward0>)\n",
      "900 tensor(671290.9956, device='cuda:0', dtype=torch.float64,\n",
      "       grad_fn=<MulBackward0>)\n",
      "image size = 15 x 15 mm\n",
      "test samples boxed in orange\n",
      "Using device: cuda\n",
      "0 tensor(3775159.7593, device='cuda:0', dtype=torch.float64,\n",
      "       grad_fn=<MulBackward0>)\n",
      "100 tensor(1140016.7447, device='cuda:0', dtype=torch.float64,\n",
      "       grad_fn=<MulBackward0>)\n",
      "200 tensor(857862.0688, device='cuda:0', dtype=torch.float64,\n",
      "       grad_fn=<MulBackward0>)\n",
      "300 tensor(795145.2074, device='cuda:0', dtype=torch.float64,\n",
      "       grad_fn=<MulBackward0>)\n",
      "400 tensor(785308.3389, device='cuda:0', dtype=torch.float64,\n",
      "       grad_fn=<MulBackward0>)\n",
      "500 tensor(734927.0267, device='cuda:0', dtype=torch.float64,\n",
      "       grad_fn=<MulBackward0>)\n",
      "600 tensor(730763.7029, device='cuda:0', dtype=torch.float64,\n",
      "       grad_fn=<MulBackward0>)\n",
      "700 tensor(712756.0318, device='cuda:0', dtype=torch.float64,\n",
      "       grad_fn=<MulBackward0>)\n",
      "800 tensor(698011.4345, device='cuda:0', dtype=torch.float64,\n",
      "       grad_fn=<MulBackward0>)\n",
      "900 tensor(705153.9189, device='cuda:0', dtype=torch.float64,\n",
      "       grad_fn=<MulBackward0>)\n",
      "image size = 15 x 15 mm\n",
      "test samples boxed in orange\n",
      "Using device: cuda\n",
      "0 tensor(5000417.6193, device='cuda:0', dtype=torch.float64,\n",
      "       grad_fn=<MulBackward0>)\n",
      "100 tensor(5000412.5816, device='cuda:0', dtype=torch.float64,\n",
      "       grad_fn=<MulBackward0>)\n",
      "200 tensor(3431115.2567, device='cuda:0', dtype=torch.float64,\n",
      "       grad_fn=<MulBackward0>)\n",
      "300 tensor(3367694.5145, device='cuda:0', dtype=torch.float64,\n",
      "       grad_fn=<MulBackward0>)\n",
      "400 tensor(2997177.9101, device='cuda:0', dtype=torch.float64,\n",
      "       grad_fn=<MulBackward0>)\n",
      "500 tensor(953325.7798, device='cuda:0', dtype=torch.float64,\n",
      "       grad_fn=<MulBackward0>)\n",
      "600 tensor(803815.1066, device='cuda:0', dtype=torch.float64,\n",
      "       grad_fn=<MulBackward0>)\n",
      "700 tensor(721056.0948, device='cuda:0', dtype=torch.float64,\n",
      "       grad_fn=<MulBackward0>)\n",
      "800 tensor(755024.9914, device='cuda:0', dtype=torch.float64,\n",
      "       grad_fn=<MulBackward0>)\n",
      "900 tensor(688794.6078, device='cuda:0', dtype=torch.float64,\n",
      "       grad_fn=<MulBackward0>)\n",
      "image size = 15 x 15 mm\n",
      "test samples boxed in orange\n",
      "Using device: cuda\n",
      "0 tensor(4268557.2661, device='cuda:0', dtype=torch.float64,\n",
      "       grad_fn=<MulBackward0>)\n",
      "100 tensor(1107057.7173, device='cuda:0', dtype=torch.float64,\n",
      "       grad_fn=<MulBackward0>)\n",
      "200 tensor(842764.3377, device='cuda:0', dtype=torch.float64,\n",
      "       grad_fn=<MulBackward0>)\n",
      "300 tensor(775396.1635, device='cuda:0', dtype=torch.float64,\n",
      "       grad_fn=<MulBackward0>)\n",
      "400 tensor(752256.1156, device='cuda:0', dtype=torch.float64,\n",
      "       grad_fn=<MulBackward0>)\n",
      "500 tensor(742595.7632, device='cuda:0', dtype=torch.float64,\n",
      "       grad_fn=<MulBackward0>)\n",
      "600 tensor(722625.9659, device='cuda:0', dtype=torch.float64,\n",
      "       grad_fn=<MulBackward0>)\n",
      "700 tensor(720075.0390, device='cuda:0', dtype=torch.float64,\n",
      "       grad_fn=<MulBackward0>)\n",
      "800 tensor(718355.3444, device='cuda:0', dtype=torch.float64,\n",
      "       grad_fn=<MulBackward0>)\n",
      "900 tensor(696636.4432, device='cuda:0', dtype=torch.float64,\n",
      "       grad_fn=<MulBackward0>)\n",
      "image size = 15 x 15 mm\n",
      "test samples boxed in orange\n",
      "Using device: cuda\n",
      "0 tensor(4831991.9102, device='cuda:0', dtype=torch.float64,\n",
      "       grad_fn=<MulBackward0>)\n",
      "100 tensor(1101235.4187, device='cuda:0', dtype=torch.float64,\n",
      "       grad_fn=<MulBackward0>)\n",
      "200 tensor(806508.2114, device='cuda:0', dtype=torch.float64,\n",
      "       grad_fn=<MulBackward0>)\n",
      "300 tensor(730654.4069, device='cuda:0', dtype=torch.float64,\n",
      "       grad_fn=<MulBackward0>)\n",
      "400 tensor(722362.7788, device='cuda:0', dtype=torch.float64,\n",
      "       grad_fn=<MulBackward0>)\n",
      "500 tensor(705747.1110, device='cuda:0', dtype=torch.float64,\n",
      "       grad_fn=<MulBackward0>)\n",
      "600 tensor(699449.7099, device='cuda:0', dtype=torch.float64,\n",
      "       grad_fn=<MulBackward0>)\n",
      "700 tensor(680729.5804, device='cuda:0', dtype=torch.float64,\n",
      "       grad_fn=<MulBackward0>)\n",
      "800 tensor(672745.4779, device='cuda:0', dtype=torch.float64,\n",
      "       grad_fn=<MulBackward0>)\n",
      "900 tensor(687489.9692, device='cuda:0', dtype=torch.float64,\n",
      "       grad_fn=<MulBackward0>)\n",
      "image size = 15 x 15 mm\n",
      "test samples boxed in orange\n",
      "Using device: cuda\n",
      "0 tensor(4999767.1595, device='cuda:0', dtype=torch.float64,\n",
      "       grad_fn=<MulBackward0>)\n",
      "100 tensor(1533933.3920, device='cuda:0', dtype=torch.float64,\n",
      "       grad_fn=<MulBackward0>)\n",
      "200 tensor(957433.3914, device='cuda:0', dtype=torch.float64,\n",
      "       grad_fn=<MulBackward0>)\n",
      "300 tensor(782425.9826, device='cuda:0', dtype=torch.float64,\n",
      "       grad_fn=<MulBackward0>)\n",
      "400 tensor(744763.1416, device='cuda:0', dtype=torch.float64,\n",
      "       grad_fn=<MulBackward0>)\n",
      "500 tensor(747379.6974, device='cuda:0', dtype=torch.float64,\n",
      "       grad_fn=<MulBackward0>)\n",
      "600 tensor(717990.1310, device='cuda:0', dtype=torch.float64,\n",
      "       grad_fn=<MulBackward0>)\n",
      "700 tensor(748912.9648, device='cuda:0', dtype=torch.float64,\n",
      "       grad_fn=<MulBackward0>)\n",
      "800 tensor(708140.9839, device='cuda:0', dtype=torch.float64,\n",
      "       grad_fn=<MulBackward0>)\n",
      "900 tensor(696863.1232, device='cuda:0', dtype=torch.float64,\n",
      "       grad_fn=<MulBackward0>)\n",
      "image size = 15 x 15 mm\n",
      "test samples boxed in orange\n"
     ]
    },
    {
     "data": {
      "text/plain": [
       "<Figure size 640x480 with 0 Axes>"
      ]
     },
     "metadata": {},
     "output_type": "display_data"
    },
    {
     "data": {
      "text/plain": [
       "<Figure size 1200x200 with 0 Axes>"
      ]
     },
     "metadata": {},
     "output_type": "display_data"
    },
    {
     "data": {
      "text/plain": [
       "<Figure size 800x800 with 0 Axes>"
      ]
     },
     "metadata": {},
     "output_type": "display_data"
    },
    {
     "data": {
      "text/plain": [
       "<Figure size 1200x200 with 0 Axes>"
      ]
     },
     "metadata": {},
     "output_type": "display_data"
    },
    {
     "data": {
      "text/plain": [
       "<Figure size 800x800 with 0 Axes>"
      ]
     },
     "metadata": {},
     "output_type": "display_data"
    },
    {
     "data": {
      "text/plain": [
       "<Figure size 1200x200 with 0 Axes>"
      ]
     },
     "metadata": {},
     "output_type": "display_data"
    },
    {
     "data": {
      "text/plain": [
       "<Figure size 800x800 with 0 Axes>"
      ]
     },
     "metadata": {},
     "output_type": "display_data"
    },
    {
     "data": {
      "text/plain": [
       "<Figure size 1200x200 with 0 Axes>"
      ]
     },
     "metadata": {},
     "output_type": "display_data"
    },
    {
     "data": {
      "text/plain": [
       "<Figure size 800x800 with 0 Axes>"
      ]
     },
     "metadata": {},
     "output_type": "display_data"
    },
    {
     "data": {
      "text/plain": [
       "<Figure size 1200x200 with 0 Axes>"
      ]
     },
     "metadata": {},
     "output_type": "display_data"
    },
    {
     "data": {
      "text/plain": [
       "<Figure size 800x800 with 0 Axes>"
      ]
     },
     "metadata": {},
     "output_type": "display_data"
    },
    {
     "data": {
      "text/plain": [
       "<Figure size 1200x200 with 0 Axes>"
      ]
     },
     "metadata": {},
     "output_type": "display_data"
    },
    {
     "data": {
      "text/plain": [
       "<Figure size 800x800 with 0 Axes>"
      ]
     },
     "metadata": {},
     "output_type": "display_data"
    },
    {
     "data": {
      "text/plain": [
       "<Figure size 1200x200 with 0 Axes>"
      ]
     },
     "metadata": {},
     "output_type": "display_data"
    },
    {
     "data": {
      "text/plain": [
       "<Figure size 800x800 with 0 Axes>"
      ]
     },
     "metadata": {},
     "output_type": "display_data"
    },
    {
     "data": {
      "text/plain": [
       "<Figure size 1200x200 with 0 Axes>"
      ]
     },
     "metadata": {},
     "output_type": "display_data"
    },
    {
     "data": {
      "text/plain": [
       "<Figure size 800x800 with 0 Axes>"
      ]
     },
     "metadata": {},
     "output_type": "display_data"
    },
    {
     "data": {
      "text/plain": [
       "<Figure size 1200x200 with 0 Axes>"
      ]
     },
     "metadata": {},
     "output_type": "display_data"
    },
    {
     "data": {
      "text/plain": [
       "<Figure size 800x800 with 0 Axes>"
      ]
     },
     "metadata": {},
     "output_type": "display_data"
    },
    {
     "data": {
      "text/plain": [
       "<Figure size 1200x200 with 0 Axes>"
      ]
     },
     "metadata": {},
     "output_type": "display_data"
    },
    {
     "data": {
      "text/plain": [
       "<Figure size 800x800 with 0 Axes>"
      ]
     },
     "metadata": {},
     "output_type": "display_data"
    },
    {
     "data": {
      "text/plain": [
       "<Figure size 1200x200 with 0 Axes>"
      ]
     },
     "metadata": {},
     "output_type": "display_data"
    },
    {
     "data": {
      "text/plain": [
       "<Figure size 800x800 with 0 Axes>"
      ]
     },
     "metadata": {},
     "output_type": "display_data"
    },
    {
     "data": {
      "text/plain": [
       "<Figure size 1200x200 with 0 Axes>"
      ]
     },
     "metadata": {},
     "output_type": "display_data"
    },
    {
     "data": {
      "text/plain": [
       "<Figure size 800x800 with 0 Axes>"
      ]
     },
     "metadata": {},
     "output_type": "display_data"
    },
    {
     "data": {
      "text/plain": [
       "<Figure size 1200x200 with 0 Axes>"
      ]
     },
     "metadata": {},
     "output_type": "display_data"
    },
    {
     "data": {
      "text/plain": [
       "<Figure size 800x800 with 0 Axes>"
      ]
     },
     "metadata": {},
     "output_type": "display_data"
    },
    {
     "data": {
      "text/plain": [
       "<Figure size 1200x200 with 0 Axes>"
      ]
     },
     "metadata": {},
     "output_type": "display_data"
    },
    {
     "data": {
      "text/plain": [
       "<Figure size 800x800 with 0 Axes>"
      ]
     },
     "metadata": {},
     "output_type": "display_data"
    },
    {
     "data": {
      "text/plain": [
       "<Figure size 1200x200 with 0 Axes>"
      ]
     },
     "metadata": {},
     "output_type": "display_data"
    },
    {
     "data": {
      "text/plain": [
       "<Figure size 800x800 with 0 Axes>"
      ]
     },
     "metadata": {},
     "output_type": "display_data"
    },
    {
     "data": {
      "text/plain": [
       "<Figure size 1200x200 with 0 Axes>"
      ]
     },
     "metadata": {},
     "output_type": "display_data"
    },
    {
     "data": {
      "text/plain": [
       "<Figure size 800x800 with 0 Axes>"
      ]
     },
     "metadata": {},
     "output_type": "display_data"
    },
    {
     "data": {
      "text/plain": [
       "<Figure size 1200x200 with 0 Axes>"
      ]
     },
     "metadata": {},
     "output_type": "display_data"
    },
    {
     "data": {
      "text/plain": [
       "<Figure size 800x800 with 0 Axes>"
      ]
     },
     "metadata": {},
     "output_type": "display_data"
    },
    {
     "data": {
      "text/plain": [
       "<Figure size 1200x200 with 0 Axes>"
      ]
     },
     "metadata": {},
     "output_type": "display_data"
    },
    {
     "data": {
      "text/plain": [
       "<Figure size 800x800 with 0 Axes>"
      ]
     },
     "metadata": {},
     "output_type": "display_data"
    },
    {
     "data": {
      "text/plain": [
       "<Figure size 1200x200 with 0 Axes>"
      ]
     },
     "metadata": {},
     "output_type": "display_data"
    },
    {
     "data": {
      "text/plain": [
       "<Figure size 800x800 with 0 Axes>"
      ]
     },
     "metadata": {},
     "output_type": "display_data"
    },
    {
     "data": {
      "text/plain": [
       "<Figure size 1200x200 with 0 Axes>"
      ]
     },
     "metadata": {},
     "output_type": "display_data"
    },
    {
     "data": {
      "text/plain": [
       "<Figure size 800x800 with 0 Axes>"
      ]
     },
     "metadata": {},
     "output_type": "display_data"
    },
    {
     "data": {
      "text/plain": [
       "<Figure size 1200x200 with 0 Axes>"
      ]
     },
     "metadata": {},
     "output_type": "display_data"
    },
    {
     "data": {
      "text/plain": [
       "<Figure size 800x800 with 0 Axes>"
      ]
     },
     "metadata": {},
     "output_type": "display_data"
    },
    {
     "data": {
      "text/plain": [
       "<Figure size 1200x200 with 0 Axes>"
      ]
     },
     "metadata": {},
     "output_type": "display_data"
    },
    {
     "data": {
      "text/plain": [
       "<Figure size 800x800 with 0 Axes>"
      ]
     },
     "metadata": {},
     "output_type": "display_data"
    },
    {
     "data": {
      "text/plain": [
       "<Figure size 1200x200 with 0 Axes>"
      ]
     },
     "metadata": {},
     "output_type": "display_data"
    },
    {
     "data": {
      "text/plain": [
       "<Figure size 800x800 with 0 Axes>"
      ]
     },
     "metadata": {},
     "output_type": "display_data"
    },
    {
     "data": {
      "text/plain": [
       "<Figure size 1200x200 with 0 Axes>"
      ]
     },
     "metadata": {},
     "output_type": "display_data"
    },
    {
     "data": {
      "text/plain": [
       "<Figure size 800x800 with 0 Axes>"
      ]
     },
     "metadata": {},
     "output_type": "display_data"
    },
    {
     "data": {
      "text/plain": [
       "<Figure size 1200x200 with 0 Axes>"
      ]
     },
     "metadata": {},
     "output_type": "display_data"
    },
    {
     "data": {
      "text/plain": [
       "<Figure size 800x800 with 0 Axes>"
      ]
     },
     "metadata": {},
     "output_type": "display_data"
    },
    {
     "data": {
      "text/plain": [
       "<Figure size 1200x200 with 0 Axes>"
      ]
     },
     "metadata": {},
     "output_type": "display_data"
    },
    {
     "data": {
      "text/plain": [
       "<Figure size 800x800 with 0 Axes>"
      ]
     },
     "metadata": {},
     "output_type": "display_data"
    },
    {
     "data": {
      "text/plain": [
       "<Figure size 1200x200 with 0 Axes>"
      ]
     },
     "metadata": {},
     "output_type": "display_data"
    },
    {
     "data": {
      "text/plain": [
       "<Figure size 800x800 with 0 Axes>"
      ]
     },
     "metadata": {},
     "output_type": "display_data"
    },
    {
     "data": {
      "text/plain": [
       "<Figure size 1200x200 with 0 Axes>"
      ]
     },
     "metadata": {},
     "output_type": "display_data"
    },
    {
     "data": {
      "text/plain": [
       "<Figure size 800x800 with 0 Axes>"
      ]
     },
     "metadata": {},
     "output_type": "display_data"
    },
    {
     "data": {
      "text/plain": [
       "<Figure size 1200x200 with 0 Axes>"
      ]
     },
     "metadata": {},
     "output_type": "display_data"
    },
    {
     "data": {
      "text/plain": [
       "<Figure size 800x800 with 0 Axes>"
      ]
     },
     "metadata": {},
     "output_type": "display_data"
    },
    {
     "data": {
      "text/plain": [
       "<Figure size 1200x200 with 0 Axes>"
      ]
     },
     "metadata": {},
     "output_type": "display_data"
    },
    {
     "data": {
      "text/plain": [
       "<Figure size 800x800 with 0 Axes>"
      ]
     },
     "metadata": {},
     "output_type": "display_data"
    },
    {
     "data": {
      "text/plain": [
       "<Figure size 1200x200 with 0 Axes>"
      ]
     },
     "metadata": {},
     "output_type": "display_data"
    },
    {
     "data": {
      "text/plain": [
       "<Figure size 800x800 with 0 Axes>"
      ]
     },
     "metadata": {},
     "output_type": "display_data"
    },
    {
     "data": {
      "text/plain": [
       "<Figure size 1200x200 with 0 Axes>"
      ]
     },
     "metadata": {},
     "output_type": "display_data"
    },
    {
     "data": {
      "text/plain": [
       "<Figure size 800x800 with 0 Axes>"
      ]
     },
     "metadata": {},
     "output_type": "display_data"
    },
    {
     "data": {
      "text/plain": [
       "<Figure size 1200x200 with 0 Axes>"
      ]
     },
     "metadata": {},
     "output_type": "display_data"
    },
    {
     "data": {
      "text/plain": [
       "<Figure size 800x800 with 0 Axes>"
      ]
     },
     "metadata": {},
     "output_type": "display_data"
    },
    {
     "data": {
      "text/plain": [
       "<Figure size 1200x200 with 0 Axes>"
      ]
     },
     "metadata": {},
     "output_type": "display_data"
    },
    {
     "data": {
      "text/plain": [
       "<Figure size 800x800 with 0 Axes>"
      ]
     },
     "metadata": {},
     "output_type": "display_data"
    },
    {
     "data": {
      "text/plain": [
       "<Figure size 1200x200 with 0 Axes>"
      ]
     },
     "metadata": {},
     "output_type": "display_data"
    },
    {
     "data": {
      "text/plain": [
       "<Figure size 800x800 with 0 Axes>"
      ]
     },
     "metadata": {},
     "output_type": "display_data"
    },
    {
     "data": {
      "text/plain": [
       "<Figure size 1200x200 with 0 Axes>"
      ]
     },
     "metadata": {},
     "output_type": "display_data"
    },
    {
     "data": {
      "text/plain": [
       "<Figure size 800x800 with 0 Axes>"
      ]
     },
     "metadata": {},
     "output_type": "display_data"
    },
    {
     "data": {
      "text/plain": [
       "<Figure size 1200x200 with 0 Axes>"
      ]
     },
     "metadata": {},
     "output_type": "display_data"
    },
    {
     "data": {
      "text/plain": [
       "<Figure size 800x800 with 0 Axes>"
      ]
     },
     "metadata": {},
     "output_type": "display_data"
    },
    {
     "data": {
      "text/plain": [
       "<Figure size 1200x200 with 0 Axes>"
      ]
     },
     "metadata": {},
     "output_type": "display_data"
    },
    {
     "data": {
      "text/plain": [
       "<Figure size 800x800 with 0 Axes>"
      ]
     },
     "metadata": {},
     "output_type": "display_data"
    },
    {
     "data": {
      "text/plain": [
       "<Figure size 1200x200 with 0 Axes>"
      ]
     },
     "metadata": {},
     "output_type": "display_data"
    },
    {
     "data": {
      "text/plain": [
       "<Figure size 800x800 with 0 Axes>"
      ]
     },
     "metadata": {},
     "output_type": "display_data"
    },
    {
     "data": {
      "text/plain": [
       "<Figure size 1200x200 with 0 Axes>"
      ]
     },
     "metadata": {},
     "output_type": "display_data"
    },
    {
     "data": {
      "text/plain": [
       "<Figure size 800x800 with 0 Axes>"
      ]
     },
     "metadata": {},
     "output_type": "display_data"
    },
    {
     "data": {
      "text/plain": [
       "<Figure size 1200x200 with 0 Axes>"
      ]
     },
     "metadata": {},
     "output_type": "display_data"
    },
    {
     "data": {
      "text/plain": [
       "<Figure size 800x800 with 0 Axes>"
      ]
     },
     "metadata": {},
     "output_type": "display_data"
    },
    {
     "data": {
      "text/plain": [
       "<Figure size 1200x200 with 0 Axes>"
      ]
     },
     "metadata": {},
     "output_type": "display_data"
    },
    {
     "data": {
      "text/plain": [
       "<Figure size 800x800 with 0 Axes>"
      ]
     },
     "metadata": {},
     "output_type": "display_data"
    },
    {
     "data": {
      "text/plain": [
       "<Figure size 1200x200 with 0 Axes>"
      ]
     },
     "metadata": {},
     "output_type": "display_data"
    },
    {
     "data": {
      "text/plain": [
       "<Figure size 800x800 with 0 Axes>"
      ]
     },
     "metadata": {},
     "output_type": "display_data"
    },
    {
     "data": {
      "text/plain": [
       "<Figure size 1200x200 with 0 Axes>"
      ]
     },
     "metadata": {},
     "output_type": "display_data"
    },
    {
     "data": {
      "text/plain": [
       "<Figure size 800x800 with 0 Axes>"
      ]
     },
     "metadata": {},
     "output_type": "display_data"
    },
    {
     "data": {
      "text/plain": [
       "<Figure size 1200x200 with 0 Axes>"
      ]
     },
     "metadata": {},
     "output_type": "display_data"
    },
    {
     "data": {
      "text/plain": [
       "<Figure size 800x800 with 0 Axes>"
      ]
     },
     "metadata": {},
     "output_type": "display_data"
    },
    {
     "data": {
      "text/plain": [
       "<Figure size 1200x200 with 0 Axes>"
      ]
     },
     "metadata": {},
     "output_type": "display_data"
    },
    {
     "data": {
      "text/plain": [
       "<Figure size 800x800 with 0 Axes>"
      ]
     },
     "metadata": {},
     "output_type": "display_data"
    },
    {
     "data": {
      "text/plain": [
       "<Figure size 1200x200 with 0 Axes>"
      ]
     },
     "metadata": {},
     "output_type": "display_data"
    },
    {
     "data": {
      "text/plain": [
       "<Figure size 800x800 with 0 Axes>"
      ]
     },
     "metadata": {},
     "output_type": "display_data"
    },
    {
     "data": {
      "text/plain": [
       "<Figure size 1200x200 with 0 Axes>"
      ]
     },
     "metadata": {},
     "output_type": "display_data"
    },
    {
     "data": {
      "text/plain": [
       "<Figure size 800x800 with 0 Axes>"
      ]
     },
     "metadata": {},
     "output_type": "display_data"
    },
    {
     "data": {
      "text/plain": [
       "<Figure size 1200x200 with 0 Axes>"
      ]
     },
     "metadata": {},
     "output_type": "display_data"
    },
    {
     "data": {
      "text/plain": [
       "<Figure size 800x800 with 0 Axes>"
      ]
     },
     "metadata": {},
     "output_type": "display_data"
    },
    {
     "data": {
      "text/plain": [
       "<Figure size 1200x200 with 0 Axes>"
      ]
     },
     "metadata": {},
     "output_type": "display_data"
    },
    {
     "data": {
      "image/png": "[encoded data removed]",
      "text/plain": [
       "<Figure size 800x800 with 16 Axes>"
      ]
     },
     "metadata": {},
     "output_type": "display_data"
    }
   ],
   "source": [
    "number_trials = 50\n",
    "number_epochs = 1000\n",
    "number_particles = 50000\n",
    "learning_rate = 0.001\n",
    "\n",
    "for i in range(number_trials):\n",
    "    output_folder_path = \"loop_output/\"\n",
    "    index_string = \"{:03d}\".format(i)\n",
    "\n",
    "    pred_beam = train_1d_scan(train_dset, lattice, p0c, screen, device='cuda', n_epochs=number_epochs, n_particles=number_particles, learning_rate=learning_rate)\n",
    "    ks = torch.vstack((train_dset.k, test_dset.k))\n",
    "    pred_dset = run_quad_scan(pred_beam, lattice, screen, ks)\n",
    "\n",
    "    try:\n",
    "        # compare predicted screens with data\n",
    "        plt.clf()\n",
    "        fig, ax = plot_predicted_screens(pred_dset, train_dset, test_dset, bins_x, bins_y)\n",
    "        plt.savefig(output_folder_path+'pred_'+index_string+'.png')\n",
    "    \n",
    "        # reconstructed beam projections:\n",
    "        plt.clf()\n",
    "        fig, ax = plot_projections(pred_beam.numpy_particles(),\n",
    "                                   coords=['x', 'px', 'y', 'py'],\n",
    "                                   bins=50,\n",
    "                                   background=False\n",
    "                                   )\n",
    "        plt.savefig(output_folder_path+'recon_'+index_string+'.png')\n",
    "    \n",
    "        stacked_output = np.vstack((pred_beam.x.numpy(),pred_beam.y.numpy(),pred_beam.z.numpy(),pred_beam.px.numpy(),pred_beam.py.numpy(),pred_beam.pz.numpy()))\n",
    "        np.save(output_folder_path+'phasespace_'+index_string+'.npy', stacked_output)\n",
    "    except:\n",
    "        print(\"Error occured at step \"+index_string+\". Probably returned all NaN\")"
   ]
  },
  {
   "cell_type": "code",
   "execution_count": 7,
   "metadata": {
    "tags": []
   },
   "outputs": [
    {
     "data": {
      "image/png": "[encoded data removed]",
      "text/plain": [
       "<Figure size 800x600 with 1 Axes>"
      ]
     },
     "metadata": {},
     "output_type": "display_data"
    }
   ],
   "source": [
    "import re\n",
    "import math  # Import the math module to handle \"nan\"\n",
    "\n",
    "def extract_numbers_from_lines(input_string):\n",
    "    # Define a regular expression pattern to match lines starting with \"900\" and a number\n",
    "    pattern = r'900 tensor\\(([^,]+),'\n",
    "\n",
    "    # Find all matches in the input string\n",
    "    matches = re.findall(pattern, input_string)\n",
    "\n",
    "    # Convert the matched numbers to floats, handling \"nan\"\n",
    "    numbers = []\n",
    "    real_numbers = []\n",
    "    for match in matches:\n",
    "        if match == 'nan':\n",
    "            numbers.append(math.nan)\n",
    "            real_numbers.append(float(0.0))\n",
    "        else:\n",
    "            numbers.append(float(match))\n",
    "            real_numbers.append(float(match))\n",
    "\n",
    "    return numbers, real_numbers\n",
    "\n",
    "file_path = 'output_nersc_1.txt'\n",
    "\n",
    "# Open the file for reading\n",
    "with open(file_path, 'r') as file:\n",
    "    # Read the entire content of the file into a string\n",
    "    file_content = file.read()\n",
    "\n",
    "# Now, the variable file_content contains the content of the file as a string\n",
    "# print(file_content)\n",
    "\n",
    "numbers, real_numbers = extract_numbers_from_lines(file_content)\n",
    "real_numbers = np.array(real_numbers)\n",
    "# for number in numbers:\n",
    "#     print(number)\n",
    "trials = np.arange(0,len(real_numbers))\n",
    "\n",
    "plt.figure(figsize=(8, 6))\n",
    "plt.bar(trials,real_numbers, label='Single Beams (45)')\n",
    "\"\"\"\n",
    "wispy = np.array([3,15,23,24,43,44,46,50,51,54,66,67,84,91])\n",
    "trials_wispy = trials[wispy]\n",
    "numbers_wispy = real_numbers[wispy]\n",
    "plt.bar(trials_wispy,numbers_wispy, label='Wispy Noise (14)')\n",
    "\"\"\"\n",
    "twopeak = [4,43]\n",
    "plt.bar(trials[twopeak],real_numbers[twopeak],label='Two Peaks (2)')\n",
    "\"\"\"\n",
    "other = [14,45]\n",
    "plt.bar(trials[other],real_numbers[other],label='Strange (2)')\n",
    "other = [88]\n",
    "plt.bar(trials[other],real_numbers[other],label='Failed at last 100')\n",
    "\"\"\"\n",
    "# plt.ylim([5e5, 2.0e6])\n",
    "plt.ylim([0.6e6,1.0e6])\n",
    "# plt.xlim([-1,130])\n",
    "plt.axhline(670697.1, color='black', linestyle='--', label='Previous Min.')\n",
    "plt.xlabel('Simulation Number')\n",
    "plt.ylabel('Printed Error Function at Epoch 900')\n",
    "plt.legend()\n",
    "plt.savefig(\"nersc_1_bargraph.png\")"
   ]
  },
  {
   "cell_type": "code",
   "execution_count": 8,
   "metadata": {},
   "outputs": [
    {
     "name": "stdout",
     "output_type": "stream",
     "text": [
      "Using device: cpu\n"
     ]
    },
    {
     "name": "stderr",
     "output_type": "stream",
     "text": [
      "C:\\Users\\loasis\\AppData\\Local\\Programs\\Python\\Python310\\lib\\site-packages\\torch\\functional.py:504: UserWarning: torch.meshgrid: in an upcoming release, it will be required to pass the indexing argument. (Triggered internally at ..\\aten\\src\\ATen\\native\\TensorShape.cpp:3484.)\n",
      "  return _VF.meshgrid(tensors, **kwargs)  # type: ignore[attr-defined]\n"
     ]
    },
    {
     "name": "stdout",
     "output_type": "stream",
     "text": [
      "0 tensor(4960353.1392, dtype=torch.float64, grad_fn=<MulBackward0>)\n",
      "100 tensor(4193925.4050, dtype=torch.float64, grad_fn=<MulBackward0>)\n",
      "200 tensor(4195225.7194, dtype=torch.float64, grad_fn=<MulBackward0>)\n",
      "300 tensor(4145399.1810, dtype=torch.float64, grad_fn=<MulBackward0>)\n",
      "400 tensor(3119516.0504, dtype=torch.float64, grad_fn=<MulBackward0>)\n"
     ]
    }
   ],
   "source": [
    "# training\n",
    "pred_beam = train_1d_scan(train_dset, lattice, p0c, screen, n_epochs=500)"
   ]
  },
  {
   "cell_type": "code",
   "execution_count": 9,
   "metadata": {},
   "outputs": [],
   "source": [
    "# predicted screens:\n",
    "ks = torch.vstack((train_dset.k, test_dset.k))\n",
    "pred_dset = run_quad_scan(pred_beam, lattice, screen, ks)"
   ]
  },
  {
   "cell_type": "code",
   "execution_count": 10,
   "metadata": {
    "scrolled": true
   },
   "outputs": [
    {
     "name": "stdout",
     "output_type": "stream",
     "text": [
      "image size = 15 x 15 mm\n",
      "test samples boxed in orange\n"
     ]
    },
    {
     "data": {
      "image/png": "[encoded data removed]",
      "text/plain": [
       "<Figure size 864x144 with 24 Axes>"
      ]
     },
     "metadata": {
      "needs_background": "light"
     },
     "output_type": "display_data"
    }
   ],
   "source": [
    "# compare predicted screens with data\n",
    "fig, ax = plot_predicted_screens(pred_dset, train_dset, test_dset, bins_x, bins_y)\n",
    "plt.show()"
   ]
  },
  {
   "cell_type": "code",
   "execution_count": 11,
   "metadata": {},
   "outputs": [
    {
     "data": {
      "image/png": "[encoded data removed]",
      "text/plain": [
       "<Figure size 576x576 with 16 Axes>"
      ]
     },
     "metadata": {
      "needs_background": "light"
     },
     "output_type": "display_data"
    }
   ],
   "source": [
    "# reconstructed beam projections: \n",
    "fig, ax = plot_projections(pred_beam.numpy_particles(),\n",
    "                           coords=['x', 'px', 'y', 'py'],\n",
    "                           bins=50,\n",
    "                           background=False\n",
    "                           )\n",
    "plt.show()"
   ]
  },
  {
   "cell_type": "code",
   "execution_count": 12,
   "metadata": {},
   "outputs": [
    {
     "name": "stdout",
     "output_type": "stream",
     "text": [
      "0.6262931111829035 0.818179959299898\n",
      "6.920441907311359e-07 3.945371650151827e-06\n"
     ]
    }
   ],
   "source": [
    "emity=np.sqrt(np.mean(pred_beam.py.numpy()**2)*np.mean(pred_beam.y.numpy()**2)-(np.mean(pred_beam.y.numpy()*pred_beam.py.numpy()))**2)\n",
    "betay=np.std(pred_beam.y.numpy())**2/(emity)\n",
    "\n",
    "emitx=np.sqrt(np.mean(pred_beam.px.numpy()**2)*np.mean(pred_beam.x.numpy()**2)-(np.mean(pred_beam.x.numpy()*pred_beam.px.numpy()))**2)\n",
    "betax=np.std(pred_beam.x.numpy())**2/(emitx)\n",
    "print(betax,betay)\n",
    "print(emitx,emity)"
   ]
  },
  {
   "cell_type": "code",
   "execution_count": 13,
   "metadata": {},
   "outputs": [
    {
     "data": {
      "image/png": "[encoded data removed]",
      "text/plain": [
       "<Figure size 432x288 with 2 Axes>"
      ]
     },
     "metadata": {
      "needs_background": "light"
     },
     "output_type": "display_data"
    }
   ],
   "source": [
    "import matplotlib.pyplot as plt\n",
    "\n",
    "# Assuming tensor1 and tensor2 are your tensors (replace with your actual tensors)\n",
    "tensor1 = pred_beam.y\n",
    "tensor2 = pred_beam.pz\n",
    "\n",
    "# Convert tensors to numpy arrays for plotting\n",
    "array1 = tensor1.numpy()\n",
    "array2 = tensor2.numpy()\n",
    "\n",
    "# Create a 2D histogram plot\n",
    "plt.hist2d(array1, array2, bins=(100, 100), cmap=plt.cm.jet)\n",
    "\n",
    "# Set labels and title (optional)\n",
    "plt.xlabel('Tensor 1 Values')\n",
    "plt.ylabel('Tensor 2 Values')\n",
    "plt.title('2D Histogram Plot of Two Tensors')\n",
    "\n",
    "# Add a colorbar to show the color mapping\n",
    "plt.colorbar()\n",
    "\n",
    "# Display the plot\n",
    "plt.show()"
   ]
  },
  {
   "cell_type": "code",
   "execution_count": null,
   "metadata": {},
   "outputs": [],
   "source": [
    "import os\n",
    "os.environ[\"PATH\"] += os.pathsep + '/Users/samuelbarber/science_code/sdds_tools'\n",
    "os.environ[\"PATH\"] += os.pathsep + '/Users/samuelbarber/science_code/elegant'\n",
    "\n",
    "def extract_and_map_data(pred_beam):\n",
    "    c = 299792458  # Speed of light in meters per second\n",
    "    \n",
    "    # Define the mapping\n",
    "    mapping = {\n",
    "        'x': 'x',\n",
    "        'px': 'xp',\n",
    "        'y': 'y',\n",
    "        'py': 'yp',\n",
    "        'z': 't',\n",
    "        'pz': 'p'\n",
    "    }\n",
    "\n",
    "    # Extract and map data\n",
    "    data = []\n",
    "    for key, new_key in mapping.items():\n",
    "        values = getattr(pred_beam, key).numpy()  # Convert tensor to numpy array\n",
    "        if new_key == 't':\n",
    "            values /= c\n",
    "        data.append(values)\n",
    "\n",
    "    return np.column_stack(data)\n",
    "\n",
    "def save_to_csv(data, filename=\"data.csv\"):\n",
    "    header = \",\".join(['x', 'xp', 'y', 'yp', 't', 'p'])  # Define the column names for the CSV\n",
    "    np.savetxt(filename, data, delimiter=\",\", header=header, comments=\"\")\n",
    "\n",
    "    \n",
    "# Extract and map data\n",
    "data = extract_and_map_data(pred_beam)\n",
    "\n",
    "# Save the data to CSV\n",
    "save_to_csv(data)\n",
    "\n",
    "# Convert the CSV to SDDS using the command line (you'll do this outside the Python script)\n",
    "!csv2sdds data.csv -columnData=name=x,type=double -columnData=name=xp,type=double -columnData=name=y,type=double -columnData=name=yp,type=double -columnData=name=t,type=double -columnData=name=p,type=double output.sdds"
   ]
  },
  {
   "cell_type": "code",
   "execution_count": null,
   "metadata": {},
   "outputs": [],
   "source": []
  }
 ],
 "metadata": {
  "kernelspec": {
   "display_name": "PhaseSpaceReconstruction",
   "language": "python",
   "name": "phase_space_reconstruction"
  },
  "language_info": {
   "codemirror_mode": {
    "name": "ipython",
    "version": 3
   },
   "file_extension": ".py",
   "mimetype": "text/x-python",
   "name": "python",
   "nbconvert_exporter": "python",
   "pygments_lexer": "ipython3",
   "version": "3.10.13"
  }
 },
 "nbformat": 4,
 "nbformat_minor": 4
}
