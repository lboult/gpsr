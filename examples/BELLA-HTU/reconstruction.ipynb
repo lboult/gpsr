{
 "cells": [
  {
   "cell_type": "code",
   "execution_count": 1,
   "metadata": {},
   "outputs": [],
   "source": [
    "import os\n",
    "import torch\n",
    "import matplotlib.pyplot as plt\n",
    "import numpy as np\n",
    "\n",
    "from phase_space_reconstruction.virtual.beamlines import quad_drift\n",
    "from phase_space_reconstruction.virtual.scans import run_quad_scan\n",
    "from phase_space_reconstruction.diagnostics import ImageDiagnostic\n",
    "from phase_space_reconstruction.train import train_1d_scan\n",
    "\n",
    "from bmadx.plot import plot_projections\n",
    "from phase_space_reconstruction.visualization import plot_scan_data, plot_predicted_screens"
   ]
  },
  {
   "cell_type": "code",
   "execution_count": 2,
   "metadata": {},
   "outputs": [],
   "source": [
    "#convert saved BELLA quad scan data into correct format for subsequent analysis\n",
    "from PIL import Image, ImageOps\n",
    "import re\n",
    "\n",
    "# Function to pad the images to be square\n",
    "def pad_to_square(img):\n",
    "    width, height = img.size\n",
    "    new_size = max(width, height)\n",
    "    delta_w = new_size - width\n",
    "    delta_h = new_size - height\n",
    "    padding = (delta_w//2, delta_h//2, delta_w-(delta_w//2), delta_h-(delta_h//2))\n",
    "    return ImageOps.expand(img, padding)\n",
    "\n",
    "# Function to get all image files from a specified directory\n",
    "def get_image_files(dir_path):\n",
    "    # Get a list of all files with the specified extensions\n",
    "    files = [f for f in os.listdir(dir_path) if f.endswith(('.png', '.jpg', '.jpeg'))]\n",
    "    \n",
    "    # Extract the number from each filename and sort the files based on these numbers\n",
    "    sorted_files = sorted(files, key=lambda x: int(re.search(r'_(\\d+)', x).group(1)))\n",
    "    \n",
    "    return sorted_files\n",
    "\n",
    "# Get a list of all image files in the specified directory\n",
    "image_folder_path = \"16bit_images/\"\n",
    "image_files = get_image_files(image_folder_path)\n",
    "\n",
    "# Open, pad to make square, and resize each image, then convert them to grayscale\n",
    "image_list = []\n",
    "for file in image_files:\n",
    "    img = Image.open(os.path.join(image_folder_path, file))\n",
    "    img = pad_to_square(img)\n",
    "    \n",
    "    # Get the new dimensions after padding\n",
    "    width, height = img.size\n",
    "    \n",
    "    # Crop 200 pixels from each edge\n",
    "    img = img.crop((200, 200, width - 200, height - 200))\n",
    "    \n",
    "    img = img.resize((200, 200))\n",
    "    image_list.append(np.array(img, dtype=np.float32))\n",
    "\n",
    "# Convert the images to a torch tensor\n",
    "images_tensor = torch.stack([torch.tensor(np.array(img)) for img in image_list])\n",
    "\n",
    "# Add an extra dimension for the channel (grayscale)\n",
    "images_tensor = images_tensor.unsqueeze(1)\n",
    "\n",
    "images=images_tensor.double()\n",
    "\n",
    "\n",
    "\n",
    "# convert quad current values to normalized k values\n",
    "def EMQ3CurToGrad(cur):\n",
    "    return 2.9016 * cur + 0.093\n",
    "\n",
    "def gradientToK(gradient,energy):\n",
    "    return gradient*299.8/energy\n",
    "\n",
    "currents=np.linspace(1.3,2.3,11)\n",
    "gradients = EMQ3CurToGrad(currents)\n",
    "\n",
    "# Fixed value of energy\n",
    "energy = 110\n",
    "\n",
    "# # Convert the gradients tensor to a numpy array for easier manipulation\n",
    "# gradients_numpy = gradients.numpy()\n",
    "\n",
    "# Apply the function to each gradient value\n",
    "k_values_numpy = gradientToK(gradients, energy)\n",
    "\n",
    "# Convert the k_values back to a torch tensor\n",
    "k_values_tensor = torch.tensor(k_values_numpy).unsqueeze(1).unsqueeze(2).double()\n",
    "\n",
    "# k_values_tensor = k_values_tensor.unsqueeze(1).unsqueeze(2)\n",
    "ks=k_values_tensor"
   ]
  },
  {
   "cell_type": "code",
   "execution_count": 3,
   "metadata": {},
   "outputs": [
    {
     "name": "stdout",
     "output_type": "stream",
     "text": [
      "dataset saved as 'data/test.dset'\n",
      "dataset saved as 'data/train.dset'\n"
     ]
    }
   ],
   "source": [
    "from phase_space_reconstruction.modeling import ImageDataset, ImageDataset3D\n",
    "\n",
    "# create image dataset\n",
    "save_as='test.dset'\n",
    "dset = ImageDataset(ks[1::2], images[::2])\n",
    "\n",
    "# save scan data if wanted\n",
    "if save_as is not None:\n",
    "    # Include the path to the \"data\" directory in the save_as variable\n",
    "    save_as = os.path.join(\"data\", save_as)\n",
    "    \n",
    "    # Check if the \"data\" directory exists, if not, create it\n",
    "    if not os.path.exists(\"data\"):\n",
    "        os.makedirs(\"data\")\n",
    "    \n",
    "    # Save the dataset in the \"data\" directory\n",
    "    torch.save(dset, save_as)\n",
    "    print(f\"dataset saved as '{save_as}'\")\n",
    "    \n",
    "    \n",
    "# create image dataset\n",
    "save_as='train.dset'\n",
    "dset = ImageDataset(ks[::2], images[::2])\n",
    "\n",
    "# save scan data if wanted\n",
    "if save_as is not None:\n",
    "    # Include the path to the \"data\" directory in the save_as variable\n",
    "    save_as = os.path.join(\"data\", save_as)\n",
    "    \n",
    "    # Check if the \"data\" directory exists, if not, create it\n",
    "    if not os.path.exists(\"data\"):\n",
    "        os.makedirs(\"data\")\n",
    "    \n",
    "    # Save the dataset in the \"data\" directory\n",
    "    torch.save(dset, save_as)\n",
    "    print(f\"dataset saved as '{save_as}'\")"
   ]
  },
  {
   "cell_type": "code",
   "execution_count": 4,
   "metadata": {},
   "outputs": [],
   "source": [
    "data_dir = 'data'"
   ]
  },
  {
   "cell_type": "code",
   "execution_count": 5,
   "metadata": {},
   "outputs": [],
   "source": [
    "# load data:\n",
    "train_dset = torch.load(os.path.join(data_dir,'train.dset'))\n",
    "test_dset = torch.load(os.path.join(data_dir,'test.dset'))\n",
    "\n",
    "# image bins: \n",
    "bins_x = torch.linspace(-7.32, 7.32, train_dset.images.shape[-2])*1e-3\n",
    "bins_y = torch.linspace(-7.32, 7.32, train_dset.images.shape[-1])*1e-3"
   ]
  },
  {
   "cell_type": "code",
   "execution_count": 6,
   "metadata": {},
   "outputs": [
    {
     "name": "stdout",
     "output_type": "stream",
     "text": [
      "image size = 15 x 15 mm\n",
      "test samples boxed in orange\n"
     ]
    },
    {
     "data": {
      "image/png": "[encoded data removed]",
      "text/plain": [
       "<Figure size 1200x100 with 12 Axes>"
      ]
     },
     "metadata": {},
     "output_type": "display_data"
    }
   ],
   "source": [
    "fig, ax = plot_scan_data(train_dset, test_dset, bins_x, bins_y)\n",
    "plt.show()"
   ]
  },
  {
   "cell_type": "code",
   "execution_count": 7,
   "metadata": {},
   "outputs": [
    {
     "name": "stderr",
     "output_type": "stream",
     "text": [
      "/Users/samuelbarber/PS_Reconstruction/phase_space_reconstruction/phase_space_reconstruction/diagnostics.py:35: UserWarning: To copy construct from a tensor, it is recommended to use sourceTensor.clone().detach() or sourceTensor.clone().detach().requires_grad_(True), rather than torch.tensor(sourceTensor).\n",
      "  self.register_buffer(\"bandwidth\", torch.tensor(bandwidth))\n"
     ]
    }
   ],
   "source": [
    "# diagnostic beamline:\n",
    "lattice = quad_drift(l_d=2.126, l_q=0.1409)\n",
    "\n",
    "# design momentum (eV)\n",
    "p0c = energy* 1e6\n",
    "\n",
    "# diagnostic screen: \n",
    "bandwidth = (bins_x[1]-bins_x[0]) / 2\n",
    "screen = ImageDiagnostic(bins_x, bins_y, bandwidth)"
   ]
  },
  {
   "cell_type": "code",
   "execution_count": null,
   "metadata": {},
   "outputs": [
    {
     "name": "stdout",
     "output_type": "stream",
     "text": [
      "Using device: cpu\n"
     ]
    },
    {
     "name": "stderr",
     "output_type": "stream",
     "text": [
      "/Users/samuelbarber/opt/anaconda3/lib/python3.9/site-packages/torch/functional.py:478: UserWarning: torch.meshgrid: in an upcoming release, it will be required to pass the indexing argument. (Triggered internally at  /private/var/folders/sy/f16zz6x50xz3113nwtb9bvq00000gp/T/abs_64sp5n4yln/croot/pytorch_1669252639708/work/aten/src/ATen/native/TensorShape.cpp:2895.)\n",
      "  return _VF.meshgrid(tensors, **kwargs)  # type: ignore[attr-defined]\n"
     ]
    },
    {
     "name": "stdout",
     "output_type": "stream",
     "text": [
      "0 tensor(1.7865e+13, dtype=torch.float64, grad_fn=<MulBackward0>)\n",
      "100 tensor(1.7865e+13, dtype=torch.float64, grad_fn=<MulBackward0>)\n",
      "200 tensor(1.7865e+13, dtype=torch.float64, grad_fn=<MulBackward0>)\n",
      "300 tensor(1.7865e+13, dtype=torch.float64, grad_fn=<MulBackward0>)\n",
      "400 tensor(1.7865e+13, dtype=torch.float64, grad_fn=<MulBackward0>)\n"
     ]
    }
   ],
   "source": [
    "# training\n",
    "pred_beam = train_1d_scan(train_dset, lattice, p0c, screen, n_epochs=500)"
   ]
  },
  {
   "cell_type": "code",
   "execution_count": null,
   "metadata": {},
   "outputs": [],
   "source": [
    "# predicted screens:\n",
    "ks = torch.vstack((train_dset.k, test_dset.k))\n",
    "pred_dset = run_quad_scan(pred_beam, lattice, screen, ks)"
   ]
  },
  {
   "cell_type": "code",
   "execution_count": null,
   "metadata": {},
   "outputs": [],
   "source": [
    "# compare predicted screens with data\n",
    "fig, ax = plot_predicted_screens(pred_dset, train_dset, test_dset, bins_x, bins_y)\n",
    "plt.show()"
   ]
  },
  {
   "cell_type": "code",
   "execution_count": null,
   "metadata": {},
   "outputs": [],
   "source": [
    "# reconstructed beam projections: \n",
    "fig, ax = plot_projections(pred_beam.numpy_particles(),\n",
    "                           coords=['x', 'px', 'y', 'py'],\n",
    "                           bins=50,\n",
    "                           background=False\n",
    "                           )\n",
    "plt.show()"
   ]
  }
 ],
 "metadata": {
  "kernelspec": {
   "display_name": "Python 3 (ipykernel)",
   "language": "python",
   "name": "python3"
  },
  "language_info": {
   "codemirror_mode": {
    "name": "ipython",
    "version": 3
   },
   "file_extension": ".py",
   "mimetype": "text/x-python",
   "name": "python",
   "nbconvert_exporter": "python",
   "pygments_lexer": "ipython3",
   "version": "3.9.13"
  }
 },
 "nbformat": 4,
 "nbformat_minor": 2
}
