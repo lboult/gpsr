{
 "cells": [
  {
   "cell_type": "code",
   "execution_count": 30,
   "id": "9abf7809-8016-4e70-9efd-a5e1fd7762a0",
   "metadata": {},
   "outputs": [],
   "source": [
    "import numpy as np\n",
    "import os\n",
    "\n",
    "npy_folder = 'loop_output/'\n",
    "csv_folder = 'loop_csv/'"
   ]
  },
  {
   "cell_type": "code",
   "execution_count": 37,
   "id": "35fbe8cc-f78c-4dd2-8010-c514be3d272d",
   "metadata": {},
   "outputs": [],
   "source": []
  },
  {
   "cell_type": "code",
   "execution_count": 39,
   "id": "60df2b48-f2c3-4f84-9959-29ddfc266116",
   "metadata": {},
   "outputs": [],
   "source": [
    "def extract_and_map_npy_data(npy_data):\n",
    "    \n",
    "    c = 299792458.  # Speed of light in meters per second\n",
    "\n",
    "    # Mapping is defined by which variables are saved in what order for Sam's csv file compared to Chris's npy file\n",
    "    mapping = {\n",
    "        'x' : 0,\n",
    "        'xp' : 3,\n",
    "        'y' : 1,\n",
    "        'yp': 4,\n",
    "        't': 2,\n",
    "        'p' : 5\n",
    "    }\n",
    "    \n",
    "    data = []\n",
    "    for csv_key, npy_index in mapping.items():\n",
    "        values = npy_data[npy_index]\n",
    "        if csv_key == 't':\n",
    "            data.append(values/c)\n",
    "        else:\n",
    "            data.append(values)\n",
    "    \n",
    "    return np.column_stack(data)\n",
    "\n",
    "def save_to_csv(data, filename):\n",
    "    header = \",\".join(['x', 'xp', 'y', 'yp', 't', 'p'])  # Define the column names for the CSV\n",
    "    np.savetxt(filename, data, delimiter=\",\", header=header, comments=\"\")"
   ]
  },
  {
   "cell_type": "code",
   "execution_count": 48,
   "id": "12f36b10-d5d3-4bb6-9a04-9dc0e551c9bc",
   "metadata": {},
   "outputs": [],
   "source": [
    "# shot_num = 0\n",
    "# index_string = \"{:03d}\".format(shot_num)\n",
    "# npy_filename = 'phasespace_'+index_string+'.npy'\n",
    "npy_filename = 'phasespace_test.npy'\n",
    "\n",
    "npy_data = np.load(npy_folder+npy_filename)\n",
    "data = extract_and_map_npy_data(npy_data)\n",
    "\n",
    "os.makedirs(csv_folder, exist_ok=True)\n",
    "csv_filename = csv_folder + 'data_' + 'test' + '.csv'\n",
    "save_to_csv(data, csv_filename)"
   ]
  },
  {
   "cell_type": "code",
   "execution_count": 47,
   "id": "487a2065-170f-404e-b0ef-bc6f60a46237",
   "metadata": {},
   "outputs": [
    {
     "name": "stdout",
     "output_type": "stream",
     "text": [
      "No phasespace file at phasespace_005.npy , probably a NaN run.\n",
      "No phasespace file at phasespace_006.npy , probably a NaN run.\n",
      "No phasespace file at phasespace_008.npy , probably a NaN run.\n",
      "No phasespace file at phasespace_011.npy , probably a NaN run.\n",
      "No phasespace file at phasespace_012.npy , probably a NaN run.\n",
      "No phasespace file at phasespace_016.npy , probably a NaN run.\n",
      "No phasespace file at phasespace_017.npy , probably a NaN run.\n",
      "No phasespace file at phasespace_022.npy , probably a NaN run.\n",
      "No phasespace file at phasespace_024.npy , probably a NaN run.\n",
      "No phasespace file at phasespace_025.npy , probably a NaN run.\n",
      "No phasespace file at phasespace_028.npy , probably a NaN run.\n",
      "No phasespace file at phasespace_029.npy , probably a NaN run.\n",
      "No phasespace file at phasespace_030.npy , probably a NaN run.\n",
      "No phasespace file at phasespace_036.npy , probably a NaN run.\n",
      "No phasespace file at phasespace_040.npy , probably a NaN run.\n",
      "No phasespace file at phasespace_044.npy , probably a NaN run.\n",
      "No phasespace file at phasespace_046.npy , probably a NaN run.\n",
      "No phasespace file at phasespace_047.npy , probably a NaN run.\n",
      "No phasespace file at phasespace_049.npy , probably a NaN run.\n",
      "No phasespace file at phasespace_050.npy , probably a NaN run.\n",
      "No phasespace file at phasespace_052.npy , probably a NaN run.\n",
      "No phasespace file at phasespace_053.npy , probably a NaN run.\n",
      "No phasespace file at phasespace_055.npy , probably a NaN run.\n",
      "No phasespace file at phasespace_057.npy , probably a NaN run.\n",
      "No phasespace file at phasespace_060.npy , probably a NaN run.\n",
      "No phasespace file at phasespace_062.npy , probably a NaN run.\n",
      "No phasespace file at phasespace_063.npy , probably a NaN run.\n",
      "No phasespace file at phasespace_064.npy , probably a NaN run.\n",
      "No phasespace file at phasespace_065.npy , probably a NaN run.\n",
      "No phasespace file at phasespace_067.npy , probably a NaN run.\n",
      "No phasespace file at phasespace_073.npy , probably a NaN run.\n",
      "No phasespace file at phasespace_074.npy , probably a NaN run.\n",
      "No phasespace file at phasespace_075.npy , probably a NaN run.\n",
      "No phasespace file at phasespace_077.npy , probably a NaN run.\n",
      "No phasespace file at phasespace_084.npy , probably a NaN run.\n",
      "No phasespace file at phasespace_085.npy , probably a NaN run.\n",
      "No phasespace file at phasespace_086.npy , probably a NaN run.\n",
      "No phasespace file at phasespace_088.npy , probably a NaN run.\n",
      "No phasespace file at phasespace_091.npy , probably a NaN run.\n",
      "No phasespace file at phasespace_092.npy , probably a NaN run.\n",
      "No phasespace file at phasespace_096.npy , probably a NaN run.\n",
      "No phasespace file at phasespace_098.npy , probably a NaN run.\n",
      "No phasespace file at phasespace_099.npy , probably a NaN run.\n"
     ]
    }
   ],
   "source": [
    "num_runs = 100\n",
    "for i in range(num_runs):\n",
    "    index_string = \"{:03d}\".format(i)\n",
    "    npy_filename = 'phasespace_'+index_string+'.npy'\n",
    "\n",
    "    try:\n",
    "        npy_data = np.load(npy_folder+npy_filename)\n",
    "        data = extract_and_map_npy_data(npy_data)\n",
    "        \n",
    "        os.makedirs(csv_folder, exist_ok=True)\n",
    "        csv_filename = csv_folder + 'data_' + index_string + '.csv'\n",
    "        save_to_csv(data, csv_filename)\n",
    "    except:\n",
    "        print(\"No phasespace file at\", npy_filename, \", probably a NaN run.\")"
   ]
  },
  {
   "cell_type": "code",
   "execution_count": null,
   "id": "b2e59c0f-70e2-4879-8e30-20507b136993",
   "metadata": {},
   "outputs": [],
   "source": []
  }
 ],
 "metadata": {
  "kernelspec": {
   "display_name": "Python 3 (ipykernel)",
   "language": "python",
   "name": "python3"
  },
  "language_info": {
   "codemirror_mode": {
    "name": "ipython",
    "version": 3
   },
   "file_extension": ".py",
   "mimetype": "text/x-python",
   "name": "python",
   "nbconvert_exporter": "python",
   "pygments_lexer": "ipython3",
   "version": "3.10.5"
  }
 },
 "nbformat": 4,
 "nbformat_minor": 5
}
