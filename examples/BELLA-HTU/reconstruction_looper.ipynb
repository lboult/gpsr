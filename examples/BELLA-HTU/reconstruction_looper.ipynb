{
 "cells": [
  {
   "cell_type": "code",
   "execution_count": 1,
   "metadata": {},
   "outputs": [],
   "source": [
    "import os\n",
    "import torch\n",
    "import matplotlib.pyplot as plt\n",
    "import numpy as np\n",
    "\n",
    "from phase_space_reconstruction.virtual.beamlines import quad_drift\n",
    "from phase_space_reconstruction.virtual.scans import run_quad_scan\n",
    "from phase_space_reconstruction.diagnostics import ImageDiagnostic\n",
    "from phase_space_reconstruction.train import train_1d_scan\n",
    "\n",
    "from bmadx.plot import plot_projections\n",
    "from phase_space_reconstruction.visualization import plot_scan_data, plot_predicted_screens"
   ]
  },
  {
   "cell_type": "code",
   "execution_count": 2,
   "metadata": {},
   "outputs": [],
   "source": [
    "#convert saved BELLA quad scan data into correct format for subsequent analysis\n",
    "from PIL import Image, ImageOps\n",
    "import re\n",
    "\n",
    "# Function to pad the images to be square\n",
    "def pad_to_square(img):\n",
    "    width, height = img.size\n",
    "    new_size = max(width, height)\n",
    "    delta_w = new_size - width\n",
    "    delta_h = new_size - height\n",
    "    padding = (delta_w//2, delta_h//2, delta_w-(delta_w//2), delta_h-(delta_h//2))\n",
    "    return ImageOps.expand(img, padding)\n",
    "\n",
    "# Function to get all image files from a specified directory\n",
    "def get_image_files(dir_path):\n",
    "    # Get a list of all files with the specified extensions\n",
    "    files = [f for f in os.listdir(dir_path) if f.endswith(('.png', '.jpg', '.jpeg'))]\n",
    "    \n",
    "    # Extract the number from each filename and sort the files based on these numbers\n",
    "    sorted_files = sorted(files, key=lambda x: int(re.search(r'_(\\d+)', x).group(1)))\n",
    "    \n",
    "    return sorted_files\n",
    "\n",
    "# Get a list of all image files in the specified directory\n",
    "image_folder_path = \"16bit_images/\"\n",
    "image_files = get_image_files(image_folder_path)\n",
    "\n",
    "# Open, pad to make square, and resize each image, then convert them to grayscale\n",
    "image_list = []\n",
    "for file in image_files:\n",
    "    img = Image.open(os.path.join(image_folder_path, file))\n",
    "    img = pad_to_square(img)\n",
    "    \n",
    "    # Get the new dimensions after padding\n",
    "    width, height = img.size\n",
    "    \n",
    "    # Crop 200 pixels from each edge\n",
    "    img = img.crop((200, 200, width - 200, height - 200))\n",
    "    \n",
    "    img = img.resize((200, 200))\n",
    "    \n",
    "    # Convert the image to a numpy array\n",
    "    img_array = np.array(img, dtype=np.float32)\n",
    "    \n",
    "    # Find the maximum value in the image\n",
    "    max_value = np.amax(img_array)\n",
    "    \n",
    "    # Normalize the image by dividing each pixel by the maximum value\n",
    "    img_array /= max_value\n",
    "    image_list.append(np.array(img, dtype=np.float32))\n",
    "\n",
    "# Convert the images to a torch tensor\n",
    "images_tensor = torch.stack([torch.tensor(np.array(img)) for img in image_list])\n",
    "\n",
    "# Add an extra dimension for the channel (grayscale)\n",
    "images_tensor = images_tensor.unsqueeze(1)\n",
    "\n",
    "images=images_tensor.double()\n",
    "\n",
    "\n",
    "\n",
    "# convert quad current values to normalized k values\n",
    "def EMQ3CurToGrad(cur):\n",
    "    return 2.9016 * cur + 0.093\n",
    "\n",
    "def gradientToK(gradient,energy):\n",
    "    return gradient*299.8/energy\n",
    "\n",
    "currents=np.linspace(1.3,2.3,11)\n",
    "gradients = EMQ3CurToGrad(currents)\n",
    "\n",
    "# Fixed value of energy\n",
    "energy = 105\n",
    "\n",
    "# # Convert the gradients tensor to a numpy array for easier manipulation\n",
    "# gradients_numpy = gradients.numpy()\n",
    "\n",
    "# Apply the function to each gradient value\n",
    "k_values_numpy = gradientToK(gradients, energy)\n",
    "\n",
    "# Convert the k_values back to a torch tensor\n",
    "k_values_tensor = torch.tensor(k_values_numpy).unsqueeze(1).unsqueeze(2).double()\n",
    "\n",
    "# k_values_tensor = k_values_tensor.unsqueeze(1).unsqueeze(2)\n",
    "ks=k_values_tensor"
   ]
  },
  {
   "cell_type": "code",
   "execution_count": 3,
   "metadata": {},
   "outputs": [
    {
     "name": "stdout",
     "output_type": "stream",
     "text": [
      "dataset saved as 'data\\test.dset'\n",
      "dataset saved as 'data\\train.dset'\n"
     ]
    }
   ],
   "source": [
    "from phase_space_reconstruction.modeling import ImageDataset, ImageDataset3D\n",
    "\n",
    "# create image dataset\n",
    "save_as='test.dset'\n",
    "dset = ImageDataset(ks[1::2], images[::2])\n",
    "\n",
    "# save scan data if wanted\n",
    "if save_as is not None:\n",
    "    # Include the path to the \"data\" directory in the save_as variable\n",
    "    save_as = os.path.join(\"data\", save_as)\n",
    "    \n",
    "    # Check if the \"data\" directory exists, if not, create it\n",
    "    if not os.path.exists(\"data\"):\n",
    "        os.makedirs(\"data\")\n",
    "    \n",
    "    # Save the dataset in the \"data\" directory\n",
    "    torch.save(dset, save_as)\n",
    "    print(f\"dataset saved as '{save_as}'\")\n",
    "    \n",
    "    \n",
    "# create image dataset\n",
    "save_as='train.dset'\n",
    "dset = ImageDataset(ks[::2], images[::2])\n",
    "\n",
    "# save scan data if wanted\n",
    "if save_as is not None:\n",
    "    # Include the path to the \"data\" directory in the save_as variable\n",
    "    save_as = os.path.join(\"data\", save_as)\n",
    "    \n",
    "    # Check if the \"data\" directory exists, if not, create it\n",
    "    if not os.path.exists(\"data\"):\n",
    "        os.makedirs(\"data\")\n",
    "    \n",
    "    # Save the dataset in the \"data\" directory\n",
    "    torch.save(dset, save_as)\n",
    "    print(f\"dataset saved as '{save_as}'\")"
   ]
  },
  {
   "cell_type": "code",
   "execution_count": 4,
   "metadata": {},
   "outputs": [],
   "source": [
    "data_dir = 'data'"
   ]
  },
  {
   "cell_type": "code",
   "execution_count": 5,
   "metadata": {},
   "outputs": [],
   "source": [
    "# load data:\n",
    "train_dset = torch.load(os.path.join(data_dir,'train.dset'))\n",
    "test_dset = torch.load(os.path.join(data_dir,'test.dset'))\n",
    "\n",
    "# image bins: \n",
    "bins_x = torch.linspace(-7.32, 7.32, train_dset.images.shape[-2])*1e-3\n",
    "bins_y = torch.linspace(-7.32, 7.32, train_dset.images.shape[-1])*1e-3"
   ]
  },
  {
   "cell_type": "code",
   "execution_count": 6,
   "metadata": {},
   "outputs": [
    {
     "name": "stdout",
     "output_type": "stream",
     "text": [
      "image size = 15 x 15 mm\n",
      "test samples boxed in orange\n"
     ]
    },
    {
     "data": {
      "image/png": "[encoded data removed]",
      "text/plain": [
       "<Figure size 864x72 with 12 Axes>"
      ]
     },
     "metadata": {
      "needs_background": "light"
     },
     "output_type": "display_data"
    }
   ],
   "source": [
    "fig, ax = plot_scan_data(train_dset, test_dset, bins_x, bins_y)\n",
    "plt.show()"
   ]
  },
  {
   "cell_type": "code",
   "execution_count": 7,
   "metadata": {},
   "outputs": [],
   "source": [
    "# diagnostic beamline:\n",
    "lattice = quad_drift(l_d=2.126, l_q=0.1409)\n",
    "\n",
    "# design momentum (eV)\n",
    "p0c = energy* 1e6\n",
    "\n",
    "# diagnostic screen: \n",
    "bandwidth = (bins_x[1]-bins_x[0]) / 2\n",
    "screen = ImageDiagnostic(bins_x, bins_y, bandwidth)"
   ]
  },
  {
   "cell_type": "code",
   "execution_count": 8,
   "metadata": {},
   "outputs": [
    {
     "name": "stdout",
     "output_type": "stream",
     "text": [
      "Using device: cpu\n"
     ]
    },
    {
     "name": "stderr",
     "output_type": "stream",
     "text": [
      "C:\\Users\\loasis\\AppData\\Local\\Programs\\Python\\Python310\\lib\\site-packages\\torch\\functional.py:504: UserWarning: torch.meshgrid: in an upcoming release, it will be required to pass the indexing argument. (Triggered internally at ..\\aten\\src\\ATen\\native\\TensorShape.cpp:3484.)\n",
      "  return _VF.meshgrid(tensors, **kwargs)  # type: ignore[attr-defined]\n"
     ]
    },
    {
     "name": "stdout",
     "output_type": "stream",
     "text": [
      "0 tensor(nan, dtype=torch.float64, grad_fn=<MulBackward0>)\n",
      "100 tensor(nan, dtype=torch.float64, grad_fn=<MulBackward0>)\n",
      "200 tensor(nan, dtype=torch.float64, grad_fn=<MulBackward0>)\n",
      "300 tensor(nan, dtype=torch.float64, grad_fn=<MulBackward0>)\n",
      "400 tensor(nan, dtype=torch.float64, grad_fn=<MulBackward0>)\n",
      "image size = 15 x 15 mm\n",
      "test samples boxed in orange\n",
      "Error occured at step 000. Probably returned all NaN\n",
      "Using device: cpu\n",
      "0 tensor(4324848.8527, dtype=torch.float64, grad_fn=<MulBackward0>)\n",
      "100 tensor(3828602.5006, dtype=torch.float64, grad_fn=<MulBackward0>)\n",
      "200 tensor(3664881.6845, dtype=torch.float64, grad_fn=<MulBackward0>)\n",
      "300 tensor(1484319.4818, dtype=torch.float64, grad_fn=<MulBackward0>)\n",
      "400 tensor(1075693.1758, dtype=torch.float64, grad_fn=<MulBackward0>)\n",
      "image size = 15 x 15 mm\n",
      "test samples boxed in orange\n",
      "Using device: cpu\n",
      "0 tensor(3658870.7755, dtype=torch.float64, grad_fn=<MulBackward0>)\n",
      "100 tensor(3799372.9489, dtype=torch.float64, grad_fn=<MulBackward0>)\n",
      "200 tensor(2092398.8299, dtype=torch.float64, grad_fn=<MulBackward0>)\n",
      "300 tensor(1310791.7716, dtype=torch.float64, grad_fn=<MulBackward0>)\n",
      "400 tensor(1147681.3391, dtype=torch.float64, grad_fn=<MulBackward0>)\n",
      "image size = 15 x 15 mm\n",
      "test samples boxed in orange\n",
      "Using device: cpu\n",
      "0 tensor(4896021.0684, dtype=torch.float64, grad_fn=<MulBackward0>)\n",
      "100 tensor(1390078.6994, dtype=torch.float64, grad_fn=<MulBackward0>)\n",
      "200 tensor(1165482.3602, dtype=torch.float64, grad_fn=<MulBackward0>)\n",
      "300 tensor(1224321.0483, dtype=torch.float64, grad_fn=<MulBackward0>)\n",
      "400 tensor(1021842.4574, dtype=torch.float64, grad_fn=<MulBackward0>)\n",
      "image size = 15 x 15 mm\n",
      "test samples boxed in orange\n",
      "Using device: cpu\n",
      "0 tensor(4358063.8357, dtype=torch.float64, grad_fn=<MulBackward0>)\n",
      "100 tensor(1408550.3422, dtype=torch.float64, grad_fn=<MulBackward0>)\n",
      "200 tensor(1156294.7716, dtype=torch.float64, grad_fn=<MulBackward0>)\n",
      "300 tensor(1120516.4558, dtype=torch.float64, grad_fn=<MulBackward0>)\n",
      "400 tensor(1062263.7873, dtype=torch.float64, grad_fn=<MulBackward0>)\n",
      "image size = 15 x 15 mm\n",
      "test samples boxed in orange\n",
      "Using device: cpu\n",
      "0 tensor(4311112.4751, dtype=torch.float64, grad_fn=<MulBackward0>)\n",
      "100 tensor(4115229.2870, dtype=torch.float64, grad_fn=<MulBackward0>)\n",
      "200 tensor(nan, dtype=torch.float64, grad_fn=<MulBackward0>)\n",
      "300 tensor(nan, dtype=torch.float64, grad_fn=<MulBackward0>)\n",
      "400 tensor(nan, dtype=torch.float64, grad_fn=<MulBackward0>)\n",
      "image size = 15 x 15 mm\n",
      "test samples boxed in orange\n",
      "Error occured at step 005. Probably returned all NaN\n",
      "Using device: cpu\n",
      "0 tensor(5000028.6685, dtype=torch.float64, grad_fn=<MulBackward0>)\n",
      "100 tensor(nan, dtype=torch.float64, grad_fn=<MulBackward0>)\n",
      "200 tensor(nan, dtype=torch.float64, grad_fn=<MulBackward0>)\n",
      "300 tensor(nan, dtype=torch.float64, grad_fn=<MulBackward0>)\n",
      "400 tensor(nan, dtype=torch.float64, grad_fn=<MulBackward0>)\n",
      "image size = 15 x 15 mm\n",
      "test samples boxed in orange\n",
      "Error occured at step 006. Probably returned all NaN\n",
      "Using device: cpu\n",
      "0 tensor(4999345.8327, dtype=torch.float64, grad_fn=<MulBackward0>)\n",
      "100 tensor(1531492.3158, dtype=torch.float64, grad_fn=<MulBackward0>)\n",
      "200 tensor(1196499.2696, dtype=torch.float64, grad_fn=<MulBackward0>)\n",
      "300 tensor(1254315.3350, dtype=torch.float64, grad_fn=<MulBackward0>)\n",
      "400 tensor(1122423.0507, dtype=torch.float64, grad_fn=<MulBackward0>)\n",
      "image size = 15 x 15 mm\n",
      "test samples boxed in orange\n",
      "Using device: cpu\n",
      "0 tensor(4877091.3715, dtype=torch.float64, grad_fn=<MulBackward0>)\n",
      "100 tensor(4950320.5063, dtype=torch.float64, grad_fn=<MulBackward0>)\n",
      "200 tensor(4980635.4193, dtype=torch.float64, grad_fn=<MulBackward0>)\n",
      "300 tensor(4973439.0082, dtype=torch.float64, grad_fn=<MulBackward0>)\n",
      "400 tensor(nan, dtype=torch.float64, grad_fn=<MulBackward0>)\n",
      "image size = 15 x 15 mm\n",
      "test samples boxed in orange\n",
      "Error occured at step 008. Probably returned all NaN\n",
      "Using device: cpu\n",
      "0 tensor(4991406.6813, dtype=torch.float64, grad_fn=<MulBackward0>)\n",
      "100 tensor(3939587.8363, dtype=torch.float64, grad_fn=<MulBackward0>)\n",
      "200 tensor(4129268.1059, dtype=torch.float64, grad_fn=<MulBackward0>)\n",
      "300 tensor(4599392.6259, dtype=torch.float64, grad_fn=<MulBackward0>)\n",
      "400 tensor(4999554.2149, dtype=torch.float64, grad_fn=<MulBackward0>)\n",
      "image size = 15 x 15 mm\n",
      "test samples boxed in orange\n"
     ]
    },
    {
     "name": "stderr",
     "output_type": "stream",
     "text": [
      "C:\\Users\\loasis\\Desktop\\PhaseSpaceReconstructionRepos\\Bmad-X\\bmadx\\plot.py:66: RuntimeWarning: More than 20 figures have been opened. Figures created through the pyplot interface (`matplotlib.pyplot.figure`) are retained until explicitly closed and may consume too much memory. (To control this warning, see the rcParam `figure.max_open_warning`).\n",
      "  fig, ax = plt.subplots(n_coords, n_coords, figsize=fig_size)\n"
     ]
    },
    {
     "name": "stdout",
     "output_type": "stream",
     "text": [
      "Using device: cpu\n",
      "0 tensor(4998334.1231, dtype=torch.float64, grad_fn=<MulBackward0>)\n",
      "100 tensor(1476709.8435, dtype=torch.float64, grad_fn=<MulBackward0>)\n",
      "200 tensor(1171394.7804, dtype=torch.float64, grad_fn=<MulBackward0>)\n",
      "300 tensor(1031975.4901, dtype=torch.float64, grad_fn=<MulBackward0>)\n",
      "400 tensor(945689.4742, dtype=torch.float64, grad_fn=<MulBackward0>)\n",
      "image size = 15 x 15 mm\n",
      "test samples boxed in orange\n",
      "Using device: cpu\n",
      "0 tensor(5000418.5258, dtype=torch.float64, grad_fn=<MulBackward0>)\n",
      "100 tensor(nan, dtype=torch.float64, grad_fn=<MulBackward0>)\n",
      "200 tensor(nan, dtype=torch.float64, grad_fn=<MulBackward0>)\n",
      "300 tensor(nan, dtype=torch.float64, grad_fn=<MulBackward0>)\n",
      "400 tensor(nan, dtype=torch.float64, grad_fn=<MulBackward0>)\n",
      "image size = 15 x 15 mm\n",
      "test samples boxed in orange\n",
      "Error occured at step 011. Probably returned all NaN\n",
      "Using device: cpu\n",
      "0 tensor(nan, dtype=torch.float64, grad_fn=<MulBackward0>)\n",
      "100 tensor(nan, dtype=torch.float64, grad_fn=<MulBackward0>)\n",
      "200 tensor(nan, dtype=torch.float64, grad_fn=<MulBackward0>)\n",
      "300 tensor(nan, dtype=torch.float64, grad_fn=<MulBackward0>)\n",
      "400 tensor(nan, dtype=torch.float64, grad_fn=<MulBackward0>)\n",
      "image size = 15 x 15 mm\n",
      "test samples boxed in orange\n",
      "Error occured at step 012. Probably returned all NaN\n",
      "Using device: cpu\n",
      "0 tensor(5000289.8902, dtype=torch.float64, grad_fn=<MulBackward0>)\n",
      "100 tensor(3344697.8563, dtype=torch.float64, grad_fn=<MulBackward0>)\n",
      "200 tensor(1475464.9018, dtype=torch.float64, grad_fn=<MulBackward0>)\n",
      "300 tensor(1284942.6549, dtype=torch.float64, grad_fn=<MulBackward0>)\n",
      "400 tensor(1090412.9184, dtype=torch.float64, grad_fn=<MulBackward0>)\n",
      "image size = 15 x 15 mm\n",
      "test samples boxed in orange\n",
      "Using device: cpu\n",
      "0 tensor(4890978.7110, dtype=torch.float64, grad_fn=<MulBackward0>)\n",
      "100 tensor(4422817.7479, dtype=torch.float64, grad_fn=<MulBackward0>)\n",
      "200 tensor(4879625.0997, dtype=torch.float64, grad_fn=<MulBackward0>)\n",
      "300 tensor(4622260.6309, dtype=torch.float64, grad_fn=<MulBackward0>)\n",
      "400 tensor(4754952.0950, dtype=torch.float64, grad_fn=<MulBackward0>)\n",
      "image size = 15 x 15 mm\n",
      "test samples boxed in orange\n",
      "Using device: cpu\n",
      "0 tensor(4390481.5891, dtype=torch.float64, grad_fn=<MulBackward0>)\n",
      "100 tensor(4065637.6973, dtype=torch.float64, grad_fn=<MulBackward0>)\n",
      "200 tensor(3674526.8083, dtype=torch.float64, grad_fn=<MulBackward0>)\n",
      "300 tensor(1295317.0526, dtype=torch.float64, grad_fn=<MulBackward0>)\n",
      "400 tensor(1111025.7310, dtype=torch.float64, grad_fn=<MulBackward0>)\n",
      "image size = 15 x 15 mm\n",
      "test samples boxed in orange\n",
      "Using device: cpu\n",
      "0 tensor(nan, dtype=torch.float64, grad_fn=<MulBackward0>)\n",
      "100 tensor(nan, dtype=torch.float64, grad_fn=<MulBackward0>)\n",
      "200 tensor(nan, dtype=torch.float64, grad_fn=<MulBackward0>)\n",
      "300 tensor(nan, dtype=torch.float64, grad_fn=<MulBackward0>)\n",
      "400 tensor(nan, dtype=torch.float64, grad_fn=<MulBackward0>)\n",
      "image size = 15 x 15 mm\n",
      "test samples boxed in orange\n",
      "Error occured at step 016. Probably returned all NaN\n",
      "Using device: cpu\n",
      "0 tensor(4271911.0248, dtype=torch.float64, grad_fn=<MulBackward0>)\n",
      "100 tensor(nan, dtype=torch.float64, grad_fn=<MulBackward0>)\n",
      "200 tensor(nan, dtype=torch.float64, grad_fn=<MulBackward0>)\n",
      "300 tensor(nan, dtype=torch.float64, grad_fn=<MulBackward0>)\n",
      "400 tensor(nan, dtype=torch.float64, grad_fn=<MulBackward0>)\n",
      "image size = 15 x 15 mm\n",
      "test samples boxed in orange\n",
      "Error occured at step 017. Probably returned all NaN\n",
      "Using device: cpu\n",
      "0 tensor(3711834.2315, dtype=torch.float64, grad_fn=<MulBackward0>)\n",
      "100 tensor(3916554.7260, dtype=torch.float64, grad_fn=<MulBackward0>)\n",
      "200 tensor(3552020.7856, dtype=torch.float64, grad_fn=<MulBackward0>)\n",
      "300 tensor(1272036.6568, dtype=torch.float64, grad_fn=<MulBackward0>)\n",
      "400 tensor(1009993.2066, dtype=torch.float64, grad_fn=<MulBackward0>)\n",
      "image size = 15 x 15 mm\n",
      "test samples boxed in orange\n",
      "Using device: cpu\n",
      "0 tensor(4999777.4167, dtype=torch.float64, grad_fn=<MulBackward0>)\n",
      "100 tensor(1408954.9588, dtype=torch.float64, grad_fn=<MulBackward0>)\n",
      "200 tensor(1240796.4399, dtype=torch.float64, grad_fn=<MulBackward0>)\n",
      "300 tensor(1121022.4218, dtype=torch.float64, grad_fn=<MulBackward0>)\n",
      "400 tensor(1055531.3936, dtype=torch.float64, grad_fn=<MulBackward0>)\n",
      "image size = 15 x 15 mm\n",
      "test samples boxed in orange\n",
      "Using device: cpu\n",
      "0 tensor(4857372.7028, dtype=torch.float64, grad_fn=<MulBackward0>)\n",
      "100 tensor(3739329.1255, dtype=torch.float64, grad_fn=<MulBackward0>)\n",
      "200 tensor(2049358.5265, dtype=torch.float64, grad_fn=<MulBackward0>)\n",
      "300 tensor(1195759.2080, dtype=torch.float64, grad_fn=<MulBackward0>)\n",
      "400 tensor(1210688.0189, dtype=torch.float64, grad_fn=<MulBackward0>)\n",
      "image size = 15 x 15 mm\n",
      "test samples boxed in orange\n",
      "Using device: cpu\n",
      "0 tensor(4928335.6624, dtype=torch.float64, grad_fn=<MulBackward0>)\n",
      "100 tensor(2045609.7764, dtype=torch.float64, grad_fn=<MulBackward0>)\n",
      "200 tensor(1477453.1504, dtype=torch.float64, grad_fn=<MulBackward0>)\n",
      "300 tensor(1093863.9009, dtype=torch.float64, grad_fn=<MulBackward0>)\n",
      "400 tensor(998496.7112, dtype=torch.float64, grad_fn=<MulBackward0>)\n",
      "image size = 15 x 15 mm\n",
      "test samples boxed in orange\n",
      "Using device: cpu\n",
      "0 tensor(4726284.9149, dtype=torch.float64, grad_fn=<MulBackward0>)\n",
      "100 tensor(4634132.7257, dtype=torch.float64, grad_fn=<MulBackward0>)\n",
      "200 tensor(4583961.1221, dtype=torch.float64, grad_fn=<MulBackward0>)\n",
      "300 tensor(nan, dtype=torch.float64, grad_fn=<MulBackward0>)\n",
      "400 tensor(nan, dtype=torch.float64, grad_fn=<MulBackward0>)\n",
      "image size = 15 x 15 mm\n",
      "test samples boxed in orange\n",
      "Error occured at step 022. Probably returned all NaN\n",
      "Using device: cpu\n",
      "0 tensor(4870602.4964, dtype=torch.float64, grad_fn=<MulBackward0>)\n",
      "100 tensor(1428946.9475, dtype=torch.float64, grad_fn=<MulBackward0>)\n",
      "200 tensor(1176175.5789, dtype=torch.float64, grad_fn=<MulBackward0>)\n",
      "300 tensor(1166942.9866, dtype=torch.float64, grad_fn=<MulBackward0>)\n",
      "400 tensor(980528.5370, dtype=torch.float64, grad_fn=<MulBackward0>)\n",
      "image size = 15 x 15 mm\n",
      "test samples boxed in orange\n",
      "Using device: cpu\n",
      "0 tensor(3733008.6229, dtype=torch.float64, grad_fn=<MulBackward0>)\n",
      "100 tensor(nan, dtype=torch.float64, grad_fn=<MulBackward0>)\n",
      "200 tensor(nan, dtype=torch.float64, grad_fn=<MulBackward0>)\n",
      "300 tensor(nan, dtype=torch.float64, grad_fn=<MulBackward0>)\n",
      "400 tensor(nan, dtype=torch.float64, grad_fn=<MulBackward0>)\n",
      "image size = 15 x 15 mm\n",
      "test samples boxed in orange\n",
      "Error occured at step 024. Probably returned all NaN\n",
      "Using device: cpu\n",
      "0 tensor(nan, dtype=torch.float64, grad_fn=<MulBackward0>)\n",
      "100 tensor(nan, dtype=torch.float64, grad_fn=<MulBackward0>)\n",
      "200 tensor(nan, dtype=torch.float64, grad_fn=<MulBackward0>)\n",
      "300 tensor(nan, dtype=torch.float64, grad_fn=<MulBackward0>)\n",
      "400 tensor(nan, dtype=torch.float64, grad_fn=<MulBackward0>)\n",
      "image size = 15 x 15 mm\n",
      "test samples boxed in orange\n",
      "Error occured at step 025. Probably returned all NaN\n",
      "Using device: cpu\n",
      "0 tensor(4917739.7143, dtype=torch.float64, grad_fn=<MulBackward0>)\n",
      "100 tensor(1689438.5025, dtype=torch.float64, grad_fn=<MulBackward0>)\n",
      "200 tensor(1359722.8077, dtype=torch.float64, grad_fn=<MulBackward0>)\n",
      "300 tensor(1118241.9185, dtype=torch.float64, grad_fn=<MulBackward0>)\n",
      "400 tensor(1245520.3353, dtype=torch.float64, grad_fn=<MulBackward0>)\n",
      "image size = 15 x 15 mm\n",
      "test samples boxed in orange\n",
      "Using device: cpu\n",
      "0 tensor(4425062.7074, dtype=torch.float64, grad_fn=<MulBackward0>)\n",
      "100 tensor(1463984.6322, dtype=torch.float64, grad_fn=<MulBackward0>)\n",
      "200 tensor(1208290.4633, dtype=torch.float64, grad_fn=<MulBackward0>)\n",
      "300 tensor(996599.7312, dtype=torch.float64, grad_fn=<MulBackward0>)\n",
      "400 tensor(975479.1146, dtype=torch.float64, grad_fn=<MulBackward0>)\n",
      "image size = 15 x 15 mm\n",
      "test samples boxed in orange\n",
      "Using device: cpu\n",
      "0 tensor(4572688.6355, dtype=torch.float64, grad_fn=<MulBackward0>)\n",
      "100 tensor(4925444.0349, dtype=torch.float64, grad_fn=<MulBackward0>)\n",
      "200 tensor(nan, dtype=torch.float64, grad_fn=<MulBackward0>)\n",
      "300 tensor(nan, dtype=torch.float64, grad_fn=<MulBackward0>)\n",
      "400 tensor(nan, dtype=torch.float64, grad_fn=<MulBackward0>)\n",
      "image size = 15 x 15 mm\n",
      "test samples boxed in orange\n",
      "Error occured at step 028. Probably returned all NaN\n",
      "Using device: cpu\n",
      "0 tensor(nan, dtype=torch.float64, grad_fn=<MulBackward0>)\n",
      "100 tensor(nan, dtype=torch.float64, grad_fn=<MulBackward0>)\n",
      "200 tensor(nan, dtype=torch.float64, grad_fn=<MulBackward0>)\n",
      "300 tensor(nan, dtype=torch.float64, grad_fn=<MulBackward0>)\n",
      "400 tensor(nan, dtype=torch.float64, grad_fn=<MulBackward0>)\n",
      "image size = 15 x 15 mm\n",
      "test samples boxed in orange\n",
      "Error occured at step 029. Probably returned all NaN\n",
      "Using device: cpu\n",
      "0 tensor(4996362.5241, dtype=torch.float64, grad_fn=<MulBackward0>)\n",
      "100 tensor(4250115.7632, dtype=torch.float64, grad_fn=<MulBackward0>)\n",
      "200 tensor(4965519.5409, dtype=torch.float64, grad_fn=<MulBackward0>)\n",
      "300 tensor(nan, dtype=torch.float64, grad_fn=<MulBackward0>)\n",
      "400 tensor(nan, dtype=torch.float64, grad_fn=<MulBackward0>)\n",
      "image size = 15 x 15 mm\n",
      "test samples boxed in orange\n",
      "Error occured at step 030. Probably returned all NaN\n",
      "Using device: cpu\n",
      "0 tensor(5000418.2410, dtype=torch.float64, grad_fn=<MulBackward0>)\n",
      "100 tensor(1546537.4802, dtype=torch.float64, grad_fn=<MulBackward0>)\n",
      "200 tensor(1135747.0277, dtype=torch.float64, grad_fn=<MulBackward0>)\n",
      "300 tensor(990512.7713, dtype=torch.float64, grad_fn=<MulBackward0>)\n",
      "400 tensor(996236.9319, dtype=torch.float64, grad_fn=<MulBackward0>)\n",
      "image size = 15 x 15 mm\n",
      "test samples boxed in orange\n",
      "Using device: cpu\n",
      "0 tensor(4785929.8911, dtype=torch.float64, grad_fn=<MulBackward0>)\n",
      "100 tensor(2773160.3940, dtype=torch.float64, grad_fn=<MulBackward0>)\n",
      "200 tensor(1826468.4412, dtype=torch.float64, grad_fn=<MulBackward0>)\n",
      "300 tensor(1408688.2258, dtype=torch.float64, grad_fn=<MulBackward0>)\n",
      "400 tensor(1659749.4352, dtype=torch.float64, grad_fn=<MulBackward0>)\n",
      "image size = 15 x 15 mm\n",
      "test samples boxed in orange\n",
      "Using device: cpu\n",
      "0 tensor(4993697.0972, dtype=torch.float64, grad_fn=<MulBackward0>)\n",
      "100 tensor(4159408.3335, dtype=torch.float64, grad_fn=<MulBackward0>)\n",
      "200 tensor(4307577.7137, dtype=torch.float64, grad_fn=<MulBackward0>)\n",
      "300 tensor(4280558.4327, dtype=torch.float64, grad_fn=<MulBackward0>)\n",
      "400 tensor(4567583.6585, dtype=torch.float64, grad_fn=<MulBackward0>)\n",
      "image size = 15 x 15 mm\n",
      "test samples boxed in orange\n",
      "Using device: cpu\n",
      "0 tensor(4694039.7699, dtype=torch.float64, grad_fn=<MulBackward0>)\n",
      "100 tensor(1522922.4441, dtype=torch.float64, grad_fn=<MulBackward0>)\n",
      "200 tensor(1205367.2051, dtype=torch.float64, grad_fn=<MulBackward0>)\n",
      "300 tensor(1050584.8367, dtype=torch.float64, grad_fn=<MulBackward0>)\n",
      "400 tensor(947028.7774, dtype=torch.float64, grad_fn=<MulBackward0>)\n",
      "image size = 15 x 15 mm\n",
      "test samples boxed in orange\n",
      "Using device: cpu\n",
      "0 tensor(4914505.0225, dtype=torch.float64, grad_fn=<MulBackward0>)\n",
      "100 tensor(3753633.2899, dtype=torch.float64, grad_fn=<MulBackward0>)\n",
      "200 tensor(2499926.7882, dtype=torch.float64, grad_fn=<MulBackward0>)\n",
      "300 tensor(1223896.1483, dtype=torch.float64, grad_fn=<MulBackward0>)\n",
      "400 tensor(1211695.4378, dtype=torch.float64, grad_fn=<MulBackward0>)\n",
      "image size = 15 x 15 mm\n",
      "test samples boxed in orange\n",
      "Using device: cpu\n",
      "0 tensor(4879763.4532, dtype=torch.float64, grad_fn=<MulBackward0>)\n",
      "100 tensor(nan, dtype=torch.float64, grad_fn=<MulBackward0>)\n",
      "200 tensor(nan, dtype=torch.float64, grad_fn=<MulBackward0>)\n",
      "300 tensor(nan, dtype=torch.float64, grad_fn=<MulBackward0>)\n",
      "400 tensor(nan, dtype=torch.float64, grad_fn=<MulBackward0>)\n",
      "image size = 15 x 15 mm\n",
      "test samples boxed in orange\n",
      "Error occured at step 036. Probably returned all NaN\n",
      "Using device: cpu\n",
      "0 tensor(4747330.3612, dtype=torch.float64, grad_fn=<MulBackward0>)\n",
      "100 tensor(1546138.7402, dtype=torch.float64, grad_fn=<MulBackward0>)\n",
      "200 tensor(1657521.7937, dtype=torch.float64, grad_fn=<MulBackward0>)\n",
      "300 tensor(1091437.3001, dtype=torch.float64, grad_fn=<MulBackward0>)\n",
      "400 tensor(1145926.9226, dtype=torch.float64, grad_fn=<MulBackward0>)\n",
      "image size = 15 x 15 mm\n",
      "test samples boxed in orange\n",
      "Using device: cpu\n",
      "0 tensor(4910133.4893, dtype=torch.float64, grad_fn=<MulBackward0>)\n",
      "100 tensor(3775241.7493, dtype=torch.float64, grad_fn=<MulBackward0>)\n",
      "200 tensor(1487966.6808, dtype=torch.float64, grad_fn=<MulBackward0>)\n",
      "300 tensor(1230792.2121, dtype=torch.float64, grad_fn=<MulBackward0>)\n",
      "400 tensor(1063683.0021, dtype=torch.float64, grad_fn=<MulBackward0>)\n",
      "image size = 15 x 15 mm\n",
      "test samples boxed in orange\n",
      "Using device: cpu\n",
      "0 tensor(4902306.5929, dtype=torch.float64, grad_fn=<MulBackward0>)\n",
      "100 tensor(1305190.7027, dtype=torch.float64, grad_fn=<MulBackward0>)\n",
      "200 tensor(1162173.2415, dtype=torch.float64, grad_fn=<MulBackward0>)\n",
      "300 tensor(1006844.3866, dtype=torch.float64, grad_fn=<MulBackward0>)\n",
      "400 tensor(997358.7430, dtype=torch.float64, grad_fn=<MulBackward0>)\n",
      "image size = 15 x 15 mm\n",
      "test samples boxed in orange\n",
      "Using device: cpu\n",
      "0 tensor(5000225.0978, dtype=torch.float64, grad_fn=<MulBackward0>)\n",
      "100 tensor(nan, dtype=torch.float64, grad_fn=<MulBackward0>)\n",
      "200 tensor(nan, dtype=torch.float64, grad_fn=<MulBackward0>)\n",
      "300 tensor(nan, dtype=torch.float64, grad_fn=<MulBackward0>)\n",
      "400 tensor(nan, dtype=torch.float64, grad_fn=<MulBackward0>)\n",
      "image size = 15 x 15 mm\n",
      "test samples boxed in orange\n",
      "Error occured at step 040. Probably returned all NaN\n",
      "Using device: cpu\n",
      "0 tensor(4952136.9154, dtype=torch.float64, grad_fn=<MulBackward0>)\n",
      "100 tensor(4174029.8344, dtype=torch.float64, grad_fn=<MulBackward0>)\n",
      "200 tensor(3949982.9785, dtype=torch.float64, grad_fn=<MulBackward0>)\n",
      "300 tensor(3606391.5645, dtype=torch.float64, grad_fn=<MulBackward0>)\n",
      "400 tensor(3964745.5614, dtype=torch.float64, grad_fn=<MulBackward0>)\n",
      "image size = 15 x 15 mm\n",
      "test samples boxed in orange\n",
      "Using device: cpu\n",
      "0 tensor(4384683.1166, dtype=torch.float64, grad_fn=<MulBackward0>)\n",
      "100 tensor(3625973.4531, dtype=torch.float64, grad_fn=<MulBackward0>)\n",
      "200 tensor(1297992.8473, dtype=torch.float64, grad_fn=<MulBackward0>)\n",
      "300 tensor(1099333.0606, dtype=torch.float64, grad_fn=<MulBackward0>)\n",
      "400 tensor(1110598.4375, dtype=torch.float64, grad_fn=<MulBackward0>)\n",
      "image size = 15 x 15 mm\n",
      "test samples boxed in orange\n",
      "Using device: cpu\n",
      "0 tensor(4676374.6577, dtype=torch.float64, grad_fn=<MulBackward0>)\n",
      "100 tensor(1423517.1466, dtype=torch.float64, grad_fn=<MulBackward0>)\n",
      "200 tensor(1107098.4626, dtype=torch.float64, grad_fn=<MulBackward0>)\n",
      "300 tensor(1034926.1092, dtype=torch.float64, grad_fn=<MulBackward0>)\n",
      "400 tensor(974724.1708, dtype=torch.float64, grad_fn=<MulBackward0>)\n",
      "image size = 15 x 15 mm\n",
      "test samples boxed in orange\n",
      "Using device: cpu\n",
      "0 tensor(4391452.2405, dtype=torch.float64, grad_fn=<MulBackward0>)\n",
      "100 tensor(4371025.8487, dtype=torch.float64, grad_fn=<MulBackward0>)\n",
      "200 tensor(4299104.2572, dtype=torch.float64, grad_fn=<MulBackward0>)\n",
      "300 tensor(4937254.3388, dtype=torch.float64, grad_fn=<MulBackward0>)\n",
      "400 tensor(4982422.8013, dtype=torch.float64, grad_fn=<MulBackward0>)\n",
      "image size = 15 x 15 mm\n",
      "test samples boxed in orange\n",
      "Error occured at step 044. Probably returned all NaN\n",
      "Using device: cpu\n",
      "0 tensor(3972274.3161, dtype=torch.float64, grad_fn=<MulBackward0>)\n",
      "100 tensor(4143563.3744, dtype=torch.float64, grad_fn=<MulBackward0>)\n",
      "200 tensor(4114860.0830, dtype=torch.float64, grad_fn=<MulBackward0>)\n",
      "300 tensor(3895810.7280, dtype=torch.float64, grad_fn=<MulBackward0>)\n",
      "400 tensor(2642280.1518, dtype=torch.float64, grad_fn=<MulBackward0>)\n",
      "image size = 15 x 15 mm\n",
      "test samples boxed in orange\n",
      "Using device: cpu\n",
      "0 tensor(5000418.3988, dtype=torch.float64, grad_fn=<MulBackward0>)\n",
      "100 tensor(nan, dtype=torch.float64, grad_fn=<MulBackward0>)\n",
      "200 tensor(nan, dtype=torch.float64, grad_fn=<MulBackward0>)\n",
      "300 tensor(nan, dtype=torch.float64, grad_fn=<MulBackward0>)\n",
      "400 tensor(nan, dtype=torch.float64, grad_fn=<MulBackward0>)\n",
      "image size = 15 x 15 mm\n",
      "test samples boxed in orange\n",
      "Error occured at step 046. Probably returned all NaN\n",
      "Using device: cpu\n",
      "0 tensor(4656919.7510, dtype=torch.float64, grad_fn=<MulBackward0>)\n",
      "100 tensor(4434741.2001, dtype=torch.float64, grad_fn=<MulBackward0>)\n",
      "200 tensor(4793993.6718, dtype=torch.float64, grad_fn=<MulBackward0>)\n",
      "300 tensor(4656777.1502, dtype=torch.float64, grad_fn=<MulBackward0>)\n",
      "400 tensor(4646896.8407, dtype=torch.float64, grad_fn=<MulBackward0>)\n",
      "image size = 15 x 15 mm\n",
      "test samples boxed in orange\n",
      "Error occured at step 047. Probably returned all NaN\n",
      "Using device: cpu\n",
      "0 tensor(4268374.2216, dtype=torch.float64, grad_fn=<MulBackward0>)\n",
      "100 tensor(3897521.2403, dtype=torch.float64, grad_fn=<MulBackward0>)\n",
      "200 tensor(1658597.6500, dtype=torch.float64, grad_fn=<MulBackward0>)\n",
      "300 tensor(1403593.4178, dtype=torch.float64, grad_fn=<MulBackward0>)\n",
      "400 tensor(1111575.7256, dtype=torch.float64, grad_fn=<MulBackward0>)\n",
      "image size = 15 x 15 mm\n",
      "test samples boxed in orange\n",
      "Using device: cpu\n",
      "0 tensor(nan, dtype=torch.float64, grad_fn=<MulBackward0>)\n",
      "100 tensor(nan, dtype=torch.float64, grad_fn=<MulBackward0>)\n",
      "200 tensor(nan, dtype=torch.float64, grad_fn=<MulBackward0>)\n",
      "300 tensor(nan, dtype=torch.float64, grad_fn=<MulBackward0>)\n",
      "400 tensor(nan, dtype=torch.float64, grad_fn=<MulBackward0>)\n",
      "image size = 15 x 15 mm\n",
      "test samples boxed in orange\n",
      "Error occured at step 049. Probably returned all NaN\n",
      "Using device: cpu\n",
      "0 tensor(4998742.0843, dtype=torch.float64, grad_fn=<MulBackward0>)\n",
      "100 tensor(4967355.8976, dtype=torch.float64, grad_fn=<MulBackward0>)\n",
      "200 tensor(4779031.0503, dtype=torch.float64, grad_fn=<MulBackward0>)\n",
      "300 tensor(4929455.5276, dtype=torch.float64, grad_fn=<MulBackward0>)\n",
      "400 tensor(nan, dtype=torch.float64, grad_fn=<MulBackward0>)\n",
      "image size = 15 x 15 mm\n",
      "test samples boxed in orange\n",
      "Error occured at step 050. Probably returned all NaN\n",
      "Using device: cpu\n",
      "0 tensor(5000009.3384, dtype=torch.float64, grad_fn=<MulBackward0>)\n",
      "100 tensor(4078658.1696, dtype=torch.float64, grad_fn=<MulBackward0>)\n",
      "200 tensor(4815371.5017, dtype=torch.float64, grad_fn=<MulBackward0>)\n",
      "300 tensor(4791544.3494, dtype=torch.float64, grad_fn=<MulBackward0>)\n",
      "400 tensor(4923157.4771, dtype=torch.float64, grad_fn=<MulBackward0>)\n",
      "image size = 15 x 15 mm\n",
      "test samples boxed in orange\n",
      "Using device: cpu\n",
      "0 tensor(5000417.4570, dtype=torch.float64, grad_fn=<MulBackward0>)\n",
      "100 tensor(nan, dtype=torch.float64, grad_fn=<MulBackward0>)\n",
      "200 tensor(nan, dtype=torch.float64, grad_fn=<MulBackward0>)\n",
      "300 tensor(nan, dtype=torch.float64, grad_fn=<MulBackward0>)\n",
      "400 tensor(nan, dtype=torch.float64, grad_fn=<MulBackward0>)\n",
      "image size = 15 x 15 mm\n",
      "test samples boxed in orange\n",
      "Error occured at step 052. Probably returned all NaN\n",
      "Using device: cpu\n",
      "0 tensor(nan, dtype=torch.float64, grad_fn=<MulBackward0>)\n",
      "100 tensor(nan, dtype=torch.float64, grad_fn=<MulBackward0>)\n",
      "200 tensor(nan, dtype=torch.float64, grad_fn=<MulBackward0>)\n",
      "300 tensor(nan, dtype=torch.float64, grad_fn=<MulBackward0>)\n",
      "400 tensor(nan, dtype=torch.float64, grad_fn=<MulBackward0>)\n",
      "image size = 15 x 15 mm\n",
      "test samples boxed in orange\n",
      "Error occured at step 053. Probably returned all NaN\n",
      "Using device: cpu\n",
      "0 tensor(4322403.2791, dtype=torch.float64, grad_fn=<MulBackward0>)\n",
      "100 tensor(3693562.8284, dtype=torch.float64, grad_fn=<MulBackward0>)\n",
      "200 tensor(1966153.4193, dtype=torch.float64, grad_fn=<MulBackward0>)\n",
      "300 tensor(1585239.9077, dtype=torch.float64, grad_fn=<MulBackward0>)\n",
      "400 tensor(1503526.2571, dtype=torch.float64, grad_fn=<MulBackward0>)\n",
      "image size = 15 x 15 mm\n",
      "test samples boxed in orange\n",
      "Using device: cpu\n",
      "0 tensor(5000353.4198, dtype=torch.float64, grad_fn=<MulBackward0>)\n",
      "100 tensor(4966744.1149, dtype=torch.float64, grad_fn=<MulBackward0>)\n",
      "200 tensor(4999993.8022, dtype=torch.float64, grad_fn=<MulBackward0>)\n",
      "300 tensor(nan, dtype=torch.float64, grad_fn=<MulBackward0>)\n",
      "400 tensor(nan, dtype=torch.float64, grad_fn=<MulBackward0>)\n",
      "image size = 15 x 15 mm\n",
      "test samples boxed in orange\n",
      "Error occured at step 055. Probably returned all NaN\n",
      "Using device: cpu\n",
      "0 tensor(4320346.1380, dtype=torch.float64, grad_fn=<MulBackward0>)\n",
      "100 tensor(4109240.6885, dtype=torch.float64, grad_fn=<MulBackward0>)\n",
      "200 tensor(3740434.3787, dtype=torch.float64, grad_fn=<MulBackward0>)\n",
      "300 tensor(1925579.5641, dtype=torch.float64, grad_fn=<MulBackward0>)\n",
      "400 tensor(1371266.9555, dtype=torch.float64, grad_fn=<MulBackward0>)\n",
      "image size = 15 x 15 mm\n",
      "test samples boxed in orange\n",
      "Using device: cpu\n",
      "0 tensor(5000419.1994, dtype=torch.float64, grad_fn=<MulBackward0>)\n",
      "100 tensor(4974611.4222, dtype=torch.float64, grad_fn=<MulBackward0>)\n",
      "200 tensor(nan, dtype=torch.float64, grad_fn=<MulBackward0>)\n",
      "300 tensor(nan, dtype=torch.float64, grad_fn=<MulBackward0>)\n",
      "400 tensor(nan, dtype=torch.float64, grad_fn=<MulBackward0>)\n",
      "image size = 15 x 15 mm\n",
      "test samples boxed in orange\n",
      "Error occured at step 057. Probably returned all NaN\n",
      "Using device: cpu\n",
      "0 tensor(4718201.9866, dtype=torch.float64, grad_fn=<MulBackward0>)\n",
      "100 tensor(1501937.6390, dtype=torch.float64, grad_fn=<MulBackward0>)\n",
      "200 tensor(1145280.0117, dtype=torch.float64, grad_fn=<MulBackward0>)\n",
      "300 tensor(1029810.9622, dtype=torch.float64, grad_fn=<MulBackward0>)\n",
      "400 tensor(1306912.9397, dtype=torch.float64, grad_fn=<MulBackward0>)\n",
      "image size = 15 x 15 mm\n",
      "test samples boxed in orange\n",
      "Using device: cpu\n",
      "0 tensor(4839316.2066, dtype=torch.float64, grad_fn=<MulBackward0>)\n",
      "100 tensor(3998097.3916, dtype=torch.float64, grad_fn=<MulBackward0>)\n",
      "200 tensor(3837473.4297, dtype=torch.float64, grad_fn=<MulBackward0>)\n",
      "300 tensor(2263450.3838, dtype=torch.float64, grad_fn=<MulBackward0>)\n",
      "400 tensor(1254577.2584, dtype=torch.float64, grad_fn=<MulBackward0>)\n",
      "image size = 15 x 15 mm\n",
      "test samples boxed in orange\n",
      "Using device: cpu\n",
      "0 tensor(4623264.5976, dtype=torch.float64, grad_fn=<MulBackward0>)\n",
      "100 tensor(4176455.1106, dtype=torch.float64, grad_fn=<MulBackward0>)\n",
      "200 tensor(4715941.3813, dtype=torch.float64, grad_fn=<MulBackward0>)\n",
      "300 tensor(4987887.0889, dtype=torch.float64, grad_fn=<MulBackward0>)\n",
      "400 tensor(4999257.9521, dtype=torch.float64, grad_fn=<MulBackward0>)\n",
      "image size = 15 x 15 mm\n",
      "test samples boxed in orange\n",
      "Error occured at step 060. Probably returned all NaN\n",
      "Using device: cpu\n",
      "0 tensor(4543747.9314, dtype=torch.float64, grad_fn=<MulBackward0>)\n",
      "100 tensor(2963020.4067, dtype=torch.float64, grad_fn=<MulBackward0>)\n",
      "200 tensor(1203931.0697, dtype=torch.float64, grad_fn=<MulBackward0>)\n",
      "300 tensor(1075933.0314, dtype=torch.float64, grad_fn=<MulBackward0>)\n",
      "400 tensor(1001536.5062, dtype=torch.float64, grad_fn=<MulBackward0>)\n",
      "image size = 15 x 15 mm\n",
      "test samples boxed in orange\n",
      "Using device: cpu\n",
      "0 tensor(4696774.4464, dtype=torch.float64, grad_fn=<MulBackward0>)\n",
      "100 tensor(4962367.2195, dtype=torch.float64, grad_fn=<MulBackward0>)\n",
      "200 tensor(nan, dtype=torch.float64, grad_fn=<MulBackward0>)\n",
      "300 tensor(nan, dtype=torch.float64, grad_fn=<MulBackward0>)\n",
      "400 tensor(nan, dtype=torch.float64, grad_fn=<MulBackward0>)\n",
      "image size = 15 x 15 mm\n",
      "test samples boxed in orange\n",
      "Error occured at step 062. Probably returned all NaN\n",
      "Using device: cpu\n",
      "0 tensor(4020936.3093, dtype=torch.float64, grad_fn=<MulBackward0>)\n",
      "100 tensor(nan, dtype=torch.float64, grad_fn=<MulBackward0>)\n",
      "200 tensor(nan, dtype=torch.float64, grad_fn=<MulBackward0>)\n",
      "300 tensor(nan, dtype=torch.float64, grad_fn=<MulBackward0>)\n",
      "400 tensor(nan, dtype=torch.float64, grad_fn=<MulBackward0>)\n",
      "image size = 15 x 15 mm\n",
      "test samples boxed in orange\n",
      "Error occured at step 063. Probably returned all NaN\n",
      "Using device: cpu\n",
      "0 tensor(nan, dtype=torch.float64, grad_fn=<MulBackward0>)\n",
      "100 tensor(nan, dtype=torch.float64, grad_fn=<MulBackward0>)\n",
      "200 tensor(nan, dtype=torch.float64, grad_fn=<MulBackward0>)\n",
      "300 tensor(nan, dtype=torch.float64, grad_fn=<MulBackward0>)\n",
      "400 tensor(nan, dtype=torch.float64, grad_fn=<MulBackward0>)\n",
      "image size = 15 x 15 mm\n",
      "test samples boxed in orange\n",
      "Error occured at step 064. Probably returned all NaN\n",
      "Using device: cpu\n",
      "0 tensor(nan, dtype=torch.float64, grad_fn=<MulBackward0>)\n",
      "100 tensor(nan, dtype=torch.float64, grad_fn=<MulBackward0>)\n",
      "200 tensor(nan, dtype=torch.float64, grad_fn=<MulBackward0>)\n",
      "300 tensor(nan, dtype=torch.float64, grad_fn=<MulBackward0>)\n",
      "400 tensor(nan, dtype=torch.float64, grad_fn=<MulBackward0>)\n",
      "image size = 15 x 15 mm\n",
      "test samples boxed in orange\n",
      "Error occured at step 065. Probably returned all NaN\n",
      "Using device: cpu\n",
      "0 tensor(4710354.7709, dtype=torch.float64, grad_fn=<MulBackward0>)\n",
      "100 tensor(2041120.7133, dtype=torch.float64, grad_fn=<MulBackward0>)\n",
      "200 tensor(1235826.0674, dtype=torch.float64, grad_fn=<MulBackward0>)\n",
      "300 tensor(1089808.6394, dtype=torch.float64, grad_fn=<MulBackward0>)\n",
      "400 tensor(908468.2803, dtype=torch.float64, grad_fn=<MulBackward0>)\n",
      "image size = 15 x 15 mm\n",
      "test samples boxed in orange\n",
      "Using device: cpu\n",
      "0 tensor(5000418.4686, dtype=torch.float64, grad_fn=<MulBackward0>)\n",
      "100 tensor(nan, dtype=torch.float64, grad_fn=<MulBackward0>)\n",
      "200 tensor(nan, dtype=torch.float64, grad_fn=<MulBackward0>)\n",
      "300 tensor(nan, dtype=torch.float64, grad_fn=<MulBackward0>)\n",
      "400 tensor(nan, dtype=torch.float64, grad_fn=<MulBackward0>)\n",
      "image size = 15 x 15 mm\n",
      "test samples boxed in orange\n",
      "Error occured at step 067. Probably returned all NaN\n",
      "Using device: cpu\n",
      "0 tensor(4787880.4811, dtype=torch.float64, grad_fn=<MulBackward0>)\n",
      "100 tensor(2636046.3296, dtype=torch.float64, grad_fn=<MulBackward0>)\n",
      "200 tensor(1434838.9006, dtype=torch.float64, grad_fn=<MulBackward0>)\n",
      "300 tensor(1023864.9196, dtype=torch.float64, grad_fn=<MulBackward0>)\n",
      "400 tensor(971945.0918, dtype=torch.float64, grad_fn=<MulBackward0>)\n",
      "image size = 15 x 15 mm\n",
      "test samples boxed in orange\n",
      "Using device: cpu\n",
      "0 tensor(4409948.1466, dtype=torch.float64, grad_fn=<MulBackward0>)\n",
      "100 tensor(3878275.6021, dtype=torch.float64, grad_fn=<MulBackward0>)\n",
      "200 tensor(3526900.2634, dtype=torch.float64, grad_fn=<MulBackward0>)\n",
      "300 tensor(2385224.5807, dtype=torch.float64, grad_fn=<MulBackward0>)\n",
      "400 tensor(1756785.5671, dtype=torch.float64, grad_fn=<MulBackward0>)\n",
      "image size = 15 x 15 mm\n",
      "test samples boxed in orange\n",
      "Using device: cpu\n",
      "0 tensor(4114198.2897, dtype=torch.float64, grad_fn=<MulBackward0>)\n",
      "100 tensor(2521857.3542, dtype=torch.float64, grad_fn=<MulBackward0>)\n",
      "200 tensor(1511459.8953, dtype=torch.float64, grad_fn=<MulBackward0>)\n",
      "300 tensor(1381290.8456, dtype=torch.float64, grad_fn=<MulBackward0>)\n",
      "400 tensor(1304988.9199, dtype=torch.float64, grad_fn=<MulBackward0>)\n",
      "image size = 15 x 15 mm\n",
      "test samples boxed in orange\n",
      "Using device: cpu\n",
      "0 tensor(4183978.4751, dtype=torch.float64, grad_fn=<MulBackward0>)\n",
      "100 tensor(3320251.9331, dtype=torch.float64, grad_fn=<MulBackward0>)\n",
      "200 tensor(1392679.0642, dtype=torch.float64, grad_fn=<MulBackward0>)\n",
      "300 tensor(1055730.2102, dtype=torch.float64, grad_fn=<MulBackward0>)\n",
      "400 tensor(946094.6847, dtype=torch.float64, grad_fn=<MulBackward0>)\n",
      "image size = 15 x 15 mm\n",
      "test samples boxed in orange\n",
      "Using device: cpu\n",
      "0 tensor(4196256.9964, dtype=torch.float64, grad_fn=<MulBackward0>)\n",
      "100 tensor(3885094.2107, dtype=torch.float64, grad_fn=<MulBackward0>)\n",
      "200 tensor(4236354.3080, dtype=torch.float64, grad_fn=<MulBackward0>)\n",
      "300 tensor(3694595.3955, dtype=torch.float64, grad_fn=<MulBackward0>)\n",
      "400 tensor(3641245.9204, dtype=torch.float64, grad_fn=<MulBackward0>)\n",
      "image size = 15 x 15 mm\n",
      "test samples boxed in orange\n",
      "Using device: cpu\n",
      "0 tensor(4913787.1223, dtype=torch.float64, grad_fn=<MulBackward0>)\n",
      "100 tensor(4116909.5140, dtype=torch.float64, grad_fn=<MulBackward0>)\n",
      "200 tensor(nan, dtype=torch.float64, grad_fn=<MulBackward0>)\n",
      "300 tensor(nan, dtype=torch.float64, grad_fn=<MulBackward0>)\n",
      "400 tensor(nan, dtype=torch.float64, grad_fn=<MulBackward0>)\n",
      "image size = 15 x 15 mm\n",
      "test samples boxed in orange\n",
      "Error occured at step 073. Probably returned all NaN\n",
      "Using device: cpu\n",
      "0 tensor(5000419.2401, dtype=torch.float64, grad_fn=<MulBackward0>)\n",
      "100 tensor(nan, dtype=torch.float64, grad_fn=<MulBackward0>)\n",
      "200 tensor(nan, dtype=torch.float64, grad_fn=<MulBackward0>)\n",
      "300 tensor(nan, dtype=torch.float64, grad_fn=<MulBackward0>)\n",
      "400 tensor(nan, dtype=torch.float64, grad_fn=<MulBackward0>)\n",
      "image size = 15 x 15 mm\n",
      "test samples boxed in orange\n",
      "Error occured at step 074. Probably returned all NaN\n",
      "Using device: cpu\n",
      "0 tensor(4519803.9156, dtype=torch.float64, grad_fn=<MulBackward0>)\n",
      "100 tensor(nan, dtype=torch.float64, grad_fn=<MulBackward0>)\n",
      "200 tensor(nan, dtype=torch.float64, grad_fn=<MulBackward0>)\n",
      "300 tensor(nan, dtype=torch.float64, grad_fn=<MulBackward0>)\n",
      "400 tensor(nan, dtype=torch.float64, grad_fn=<MulBackward0>)\n",
      "image size = 15 x 15 mm\n",
      "test samples boxed in orange\n",
      "Error occured at step 075. Probably returned all NaN\n",
      "Using device: cpu\n",
      "0 tensor(4986027.7429, dtype=torch.float64, grad_fn=<MulBackward0>)\n",
      "100 tensor(1404342.6579, dtype=torch.float64, grad_fn=<MulBackward0>)\n",
      "200 tensor(1093579.2009, dtype=torch.float64, grad_fn=<MulBackward0>)\n",
      "300 tensor(1039099.3962, dtype=torch.float64, grad_fn=<MulBackward0>)\n",
      "400 tensor(1163506.0919, dtype=torch.float64, grad_fn=<MulBackward0>)\n",
      "image size = 15 x 15 mm\n",
      "test samples boxed in orange\n",
      "Using device: cpu\n",
      "0 tensor(4494238.2079, dtype=torch.float64, grad_fn=<MulBackward0>)\n",
      "100 tensor(4968543.7782, dtype=torch.float64, grad_fn=<MulBackward0>)\n",
      "200 tensor(4986893.0652, dtype=torch.float64, grad_fn=<MulBackward0>)\n",
      "300 tensor(4999054.3774, dtype=torch.float64, grad_fn=<MulBackward0>)\n",
      "400 tensor(nan, dtype=torch.float64, grad_fn=<MulBackward0>)\n",
      "image size = 15 x 15 mm\n",
      "test samples boxed in orange\n",
      "Error occured at step 077. Probably returned all NaN\n",
      "Using device: cpu\n",
      "0 tensor(5000418.2368, dtype=torch.float64, grad_fn=<MulBackward0>)\n",
      "100 tensor(3340531.3985, dtype=torch.float64, grad_fn=<MulBackward0>)\n",
      "200 tensor(1833670.7773, dtype=torch.float64, grad_fn=<MulBackward0>)\n",
      "300 tensor(1431513.6705, dtype=torch.float64, grad_fn=<MulBackward0>)\n",
      "400 tensor(1397663.8880, dtype=torch.float64, grad_fn=<MulBackward0>)\n",
      "image size = 15 x 15 mm\n",
      "test samples boxed in orange\n",
      "Using device: cpu\n",
      "0 tensor(4092808.2697, dtype=torch.float64, grad_fn=<MulBackward0>)\n",
      "100 tensor(4517964.3636, dtype=torch.float64, grad_fn=<MulBackward0>)\n",
      "200 tensor(4081594.0478, dtype=torch.float64, grad_fn=<MulBackward0>)\n",
      "300 tensor(4963566.0058, dtype=torch.float64, grad_fn=<MulBackward0>)\n",
      "400 tensor(4053829.2078, dtype=torch.float64, grad_fn=<MulBackward0>)\n",
      "image size = 15 x 15 mm\n",
      "test samples boxed in orange\n",
      "Using device: cpu\n",
      "0 tensor(4926070.2740, dtype=torch.float64, grad_fn=<MulBackward0>)\n",
      "100 tensor(3724472.3084, dtype=torch.float64, grad_fn=<MulBackward0>)\n",
      "200 tensor(3775288.1010, dtype=torch.float64, grad_fn=<MulBackward0>)\n",
      "300 tensor(3273300.7897, dtype=torch.float64, grad_fn=<MulBackward0>)\n",
      "400 tensor(1755975.3319, dtype=torch.float64, grad_fn=<MulBackward0>)\n",
      "image size = 15 x 15 mm\n",
      "test samples boxed in orange\n",
      "Using device: cpu\n",
      "0 tensor(4095692.3667, dtype=torch.float64, grad_fn=<MulBackward0>)\n",
      "100 tensor(1401323.8635, dtype=torch.float64, grad_fn=<MulBackward0>)\n",
      "200 tensor(1181291.9670, dtype=torch.float64, grad_fn=<MulBackward0>)\n",
      "300 tensor(962273.5413, dtype=torch.float64, grad_fn=<MulBackward0>)\n",
      "400 tensor(1114267.0229, dtype=torch.float64, grad_fn=<MulBackward0>)\n",
      "image size = 15 x 15 mm\n",
      "test samples boxed in orange\n",
      "Using device: cpu\n",
      "0 tensor(4956131.7934, dtype=torch.float64, grad_fn=<MulBackward0>)\n",
      "100 tensor(1408412.0797, dtype=torch.float64, grad_fn=<MulBackward0>)\n",
      "200 tensor(1077721.8612, dtype=torch.float64, grad_fn=<MulBackward0>)\n",
      "300 tensor(1037153.8435, dtype=torch.float64, grad_fn=<MulBackward0>)\n",
      "400 tensor(1018855.5463, dtype=torch.float64, grad_fn=<MulBackward0>)\n",
      "image size = 15 x 15 mm\n",
      "test samples boxed in orange\n",
      "Using device: cpu\n",
      "0 tensor(4893639.8123, dtype=torch.float64, grad_fn=<MulBackward0>)\n",
      "100 tensor(3432262.6464, dtype=torch.float64, grad_fn=<MulBackward0>)\n",
      "200 tensor(1181905.7242, dtype=torch.float64, grad_fn=<MulBackward0>)\n",
      "300 tensor(1348509.9592, dtype=torch.float64, grad_fn=<MulBackward0>)\n",
      "400 tensor(1232177.4586, dtype=torch.float64, grad_fn=<MulBackward0>)\n",
      "image size = 15 x 15 mm\n",
      "test samples boxed in orange\n",
      "Using device: cpu\n",
      "0 tensor(4979007.3566, dtype=torch.float64, grad_fn=<MulBackward0>)\n",
      "100 tensor(nan, dtype=torch.float64, grad_fn=<MulBackward0>)\n",
      "200 tensor(nan, dtype=torch.float64, grad_fn=<MulBackward0>)\n",
      "300 tensor(nan, dtype=torch.float64, grad_fn=<MulBackward0>)\n",
      "400 tensor(nan, dtype=torch.float64, grad_fn=<MulBackward0>)\n",
      "image size = 15 x 15 mm\n",
      "test samples boxed in orange\n",
      "Error occured at step 084. Probably returned all NaN\n",
      "Using device: cpu\n",
      "0 tensor(4422656.0196, dtype=torch.float64, grad_fn=<MulBackward0>)\n",
      "100 tensor(nan, dtype=torch.float64, grad_fn=<MulBackward0>)\n",
      "200 tensor(nan, dtype=torch.float64, grad_fn=<MulBackward0>)\n",
      "300 tensor(nan, dtype=torch.float64, grad_fn=<MulBackward0>)\n",
      "400 tensor(nan, dtype=torch.float64, grad_fn=<MulBackward0>)\n",
      "image size = 15 x 15 mm\n",
      "test samples boxed in orange\n",
      "Error occured at step 085. Probably returned all NaN\n",
      "Using device: cpu\n",
      "0 tensor(nan, dtype=torch.float64, grad_fn=<MulBackward0>)\n",
      "100 tensor(nan, dtype=torch.float64, grad_fn=<MulBackward0>)\n",
      "200 tensor(nan, dtype=torch.float64, grad_fn=<MulBackward0>)\n",
      "300 tensor(nan, dtype=torch.float64, grad_fn=<MulBackward0>)\n",
      "400 tensor(nan, dtype=torch.float64, grad_fn=<MulBackward0>)\n",
      "image size = 15 x 15 mm\n",
      "test samples boxed in orange\n",
      "Error occured at step 086. Probably returned all NaN\n",
      "Using device: cpu\n",
      "0 tensor(4825577.3146, dtype=torch.float64, grad_fn=<MulBackward0>)\n",
      "100 tensor(4099578.9903, dtype=torch.float64, grad_fn=<MulBackward0>)\n",
      "200 tensor(2927780.2027, dtype=torch.float64, grad_fn=<MulBackward0>)\n",
      "300 tensor(1354938.5146, dtype=torch.float64, grad_fn=<MulBackward0>)\n",
      "400 tensor(1172734.6920, dtype=torch.float64, grad_fn=<MulBackward0>)\n",
      "image size = 15 x 15 mm\n",
      "test samples boxed in orange\n",
      "Using device: cpu\n",
      "0 tensor(4900347.4274, dtype=torch.float64, grad_fn=<MulBackward0>)\n",
      "100 tensor(4954358.3813, dtype=torch.float64, grad_fn=<MulBackward0>)\n",
      "200 tensor(4996388.3095, dtype=torch.float64, grad_fn=<MulBackward0>)\n",
      "300 tensor(nan, dtype=torch.float64, grad_fn=<MulBackward0>)\n",
      "400 tensor(nan, dtype=torch.float64, grad_fn=<MulBackward0>)\n",
      "image size = 15 x 15 mm\n",
      "test samples boxed in orange\n",
      "Error occured at step 088. Probably returned all NaN\n",
      "Using device: cpu\n",
      "0 tensor(4276945.1441, dtype=torch.float64, grad_fn=<MulBackward0>)\n",
      "100 tensor(3824344.2593, dtype=torch.float64, grad_fn=<MulBackward0>)\n",
      "200 tensor(4261151.5696, dtype=torch.float64, grad_fn=<MulBackward0>)\n",
      "300 tensor(3342089.0720, dtype=torch.float64, grad_fn=<MulBackward0>)\n",
      "400 tensor(4069668.3363, dtype=torch.float64, grad_fn=<MulBackward0>)\n",
      "image size = 15 x 15 mm\n",
      "test samples boxed in orange\n",
      "Using device: cpu\n",
      "0 tensor(4248136.0125, dtype=torch.float64, grad_fn=<MulBackward0>)\n",
      "100 tensor(4080046.3390, dtype=torch.float64, grad_fn=<MulBackward0>)\n",
      "200 tensor(3994259.1386, dtype=torch.float64, grad_fn=<MulBackward0>)\n",
      "300 tensor(4991627.4353, dtype=torch.float64, grad_fn=<MulBackward0>)\n",
      "400 tensor(4991026.1415, dtype=torch.float64, grad_fn=<MulBackward0>)\n",
      "image size = 15 x 15 mm\n",
      "test samples boxed in orange\n",
      "Using device: cpu\n",
      "0 tensor(4857479.2232, dtype=torch.float64, grad_fn=<MulBackward0>)\n",
      "100 tensor(nan, dtype=torch.float64, grad_fn=<MulBackward0>)\n",
      "200 tensor(nan, dtype=torch.float64, grad_fn=<MulBackward0>)\n",
      "300 tensor(nan, dtype=torch.float64, grad_fn=<MulBackward0>)\n",
      "400 tensor(nan, dtype=torch.float64, grad_fn=<MulBackward0>)\n",
      "image size = 15 x 15 mm\n",
      "test samples boxed in orange\n",
      "Error occured at step 091. Probably returned all NaN\n",
      "Using device: cpu\n",
      "0 tensor(nan, dtype=torch.float64, grad_fn=<MulBackward0>)\n",
      "100 tensor(nan, dtype=torch.float64, grad_fn=<MulBackward0>)\n",
      "200 tensor(nan, dtype=torch.float64, grad_fn=<MulBackward0>)\n",
      "300 tensor(nan, dtype=torch.float64, grad_fn=<MulBackward0>)\n",
      "400 tensor(nan, dtype=torch.float64, grad_fn=<MulBackward0>)\n",
      "image size = 15 x 15 mm\n",
      "test samples boxed in orange\n",
      "Error occured at step 092. Probably returned all NaN\n",
      "Using device: cpu\n",
      "0 tensor(4992190.2446, dtype=torch.float64, grad_fn=<MulBackward0>)\n",
      "100 tensor(2082508.3836, dtype=torch.float64, grad_fn=<MulBackward0>)\n",
      "200 tensor(1599175.1672, dtype=torch.float64, grad_fn=<MulBackward0>)\n",
      "300 tensor(1020607.8388, dtype=torch.float64, grad_fn=<MulBackward0>)\n",
      "400 tensor(1026424.6713, dtype=torch.float64, grad_fn=<MulBackward0>)\n",
      "image size = 15 x 15 mm\n",
      "test samples boxed in orange\n",
      "Using device: cpu\n",
      "0 tensor(4010780.8712, dtype=torch.float64, grad_fn=<MulBackward0>)\n",
      "100 tensor(1366551.6810, dtype=torch.float64, grad_fn=<MulBackward0>)\n",
      "200 tensor(1295488.7109, dtype=torch.float64, grad_fn=<MulBackward0>)\n",
      "300 tensor(996368.4398, dtype=torch.float64, grad_fn=<MulBackward0>)\n",
      "400 tensor(1174007.1942, dtype=torch.float64, grad_fn=<MulBackward0>)\n",
      "image size = 15 x 15 mm\n",
      "test samples boxed in orange\n",
      "Using device: cpu\n",
      "0 tensor(5000262.9157, dtype=torch.float64, grad_fn=<MulBackward0>)\n",
      "100 tensor(3703315.7177, dtype=torch.float64, grad_fn=<MulBackward0>)\n",
      "200 tensor(4028726.8280, dtype=torch.float64, grad_fn=<MulBackward0>)\n",
      "300 tensor(4973616.7777, dtype=torch.float64, grad_fn=<MulBackward0>)\n",
      "400 tensor(4993386.5331, dtype=torch.float64, grad_fn=<MulBackward0>)\n",
      "image size = 15 x 15 mm\n",
      "test samples boxed in orange\n",
      "Using device: cpu\n",
      "0 tensor(4498140.3519, dtype=torch.float64, grad_fn=<MulBackward0>)\n",
      "100 tensor(nan, dtype=torch.float64, grad_fn=<MulBackward0>)\n",
      "200 tensor(nan, dtype=torch.float64, grad_fn=<MulBackward0>)\n",
      "300 tensor(nan, dtype=torch.float64, grad_fn=<MulBackward0>)\n",
      "400 tensor(nan, dtype=torch.float64, grad_fn=<MulBackward0>)\n",
      "image size = 15 x 15 mm\n",
      "test samples boxed in orange\n",
      "Error occured at step 096. Probably returned all NaN\n",
      "Using device: cpu\n",
      "0 tensor(3928256.9726, dtype=torch.float64, grad_fn=<MulBackward0>)\n",
      "100 tensor(2826003.5543, dtype=torch.float64, grad_fn=<MulBackward0>)\n",
      "200 tensor(1285839.2445, dtype=torch.float64, grad_fn=<MulBackward0>)\n",
      "300 tensor(1102385.0649, dtype=torch.float64, grad_fn=<MulBackward0>)\n",
      "400 tensor(1012699.0796, dtype=torch.float64, grad_fn=<MulBackward0>)\n",
      "image size = 15 x 15 mm\n",
      "test samples boxed in orange\n",
      "Using device: cpu\n",
      "0 tensor(4666403.0240, dtype=torch.float64, grad_fn=<MulBackward0>)\n",
      "100 tensor(nan, dtype=torch.float64, grad_fn=<MulBackward0>)\n",
      "200 tensor(nan, dtype=torch.float64, grad_fn=<MulBackward0>)\n",
      "300 tensor(nan, dtype=torch.float64, grad_fn=<MulBackward0>)\n",
      "400 tensor(nan, dtype=torch.float64, grad_fn=<MulBackward0>)\n",
      "image size = 15 x 15 mm\n",
      "test samples boxed in orange\n",
      "Error occured at step 098. Probably returned all NaN\n",
      "Using device: cpu\n",
      "0 tensor(nan, dtype=torch.float64, grad_fn=<MulBackward0>)\n",
      "100 tensor(nan, dtype=torch.float64, grad_fn=<MulBackward0>)\n",
      "200 tensor(nan, dtype=torch.float64, grad_fn=<MulBackward0>)\n",
      "300 tensor(nan, dtype=torch.float64, grad_fn=<MulBackward0>)\n",
      "400 tensor(nan, dtype=torch.float64, grad_fn=<MulBackward0>)\n",
      "image size = 15 x 15 mm\n",
      "test samples boxed in orange\n",
      "Error occured at step 099. Probably returned all NaN\n"
     ]
    },
    {
     "data": {
      "text/plain": [
       "<Figure size 432x288 with 0 Axes>"
      ]
     },
     "metadata": {},
     "output_type": "display_data"
    },
    {
     "data": {
      "text/plain": [
       "<Figure size 864x144 with 0 Axes>"
      ]
     },
     "metadata": {},
     "output_type": "display_data"
    },
    {
     "data": {
      "text/plain": [
       "<Figure size 576x576 with 0 Axes>"
      ]
     },
     "metadata": {},
     "output_type": "display_data"
    },
    {
     "data": {
      "text/plain": [
       "<Figure size 864x144 with 0 Axes>"
      ]
     },
     "metadata": {},
     "output_type": "display_data"
    },
    {
     "data": {
      "text/plain": [
       "<Figure size 576x576 with 0 Axes>"
      ]
     },
     "metadata": {},
     "output_type": "display_data"
    },
    {
     "data": {
      "text/plain": [
       "<Figure size 864x144 with 0 Axes>"
      ]
     },
     "metadata": {},
     "output_type": "display_data"
    },
    {
     "data": {
      "text/plain": [
       "<Figure size 576x576 with 0 Axes>"
      ]
     },
     "metadata": {},
     "output_type": "display_data"
    },
    {
     "data": {
      "text/plain": [
       "<Figure size 864x144 with 0 Axes>"
      ]
     },
     "metadata": {},
     "output_type": "display_data"
    },
    {
     "data": {
      "text/plain": [
       "<Figure size 576x576 with 0 Axes>"
      ]
     },
     "metadata": {},
     "output_type": "display_data"
    },
    {
     "data": {
      "text/plain": [
       "<Figure size 864x144 with 0 Axes>"
      ]
     },
     "metadata": {},
     "output_type": "display_data"
    },
    {
     "data": {
      "text/plain": [
       "<Figure size 576x576 with 0 Axes>"
      ]
     },
     "metadata": {},
     "output_type": "display_data"
    },
    {
     "data": {
      "text/plain": [
       "<Figure size 864x144 with 0 Axes>"
      ]
     },
     "metadata": {},
     "output_type": "display_data"
    },
    {
     "data": {
      "text/plain": [
       "<Figure size 576x576 with 0 Axes>"
      ]
     },
     "metadata": {},
     "output_type": "display_data"
    },
    {
     "data": {
      "text/plain": [
       "<Figure size 864x144 with 0 Axes>"
      ]
     },
     "metadata": {},
     "output_type": "display_data"
    },
    {
     "data": {
      "text/plain": [
       "<Figure size 576x576 with 0 Axes>"
      ]
     },
     "metadata": {},
     "output_type": "display_data"
    },
    {
     "data": {
      "text/plain": [
       "<Figure size 864x144 with 0 Axes>"
      ]
     },
     "metadata": {},
     "output_type": "display_data"
    },
    {
     "data": {
      "text/plain": [
       "<Figure size 576x576 with 0 Axes>"
      ]
     },
     "metadata": {},
     "output_type": "display_data"
    },
    {
     "data": {
      "text/plain": [
       "<Figure size 864x144 with 0 Axes>"
      ]
     },
     "metadata": {},
     "output_type": "display_data"
    },
    {
     "data": {
      "text/plain": [
       "<Figure size 576x576 with 0 Axes>"
      ]
     },
     "metadata": {},
     "output_type": "display_data"
    },
    {
     "data": {
      "text/plain": [
       "<Figure size 864x144 with 0 Axes>"
      ]
     },
     "metadata": {},
     "output_type": "display_data"
    },
    {
     "data": {
      "text/plain": [
       "<Figure size 576x576 with 0 Axes>"
      ]
     },
     "metadata": {},
     "output_type": "display_data"
    },
    {
     "data": {
      "text/plain": [
       "<Figure size 864x144 with 0 Axes>"
      ]
     },
     "metadata": {},
     "output_type": "display_data"
    },
    {
     "data": {
      "text/plain": [
       "<Figure size 576x576 with 0 Axes>"
      ]
     },
     "metadata": {},
     "output_type": "display_data"
    },
    {
     "data": {
      "text/plain": [
       "<Figure size 864x144 with 0 Axes>"
      ]
     },
     "metadata": {},
     "output_type": "display_data"
    },
    {
     "data": {
      "text/plain": [
       "<Figure size 576x576 with 0 Axes>"
      ]
     },
     "metadata": {},
     "output_type": "display_data"
    },
    {
     "data": {
      "text/plain": [
       "<Figure size 864x144 with 0 Axes>"
      ]
     },
     "metadata": {},
     "output_type": "display_data"
    },
    {
     "data": {
      "text/plain": [
       "<Figure size 576x576 with 0 Axes>"
      ]
     },
     "metadata": {},
     "output_type": "display_data"
    },
    {
     "data": {
      "text/plain": [
       "<Figure size 864x144 with 0 Axes>"
      ]
     },
     "metadata": {},
     "output_type": "display_data"
    },
    {
     "data": {
      "text/plain": [
       "<Figure size 576x576 with 0 Axes>"
      ]
     },
     "metadata": {},
     "output_type": "display_data"
    },
    {
     "data": {
      "text/plain": [
       "<Figure size 864x144 with 0 Axes>"
      ]
     },
     "metadata": {},
     "output_type": "display_data"
    },
    {
     "data": {
      "text/plain": [
       "<Figure size 576x576 with 0 Axes>"
      ]
     },
     "metadata": {},
     "output_type": "display_data"
    },
    {
     "data": {
      "text/plain": [
       "<Figure size 864x144 with 0 Axes>"
      ]
     },
     "metadata": {},
     "output_type": "display_data"
    },
    {
     "data": {
      "text/plain": [
       "<Figure size 576x576 with 0 Axes>"
      ]
     },
     "metadata": {},
     "output_type": "display_data"
    },
    {
     "data": {
      "text/plain": [
       "<Figure size 864x144 with 0 Axes>"
      ]
     },
     "metadata": {},
     "output_type": "display_data"
    },
    {
     "data": {
      "text/plain": [
       "<Figure size 576x576 with 0 Axes>"
      ]
     },
     "metadata": {},
     "output_type": "display_data"
    },
    {
     "data": {
      "text/plain": [
       "<Figure size 864x144 with 0 Axes>"
      ]
     },
     "metadata": {},
     "output_type": "display_data"
    },
    {
     "data": {
      "text/plain": [
       "<Figure size 576x576 with 0 Axes>"
      ]
     },
     "metadata": {},
     "output_type": "display_data"
    },
    {
     "data": {
      "text/plain": [
       "<Figure size 864x144 with 0 Axes>"
      ]
     },
     "metadata": {},
     "output_type": "display_data"
    },
    {
     "data": {
      "text/plain": [
       "<Figure size 576x576 with 0 Axes>"
      ]
     },
     "metadata": {},
     "output_type": "display_data"
    },
    {
     "data": {
      "text/plain": [
       "<Figure size 864x144 with 0 Axes>"
      ]
     },
     "metadata": {},
     "output_type": "display_data"
    },
    {
     "data": {
      "text/plain": [
       "<Figure size 576x576 with 0 Axes>"
      ]
     },
     "metadata": {},
     "output_type": "display_data"
    },
    {
     "data": {
      "text/plain": [
       "<Figure size 864x144 with 0 Axes>"
      ]
     },
     "metadata": {},
     "output_type": "display_data"
    },
    {
     "data": {
      "text/plain": [
       "<Figure size 576x576 with 0 Axes>"
      ]
     },
     "metadata": {},
     "output_type": "display_data"
    },
    {
     "data": {
      "text/plain": [
       "<Figure size 864x144 with 0 Axes>"
      ]
     },
     "metadata": {},
     "output_type": "display_data"
    },
    {
     "data": {
      "text/plain": [
       "<Figure size 576x576 with 0 Axes>"
      ]
     },
     "metadata": {},
     "output_type": "display_data"
    },
    {
     "data": {
      "text/plain": [
       "<Figure size 864x144 with 0 Axes>"
      ]
     },
     "metadata": {},
     "output_type": "display_data"
    },
    {
     "data": {
      "text/plain": [
       "<Figure size 576x576 with 0 Axes>"
      ]
     },
     "metadata": {},
     "output_type": "display_data"
    },
    {
     "data": {
      "text/plain": [
       "<Figure size 864x144 with 0 Axes>"
      ]
     },
     "metadata": {},
     "output_type": "display_data"
    },
    {
     "data": {
      "text/plain": [
       "<Figure size 576x576 with 0 Axes>"
      ]
     },
     "metadata": {},
     "output_type": "display_data"
    },
    {
     "data": {
      "text/plain": [
       "<Figure size 864x144 with 0 Axes>"
      ]
     },
     "metadata": {},
     "output_type": "display_data"
    },
    {
     "data": {
      "text/plain": [
       "<Figure size 576x576 with 0 Axes>"
      ]
     },
     "metadata": {},
     "output_type": "display_data"
    },
    {
     "data": {
      "text/plain": [
       "<Figure size 864x144 with 0 Axes>"
      ]
     },
     "metadata": {},
     "output_type": "display_data"
    },
    {
     "data": {
      "text/plain": [
       "<Figure size 576x576 with 0 Axes>"
      ]
     },
     "metadata": {},
     "output_type": "display_data"
    },
    {
     "data": {
      "text/plain": [
       "<Figure size 864x144 with 0 Axes>"
      ]
     },
     "metadata": {},
     "output_type": "display_data"
    },
    {
     "data": {
      "text/plain": [
       "<Figure size 576x576 with 0 Axes>"
      ]
     },
     "metadata": {},
     "output_type": "display_data"
    },
    {
     "data": {
      "text/plain": [
       "<Figure size 864x144 with 0 Axes>"
      ]
     },
     "metadata": {},
     "output_type": "display_data"
    },
    {
     "data": {
      "text/plain": [
       "<Figure size 576x576 with 0 Axes>"
      ]
     },
     "metadata": {},
     "output_type": "display_data"
    },
    {
     "data": {
      "text/plain": [
       "<Figure size 864x144 with 0 Axes>"
      ]
     },
     "metadata": {},
     "output_type": "display_data"
    },
    {
     "data": {
      "text/plain": [
       "<Figure size 576x576 with 0 Axes>"
      ]
     },
     "metadata": {},
     "output_type": "display_data"
    },
    {
     "data": {
      "text/plain": [
       "<Figure size 864x144 with 0 Axes>"
      ]
     },
     "metadata": {},
     "output_type": "display_data"
    },
    {
     "data": {
      "text/plain": [
       "<Figure size 576x576 with 0 Axes>"
      ]
     },
     "metadata": {},
     "output_type": "display_data"
    },
    {
     "data": {
      "text/plain": [
       "<Figure size 864x144 with 0 Axes>"
      ]
     },
     "metadata": {},
     "output_type": "display_data"
    },
    {
     "data": {
      "text/plain": [
       "<Figure size 576x576 with 0 Axes>"
      ]
     },
     "metadata": {},
     "output_type": "display_data"
    },
    {
     "data": {
      "text/plain": [
       "<Figure size 864x144 with 0 Axes>"
      ]
     },
     "metadata": {},
     "output_type": "display_data"
    },
    {
     "data": {
      "text/plain": [
       "<Figure size 576x576 with 0 Axes>"
      ]
     },
     "metadata": {},
     "output_type": "display_data"
    },
    {
     "data": {
      "text/plain": [
       "<Figure size 864x144 with 0 Axes>"
      ]
     },
     "metadata": {},
     "output_type": "display_data"
    },
    {
     "data": {
      "text/plain": [
       "<Figure size 576x576 with 0 Axes>"
      ]
     },
     "metadata": {},
     "output_type": "display_data"
    },
    {
     "data": {
      "text/plain": [
       "<Figure size 864x144 with 0 Axes>"
      ]
     },
     "metadata": {},
     "output_type": "display_data"
    },
    {
     "data": {
      "text/plain": [
       "<Figure size 576x576 with 0 Axes>"
      ]
     },
     "metadata": {},
     "output_type": "display_data"
    },
    {
     "data": {
      "text/plain": [
       "<Figure size 864x144 with 0 Axes>"
      ]
     },
     "metadata": {},
     "output_type": "display_data"
    },
    {
     "data": {
      "text/plain": [
       "<Figure size 576x576 with 0 Axes>"
      ]
     },
     "metadata": {},
     "output_type": "display_data"
    },
    {
     "data": {
      "text/plain": [
       "<Figure size 864x144 with 0 Axes>"
      ]
     },
     "metadata": {},
     "output_type": "display_data"
    },
    {
     "data": {
      "text/plain": [
       "<Figure size 576x576 with 0 Axes>"
      ]
     },
     "metadata": {},
     "output_type": "display_data"
    },
    {
     "data": {
      "text/plain": [
       "<Figure size 864x144 with 0 Axes>"
      ]
     },
     "metadata": {},
     "output_type": "display_data"
    },
    {
     "data": {
      "text/plain": [
       "<Figure size 576x576 with 0 Axes>"
      ]
     },
     "metadata": {},
     "output_type": "display_data"
    },
    {
     "data": {
      "text/plain": [
       "<Figure size 864x144 with 0 Axes>"
      ]
     },
     "metadata": {},
     "output_type": "display_data"
    },
    {
     "data": {
      "text/plain": [
       "<Figure size 576x576 with 0 Axes>"
      ]
     },
     "metadata": {},
     "output_type": "display_data"
    },
    {
     "data": {
      "text/plain": [
       "<Figure size 864x144 with 0 Axes>"
      ]
     },
     "metadata": {},
     "output_type": "display_data"
    },
    {
     "data": {
      "text/plain": [
       "<Figure size 576x576 with 0 Axes>"
      ]
     },
     "metadata": {},
     "output_type": "display_data"
    },
    {
     "data": {
      "text/plain": [
       "<Figure size 864x144 with 0 Axes>"
      ]
     },
     "metadata": {},
     "output_type": "display_data"
    },
    {
     "data": {
      "text/plain": [
       "<Figure size 576x576 with 0 Axes>"
      ]
     },
     "metadata": {},
     "output_type": "display_data"
    },
    {
     "data": {
      "text/plain": [
       "<Figure size 864x144 with 0 Axes>"
      ]
     },
     "metadata": {},
     "output_type": "display_data"
    },
    {
     "data": {
      "text/plain": [
       "<Figure size 576x576 with 0 Axes>"
      ]
     },
     "metadata": {},
     "output_type": "display_data"
    },
    {
     "data": {
      "text/plain": [
       "<Figure size 864x144 with 0 Axes>"
      ]
     },
     "metadata": {},
     "output_type": "display_data"
    },
    {
     "data": {
      "text/plain": [
       "<Figure size 576x576 with 0 Axes>"
      ]
     },
     "metadata": {},
     "output_type": "display_data"
    },
    {
     "data": {
      "text/plain": [
       "<Figure size 864x144 with 0 Axes>"
      ]
     },
     "metadata": {},
     "output_type": "display_data"
    },
    {
     "data": {
      "text/plain": [
       "<Figure size 576x576 with 0 Axes>"
      ]
     },
     "metadata": {},
     "output_type": "display_data"
    },
    {
     "data": {
      "text/plain": [
       "<Figure size 864x144 with 0 Axes>"
      ]
     },
     "metadata": {},
     "output_type": "display_data"
    },
    {
     "data": {
      "text/plain": [
       "<Figure size 576x576 with 0 Axes>"
      ]
     },
     "metadata": {},
     "output_type": "display_data"
    },
    {
     "data": {
      "text/plain": [
       "<Figure size 864x144 with 0 Axes>"
      ]
     },
     "metadata": {},
     "output_type": "display_data"
    },
    {
     "data": {
      "text/plain": [
       "<Figure size 576x576 with 0 Axes>"
      ]
     },
     "metadata": {},
     "output_type": "display_data"
    },
    {
     "data": {
      "text/plain": [
       "<Figure size 864x144 with 0 Axes>"
      ]
     },
     "metadata": {},
     "output_type": "display_data"
    },
    {
     "data": {
      "text/plain": [
       "<Figure size 576x576 with 0 Axes>"
      ]
     },
     "metadata": {},
     "output_type": "display_data"
    },
    {
     "data": {
      "text/plain": [
       "<Figure size 864x144 with 0 Axes>"
      ]
     },
     "metadata": {},
     "output_type": "display_data"
    },
    {
     "data": {
      "text/plain": [
       "<Figure size 576x576 with 0 Axes>"
      ]
     },
     "metadata": {},
     "output_type": "display_data"
    },
    {
     "data": {
      "text/plain": [
       "<Figure size 864x144 with 0 Axes>"
      ]
     },
     "metadata": {},
     "output_type": "display_data"
    },
    {
     "data": {
      "text/plain": [
       "<Figure size 576x576 with 0 Axes>"
      ]
     },
     "metadata": {},
     "output_type": "display_data"
    },
    {
     "data": {
      "text/plain": [
       "<Figure size 864x144 with 0 Axes>"
      ]
     },
     "metadata": {},
     "output_type": "display_data"
    },
    {
     "data": {
      "text/plain": [
       "<Figure size 576x576 with 0 Axes>"
      ]
     },
     "metadata": {},
     "output_type": "display_data"
    },
    {
     "data": {
      "text/plain": [
       "<Figure size 864x144 with 0 Axes>"
      ]
     },
     "metadata": {},
     "output_type": "display_data"
    },
    {
     "data": {
      "text/plain": [
       "<Figure size 576x576 with 0 Axes>"
      ]
     },
     "metadata": {},
     "output_type": "display_data"
    },
    {
     "data": {
      "text/plain": [
       "<Figure size 864x144 with 0 Axes>"
      ]
     },
     "metadata": {},
     "output_type": "display_data"
    },
    {
     "data": {
      "text/plain": [
       "<Figure size 576x576 with 0 Axes>"
      ]
     },
     "metadata": {},
     "output_type": "display_data"
    },
    {
     "data": {
      "text/plain": [
       "<Figure size 864x144 with 0 Axes>"
      ]
     },
     "metadata": {},
     "output_type": "display_data"
    },
    {
     "data": {
      "text/plain": [
       "<Figure size 576x576 with 0 Axes>"
      ]
     },
     "metadata": {},
     "output_type": "display_data"
    },
    {
     "data": {
      "text/plain": [
       "<Figure size 864x144 with 0 Axes>"
      ]
     },
     "metadata": {},
     "output_type": "display_data"
    },
    {
     "data": {
      "text/plain": [
       "<Figure size 576x576 with 0 Axes>"
      ]
     },
     "metadata": {},
     "output_type": "display_data"
    },
    {
     "data": {
      "text/plain": [
       "<Figure size 864x144 with 0 Axes>"
      ]
     },
     "metadata": {},
     "output_type": "display_data"
    },
    {
     "data": {
      "text/plain": [
       "<Figure size 576x576 with 0 Axes>"
      ]
     },
     "metadata": {},
     "output_type": "display_data"
    },
    {
     "data": {
      "text/plain": [
       "<Figure size 864x144 with 0 Axes>"
      ]
     },
     "metadata": {},
     "output_type": "display_data"
    },
    {
     "data": {
      "text/plain": [
       "<Figure size 576x576 with 0 Axes>"
      ]
     },
     "metadata": {},
     "output_type": "display_data"
    },
    {
     "data": {
      "text/plain": [
       "<Figure size 864x144 with 0 Axes>"
      ]
     },
     "metadata": {},
     "output_type": "display_data"
    },
    {
     "data": {
      "text/plain": [
       "<Figure size 576x576 with 0 Axes>"
      ]
     },
     "metadata": {},
     "output_type": "display_data"
    },
    {
     "data": {
      "text/plain": [
       "<Figure size 864x144 with 0 Axes>"
      ]
     },
     "metadata": {},
     "output_type": "display_data"
    },
    {
     "data": {
      "text/plain": [
       "<Figure size 576x576 with 0 Axes>"
      ]
     },
     "metadata": {},
     "output_type": "display_data"
    },
    {
     "data": {
      "text/plain": [
       "<Figure size 864x144 with 0 Axes>"
      ]
     },
     "metadata": {},
     "output_type": "display_data"
    },
    {
     "data": {
      "text/plain": [
       "<Figure size 576x576 with 0 Axes>"
      ]
     },
     "metadata": {},
     "output_type": "display_data"
    },
    {
     "data": {
      "text/plain": [
       "<Figure size 864x144 with 0 Axes>"
      ]
     },
     "metadata": {},
     "output_type": "display_data"
    },
    {
     "data": {
      "text/plain": [
       "<Figure size 576x576 with 0 Axes>"
      ]
     },
     "metadata": {},
     "output_type": "display_data"
    },
    {
     "data": {
      "text/plain": [
       "<Figure size 864x144 with 0 Axes>"
      ]
     },
     "metadata": {},
     "output_type": "display_data"
    },
    {
     "data": {
      "text/plain": [
       "<Figure size 576x576 with 0 Axes>"
      ]
     },
     "metadata": {},
     "output_type": "display_data"
    },
    {
     "data": {
      "text/plain": [
       "<Figure size 864x144 with 0 Axes>"
      ]
     },
     "metadata": {},
     "output_type": "display_data"
    },
    {
     "data": {
      "text/plain": [
       "<Figure size 576x576 with 0 Axes>"
      ]
     },
     "metadata": {},
     "output_type": "display_data"
    },
    {
     "data": {
      "text/plain": [
       "<Figure size 864x144 with 0 Axes>"
      ]
     },
     "metadata": {},
     "output_type": "display_data"
    },
    {
     "data": {
      "text/plain": [
       "<Figure size 576x576 with 0 Axes>"
      ]
     },
     "metadata": {},
     "output_type": "display_data"
    },
    {
     "data": {
      "text/plain": [
       "<Figure size 864x144 with 0 Axes>"
      ]
     },
     "metadata": {},
     "output_type": "display_data"
    },
    {
     "data": {
      "text/plain": [
       "<Figure size 576x576 with 0 Axes>"
      ]
     },
     "metadata": {},
     "output_type": "display_data"
    },
    {
     "data": {
      "text/plain": [
       "<Figure size 864x144 with 0 Axes>"
      ]
     },
     "metadata": {},
     "output_type": "display_data"
    },
    {
     "data": {
      "text/plain": [
       "<Figure size 576x576 with 0 Axes>"
      ]
     },
     "metadata": {},
     "output_type": "display_data"
    },
    {
     "data": {
      "text/plain": [
       "<Figure size 864x144 with 0 Axes>"
      ]
     },
     "metadata": {},
     "output_type": "display_data"
    },
    {
     "data": {
      "text/plain": [
       "<Figure size 576x576 with 0 Axes>"
      ]
     },
     "metadata": {},
     "output_type": "display_data"
    },
    {
     "data": {
      "text/plain": [
       "<Figure size 864x144 with 0 Axes>"
      ]
     },
     "metadata": {},
     "output_type": "display_data"
    },
    {
     "data": {
      "text/plain": [
       "<Figure size 576x576 with 0 Axes>"
      ]
     },
     "metadata": {},
     "output_type": "display_data"
    },
    {
     "data": {
      "text/plain": [
       "<Figure size 864x144 with 0 Axes>"
      ]
     },
     "metadata": {},
     "output_type": "display_data"
    },
    {
     "data": {
      "text/plain": [
       "<Figure size 576x576 with 0 Axes>"
      ]
     },
     "metadata": {},
     "output_type": "display_data"
    },
    {
     "data": {
      "text/plain": [
       "<Figure size 864x144 with 0 Axes>"
      ]
     },
     "metadata": {},
     "output_type": "display_data"
    },
    {
     "data": {
      "text/plain": [
       "<Figure size 576x576 with 0 Axes>"
      ]
     },
     "metadata": {},
     "output_type": "display_data"
    },
    {
     "data": {
      "text/plain": [
       "<Figure size 864x144 with 0 Axes>"
      ]
     },
     "metadata": {},
     "output_type": "display_data"
    },
    {
     "data": {
      "text/plain": [
       "<Figure size 576x576 with 0 Axes>"
      ]
     },
     "metadata": {},
     "output_type": "display_data"
    },
    {
     "data": {
      "text/plain": [
       "<Figure size 864x144 with 0 Axes>"
      ]
     },
     "metadata": {},
     "output_type": "display_data"
    },
    {
     "data": {
      "text/plain": [
       "<Figure size 576x576 with 0 Axes>"
      ]
     },
     "metadata": {},
     "output_type": "display_data"
    },
    {
     "data": {
      "text/plain": [
       "<Figure size 864x144 with 0 Axes>"
      ]
     },
     "metadata": {},
     "output_type": "display_data"
    },
    {
     "data": {
      "text/plain": [
       "<Figure size 576x576 with 0 Axes>"
      ]
     },
     "metadata": {},
     "output_type": "display_data"
    },
    {
     "data": {
      "text/plain": [
       "<Figure size 864x144 with 0 Axes>"
      ]
     },
     "metadata": {},
     "output_type": "display_data"
    },
    {
     "data": {
      "text/plain": [
       "<Figure size 576x576 with 0 Axes>"
      ]
     },
     "metadata": {},
     "output_type": "display_data"
    },
    {
     "data": {
      "text/plain": [
       "<Figure size 864x144 with 0 Axes>"
      ]
     },
     "metadata": {},
     "output_type": "display_data"
    },
    {
     "data": {
      "text/plain": [
       "<Figure size 576x576 with 0 Axes>"
      ]
     },
     "metadata": {},
     "output_type": "display_data"
    },
    {
     "data": {
      "text/plain": [
       "<Figure size 864x144 with 0 Axes>"
      ]
     },
     "metadata": {},
     "output_type": "display_data"
    },
    {
     "data": {
      "text/plain": [
       "<Figure size 576x576 with 0 Axes>"
      ]
     },
     "metadata": {},
     "output_type": "display_data"
    },
    {
     "data": {
      "text/plain": [
       "<Figure size 864x144 with 0 Axes>"
      ]
     },
     "metadata": {},
     "output_type": "display_data"
    },
    {
     "data": {
      "text/plain": [
       "<Figure size 576x576 with 0 Axes>"
      ]
     },
     "metadata": {},
     "output_type": "display_data"
    },
    {
     "data": {
      "text/plain": [
       "<Figure size 864x144 with 0 Axes>"
      ]
     },
     "metadata": {},
     "output_type": "display_data"
    },
    {
     "data": {
      "text/plain": [
       "<Figure size 576x576 with 0 Axes>"
      ]
     },
     "metadata": {},
     "output_type": "display_data"
    },
    {
     "data": {
      "text/plain": [
       "<Figure size 864x144 with 0 Axes>"
      ]
     },
     "metadata": {},
     "output_type": "display_data"
    },
    {
     "data": {
      "text/plain": [
       "<Figure size 576x576 with 0 Axes>"
      ]
     },
     "metadata": {},
     "output_type": "display_data"
    },
    {
     "data": {
      "text/plain": [
       "<Figure size 864x144 with 0 Axes>"
      ]
     },
     "metadata": {},
     "output_type": "display_data"
    },
    {
     "data": {
      "text/plain": [
       "<Figure size 576x576 with 0 Axes>"
      ]
     },
     "metadata": {},
     "output_type": "display_data"
    },
    {
     "data": {
      "text/plain": [
       "<Figure size 864x144 with 0 Axes>"
      ]
     },
     "metadata": {},
     "output_type": "display_data"
    },
    {
     "data": {
      "text/plain": [
       "<Figure size 576x576 with 0 Axes>"
      ]
     },
     "metadata": {},
     "output_type": "display_data"
    },
    {
     "data": {
      "text/plain": [
       "<Figure size 864x144 with 0 Axes>"
      ]
     },
     "metadata": {},
     "output_type": "display_data"
    },
    {
     "data": {
      "text/plain": [
       "<Figure size 576x576 with 0 Axes>"
      ]
     },
     "metadata": {},
     "output_type": "display_data"
    },
    {
     "data": {
      "text/plain": [
       "<Figure size 864x144 with 0 Axes>"
      ]
     },
     "metadata": {},
     "output_type": "display_data"
    },
    {
     "data": {
      "text/plain": [
       "<Figure size 576x576 with 0 Axes>"
      ]
     },
     "metadata": {},
     "output_type": "display_data"
    },
    {
     "data": {
      "text/plain": [
       "<Figure size 864x144 with 0 Axes>"
      ]
     },
     "metadata": {},
     "output_type": "display_data"
    },
    {
     "data": {
      "text/plain": [
       "<Figure size 576x576 with 0 Axes>"
      ]
     },
     "metadata": {},
     "output_type": "display_data"
    },
    {
     "data": {
      "text/plain": [
       "<Figure size 864x144 with 0 Axes>"
      ]
     },
     "metadata": {},
     "output_type": "display_data"
    },
    {
     "data": {
      "text/plain": [
       "<Figure size 576x576 with 0 Axes>"
      ]
     },
     "metadata": {},
     "output_type": "display_data"
    },
    {
     "data": {
      "text/plain": [
       "<Figure size 864x144 with 0 Axes>"
      ]
     },
     "metadata": {},
     "output_type": "display_data"
    },
    {
     "data": {
      "text/plain": [
       "<Figure size 576x576 with 0 Axes>"
      ]
     },
     "metadata": {},
     "output_type": "display_data"
    },
    {
     "data": {
      "text/plain": [
       "<Figure size 864x144 with 0 Axes>"
      ]
     },
     "metadata": {},
     "output_type": "display_data"
    },
    {
     "data": {
      "text/plain": [
       "<Figure size 576x576 with 0 Axes>"
      ]
     },
     "metadata": {},
     "output_type": "display_data"
    },
    {
     "data": {
      "text/plain": [
       "<Figure size 864x144 with 0 Axes>"
      ]
     },
     "metadata": {},
     "output_type": "display_data"
    },
    {
     "data": {
      "text/plain": [
       "<Figure size 576x576 with 0 Axes>"
      ]
     },
     "metadata": {},
     "output_type": "display_data"
    },
    {
     "data": {
      "text/plain": [
       "<Figure size 864x144 with 0 Axes>"
      ]
     },
     "metadata": {},
     "output_type": "display_data"
    },
    {
     "data": {
      "text/plain": [
       "<Figure size 576x576 with 0 Axes>"
      ]
     },
     "metadata": {},
     "output_type": "display_data"
    },
    {
     "data": {
      "text/plain": [
       "<Figure size 864x144 with 0 Axes>"
      ]
     },
     "metadata": {},
     "output_type": "display_data"
    },
    {
     "data": {
      "text/plain": [
       "<Figure size 576x576 with 0 Axes>"
      ]
     },
     "metadata": {},
     "output_type": "display_data"
    },
    {
     "data": {
      "text/plain": [
       "<Figure size 864x144 with 0 Axes>"
      ]
     },
     "metadata": {},
     "output_type": "display_data"
    },
    {
     "data": {
      "text/plain": [
       "<Figure size 576x576 with 0 Axes>"
      ]
     },
     "metadata": {},
     "output_type": "display_data"
    },
    {
     "data": {
      "text/plain": [
       "<Figure size 864x144 with 0 Axes>"
      ]
     },
     "metadata": {},
     "output_type": "display_data"
    },
    {
     "data": {
      "text/plain": [
       "<Figure size 576x576 with 0 Axes>"
      ]
     },
     "metadata": {},
     "output_type": "display_data"
    },
    {
     "data": {
      "text/plain": [
       "<Figure size 864x144 with 0 Axes>"
      ]
     },
     "metadata": {},
     "output_type": "display_data"
    },
    {
     "data": {
      "text/plain": [
       "<Figure size 576x576 with 0 Axes>"
      ]
     },
     "metadata": {},
     "output_type": "display_data"
    },
    {
     "data": {
      "text/plain": [
       "<Figure size 864x144 with 0 Axes>"
      ]
     },
     "metadata": {},
     "output_type": "display_data"
    },
    {
     "data": {
      "text/plain": [
       "<Figure size 576x576 with 0 Axes>"
      ]
     },
     "metadata": {},
     "output_type": "display_data"
    },
    {
     "data": {
      "text/plain": [
       "<Figure size 864x144 with 0 Axes>"
      ]
     },
     "metadata": {},
     "output_type": "display_data"
    },
    {
     "data": {
      "text/plain": [
       "<Figure size 576x576 with 0 Axes>"
      ]
     },
     "metadata": {},
     "output_type": "display_data"
    },
    {
     "data": {
      "text/plain": [
       "<Figure size 864x144 with 0 Axes>"
      ]
     },
     "metadata": {},
     "output_type": "display_data"
    },
    {
     "data": {
      "text/plain": [
       "<Figure size 576x576 with 0 Axes>"
      ]
     },
     "metadata": {},
     "output_type": "display_data"
    },
    {
     "data": {
      "text/plain": [
       "<Figure size 864x144 with 0 Axes>"
      ]
     },
     "metadata": {},
     "output_type": "display_data"
    },
    {
     "data": {
      "text/plain": [
       "<Figure size 576x576 with 0 Axes>"
      ]
     },
     "metadata": {},
     "output_type": "display_data"
    },
    {
     "data": {
      "text/plain": [
       "<Figure size 864x144 with 0 Axes>"
      ]
     },
     "metadata": {},
     "output_type": "display_data"
    },
    {
     "data": {
      "text/plain": [
       "<Figure size 576x576 with 0 Axes>"
      ]
     },
     "metadata": {},
     "output_type": "display_data"
    },
    {
     "data": {
      "text/plain": [
       "<Figure size 864x144 with 0 Axes>"
      ]
     },
     "metadata": {},
     "output_type": "display_data"
    },
    {
     "data": {
      "text/plain": [
       "<Figure size 576x576 with 0 Axes>"
      ]
     },
     "metadata": {},
     "output_type": "display_data"
    },
    {
     "data": {
      "text/plain": [
       "<Figure size 864x144 with 0 Axes>"
      ]
     },
     "metadata": {},
     "output_type": "display_data"
    },
    {
     "data": {
      "text/plain": [
       "<Figure size 576x576 with 0 Axes>"
      ]
     },
     "metadata": {},
     "output_type": "display_data"
    },
    {
     "data": {
      "text/plain": [
       "<Figure size 864x144 with 0 Axes>"
      ]
     },
     "metadata": {},
     "output_type": "display_data"
    },
    {
     "data": {
      "text/plain": [
       "<Figure size 576x576 with 0 Axes>"
      ]
     },
     "metadata": {},
     "output_type": "display_data"
    },
    {
     "data": {
      "text/plain": [
       "<Figure size 864x144 with 0 Axes>"
      ]
     },
     "metadata": {},
     "output_type": "display_data"
    },
    {
     "data": {
      "image/png": "[encoded data removed]",
      "text/plain": [
       "<Figure size 576x576 with 16 Axes>"
      ]
     },
     "metadata": {
      "needs_background": "light"
     },
     "output_type": "display_data"
    }
   ],
   "source": [
    "number_trials = 100\n",
    "number_epochs = 500\n",
    "\n",
    "for i in range(number_trials):\n",
    "    output_folder_path = \"loop_output/\"\n",
    "    index_string = \"{:03d}\".format(i)\n",
    "\n",
    "    pred_beam = train_1d_scan(train_dset, lattice, p0c, screen, n_epochs=number_epochs)\n",
    "    ks = torch.vstack((train_dset.k, test_dset.k))\n",
    "    pred_dset = run_quad_scan(pred_beam, lattice, screen, ks)\n",
    "\n",
    "    try:\n",
    "        # compare predicted screens with data\n",
    "        plt.clf()\n",
    "        fig, ax = plot_predicted_screens(pred_dset, train_dset, test_dset, bins_x, bins_y)\n",
    "        plt.savefig(output_folder_path+'pred_'+index_string+'.png')\n",
    "    \n",
    "        # reconstructed beam projections:\n",
    "        plt.clf()\n",
    "        fig, ax = plot_projections(pred_beam.numpy_particles(),\n",
    "                                   coords=['x', 'px', 'y', 'py'],\n",
    "                                   bins=50,\n",
    "                                   background=False\n",
    "                                   )\n",
    "        plt.savefig(output_folder_path+'recon_'+index_string+'.png')\n",
    "    \n",
    "        stacked_output = np.vstack((pred_beam.x.numpy(),pred_beam.y.numpy(),pred_beam.z.numpy(),pred_beam.px.numpy(),pred_beam.py.numpy(),pred_beam.pz.numpy()))\n",
    "        np.save(output_folder_path+'phasespace_'+index_string+'.npy', stacked_output)\n",
    "    except:\n",
    "        print(\"Error occured at step \"+index_string+\". Probably returned all NaN\")"
   ]
  },
  {
   "cell_type": "code",
   "execution_count": 12,
   "metadata": {},
   "outputs": [
    {
     "data": {
      "text/plain": [
       "tensor([nan, nan, nan,  ..., nan, nan, nan])"
      ]
     },
     "execution_count": 12,
     "metadata": {},
     "output_type": "execute_result"
    }
   ],
   "source": []
  },
  {
   "cell_type": "code",
   "execution_count": 8,
   "metadata": {},
   "outputs": [
    {
     "name": "stdout",
     "output_type": "stream",
     "text": [
      "Using device: cpu\n"
     ]
    },
    {
     "name": "stderr",
     "output_type": "stream",
     "text": [
      "C:\\Users\\loasis\\AppData\\Local\\Programs\\Python\\Python310\\lib\\site-packages\\torch\\functional.py:504: UserWarning: torch.meshgrid: in an upcoming release, it will be required to pass the indexing argument. (Triggered internally at ..\\aten\\src\\ATen\\native\\TensorShape.cpp:3484.)\n",
      "  return _VF.meshgrid(tensors, **kwargs)  # type: ignore[attr-defined]\n"
     ]
    },
    {
     "name": "stdout",
     "output_type": "stream",
     "text": [
      "0 tensor(4960353.1392, dtype=torch.float64, grad_fn=<MulBackward0>)\n",
      "100 tensor(4193925.4050, dtype=torch.float64, grad_fn=<MulBackward0>)\n",
      "200 tensor(4195225.7194, dtype=torch.float64, grad_fn=<MulBackward0>)\n",
      "300 tensor(4145399.1810, dtype=torch.float64, grad_fn=<MulBackward0>)\n",
      "400 tensor(3119516.0504, dtype=torch.float64, grad_fn=<MulBackward0>)\n"
     ]
    }
   ],
   "source": [
    "# training\n",
    "pred_beam = train_1d_scan(train_dset, lattice, p0c, screen, n_epochs=500)"
   ]
  },
  {
   "cell_type": "code",
   "execution_count": 9,
   "metadata": {},
   "outputs": [],
   "source": [
    "# predicted screens:\n",
    "ks = torch.vstack((train_dset.k, test_dset.k))\n",
    "pred_dset = run_quad_scan(pred_beam, lattice, screen, ks)"
   ]
  },
  {
   "cell_type": "code",
   "execution_count": 10,
   "metadata": {
    "scrolled": true
   },
   "outputs": [
    {
     "name": "stdout",
     "output_type": "stream",
     "text": [
      "image size = 15 x 15 mm\n",
      "test samples boxed in orange\n"
     ]
    },
    {
     "data": {
      "image/png": "[encoded data removed]",
      "text/plain": [
       "<Figure size 864x144 with 24 Axes>"
      ]
     },
     "metadata": {
      "needs_background": "light"
     },
     "output_type": "display_data"
    }
   ],
   "source": [
    "# compare predicted screens with data\n",
    "fig, ax = plot_predicted_screens(pred_dset, train_dset, test_dset, bins_x, bins_y)\n",
    "plt.show()"
   ]
  },
  {
   "cell_type": "code",
   "execution_count": 11,
   "metadata": {},
   "outputs": [
    {
     "data": {
      "image/png": "[encoded data removed]",
      "text/plain": [
       "<Figure size 576x576 with 16 Axes>"
      ]
     },
     "metadata": {
      "needs_background": "light"
     },
     "output_type": "display_data"
    }
   ],
   "source": [
    "# reconstructed beam projections: \n",
    "fig, ax = plot_projections(pred_beam.numpy_particles(),\n",
    "                           coords=['x', 'px', 'y', 'py'],\n",
    "                           bins=50,\n",
    "                           background=False\n",
    "                           )\n",
    "plt.show()"
   ]
  },
  {
   "cell_type": "code",
   "execution_count": 12,
   "metadata": {},
   "outputs": [
    {
     "name": "stdout",
     "output_type": "stream",
     "text": [
      "0.6262931111829035 0.818179959299898\n",
      "6.920441907311359e-07 3.945371650151827e-06\n"
     ]
    }
   ],
   "source": [
    "emity=np.sqrt(np.mean(pred_beam.py.numpy()**2)*np.mean(pred_beam.y.numpy()**2)-(np.mean(pred_beam.y.numpy()*pred_beam.py.numpy()))**2)\n",
    "betay=np.std(pred_beam.y.numpy())**2/(emity)\n",
    "\n",
    "emitx=np.sqrt(np.mean(pred_beam.px.numpy()**2)*np.mean(pred_beam.x.numpy()**2)-(np.mean(pred_beam.x.numpy()*pred_beam.px.numpy()))**2)\n",
    "betax=np.std(pred_beam.x.numpy())**2/(emitx)\n",
    "print(betax,betay)\n",
    "print(emitx,emity)"
   ]
  },
  {
   "cell_type": "code",
   "execution_count": 13,
   "metadata": {},
   "outputs": [
    {
     "data": {
      "image/png": "[encoded data removed]",
      "text/plain": [
       "<Figure size 432x288 with 2 Axes>"
      ]
     },
     "metadata": {
      "needs_background": "light"
     },
     "output_type": "display_data"
    }
   ],
   "source": [
    "import matplotlib.pyplot as plt\n",
    "\n",
    "# Assuming tensor1 and tensor2 are your tensors (replace with your actual tensors)\n",
    "tensor1 = pred_beam.y\n",
    "tensor2 = pred_beam.pz\n",
    "\n",
    "# Convert tensors to numpy arrays for plotting\n",
    "array1 = tensor1.numpy()\n",
    "array2 = tensor2.numpy()\n",
    "\n",
    "# Create a 2D histogram plot\n",
    "plt.hist2d(array1, array2, bins=(100, 100), cmap=plt.cm.jet)\n",
    "\n",
    "# Set labels and title (optional)\n",
    "plt.xlabel('Tensor 1 Values')\n",
    "plt.ylabel('Tensor 2 Values')\n",
    "plt.title('2D Histogram Plot of Two Tensors')\n",
    "\n",
    "# Add a colorbar to show the color mapping\n",
    "plt.colorbar()\n",
    "\n",
    "# Display the plot\n",
    "plt.show()"
   ]
  },
  {
   "cell_type": "code",
   "execution_count": null,
   "metadata": {},
   "outputs": [],
   "source": [
    "import os\n",
    "os.environ[\"PATH\"] += os.pathsep + '/Users/samuelbarber/science_code/sdds_tools'\n",
    "os.environ[\"PATH\"] += os.pathsep + '/Users/samuelbarber/science_code/elegant'\n",
    "\n",
    "def extract_and_map_data(pred_beam):\n",
    "    c = 299792458  # Speed of light in meters per second\n",
    "    \n",
    "    # Define the mapping\n",
    "    mapping = {\n",
    "        'x': 'x',\n",
    "        'px': 'xp',\n",
    "        'y': 'y',\n",
    "        'py': 'yp',\n",
    "        'z': 't',\n",
    "        'pz': 'p'\n",
    "    }\n",
    "\n",
    "    # Extract and map data\n",
    "    data = []\n",
    "    for key, new_key in mapping.items():\n",
    "        values = getattr(pred_beam, key).numpy()  # Convert tensor to numpy array\n",
    "        if new_key == 't':\n",
    "            values /= c\n",
    "        data.append(values)\n",
    "\n",
    "    return np.column_stack(data)\n",
    "\n",
    "def save_to_csv(data, filename=\"data.csv\"):\n",
    "    header = \",\".join(['x', 'xp', 'y', 'yp', 't', 'p'])  # Define the column names for the CSV\n",
    "    np.savetxt(filename, data, delimiter=\",\", header=header, comments=\"\")\n",
    "\n",
    "    \n",
    "# Extract and map data\n",
    "data = extract_and_map_data(pred_beam)\n",
    "\n",
    "# Save the data to CSV\n",
    "save_to_csv(data)\n",
    "\n",
    "# Convert the CSV to SDDS using the command line (you'll do this outside the Python script)\n",
    "!csv2sdds data.csv -columnData=name=x,type=double -columnData=name=xp,type=double -columnData=name=y,type=double -columnData=name=yp,type=double -columnData=name=t,type=double -columnData=name=p,type=double output.sdds"
   ]
  }
 ],
 "metadata": {
  "kernelspec": {
   "display_name": "Python 3 (ipykernel)",
   "language": "python",
   "name": "python3"
  },
  "language_info": {
   "codemirror_mode": {
    "name": "ipython",
    "version": 3
   },
   "file_extension": ".py",
   "mimetype": "text/x-python",
   "name": "python",
   "nbconvert_exporter": "python",
   "pygments_lexer": "ipython3",
   "version": "3.10.5"
  }
 },
 "nbformat": 4,
 "nbformat_minor": 4
}
