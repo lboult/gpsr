{
 "cells": [
  {
   "cell_type": "code",
   "execution_count": 1,
   "metadata": {},
   "outputs": [],
   "source": [
    "import torch"
   ]
  },
  {
   "cell_type": "code",
   "execution_count": 7,
   "metadata": {},
   "outputs": [],
   "source": [
    "a = torch.tensor([[1,2,3],\n",
    "                  [4,5,6]])\n",
    "b = torch.tensor([[7,8,9]])"
   ]
  },
  {
   "cell_type": "code",
   "execution_count": 8,
   "metadata": {},
   "outputs": [
    {
     "data": {
      "text/plain": [
       "tensor([[1, 2, 3],\n",
       "        [4, 5, 6],\n",
       "        [7, 8, 9]])"
      ]
     },
     "execution_count": 8,
     "metadata": {},
     "output_type": "execute_result"
    }
   ],
   "source": [
    "torch.cat((a, b), axis=0)"
   ]
  },
  {
   "cell_type": "code",
   "execution_count": 10,
   "metadata": {},
   "outputs": [
    {
     "data": {
      "text/plain": [
       "tensor([[1, 1, 3],\n",
       "        [4, 5, 6]])"
      ]
     },
     "execution_count": 10,
     "metadata": {},
     "output_type": "execute_result"
    }
   ],
   "source": [
    "a[0,1] = 1\n",
    "a "
   ]
  },
  {
   "cell_type": "code",
   "execution_count": 6,
   "metadata": {},
   "outputs": [
    {
     "data": {
      "text/plain": [
       "(tensor([[[1, 1, 1, 1],\n",
       "          [1, 1, 1, 1],\n",
       "          [1, 1, 1, 1]],\n",
       " \n",
       "         [[2, 2, 2, 2],\n",
       "          [2, 2, 2, 2],\n",
       "          [2, 2, 2, 2]]]),\n",
       " tensor([[[10, 10, 10, 10],\n",
       "          [20, 20, 20, 20],\n",
       "          [30, 30, 30, 30]],\n",
       " \n",
       "         [[10, 10, 10, 10],\n",
       "          [20, 20, 20, 20],\n",
       "          [30, 30, 30, 30]]]),\n",
       " tensor([[[100, 200, 300, 400],\n",
       "          [100, 200, 300, 400],\n",
       "          [100, 200, 300, 400]],\n",
       " \n",
       "         [[100, 200, 300, 400],\n",
       "          [100, 200, 300, 400],\n",
       "          [100, 200, 300, 400]]]))"
      ]
     },
     "execution_count": 6,
     "metadata": {},
     "output_type": "execute_result"
    }
   ],
   "source": [
    "x = [1,2]\n",
    "y = [10, 20, 30]\n",
    "z = [100 , 200, 300, 400]\n",
    "x = torch.tensor(x)\n",
    "y = torch.tensor(y)\n",
    "z = torch.tensor(z)\n",
    "xyz_mesh = torch.meshgrid(x, y, z, indexing='ij')\n",
    "xyz_mesh"
   ]
  },
  {
   "cell_type": "code",
   "execution_count": 7,
   "metadata": {},
   "outputs": [
    {
     "name": "stdout",
     "output_type": "stream",
     "text": [
      "torch.Size([2, 3, 4, 3])\n"
     ]
    },
    {
     "data": {
      "text/plain": [
       "tensor([[[[  1,  10, 100],\n",
       "          [  1,  10, 200],\n",
       "          [  1,  10, 300],\n",
       "          [  1,  10, 400]],\n",
       "\n",
       "         [[  1,  20, 100],\n",
       "          [  1,  20, 200],\n",
       "          [  1,  20, 300],\n",
       "          [  1,  20, 400]],\n",
       "\n",
       "         [[  1,  30, 100],\n",
       "          [  1,  30, 200],\n",
       "          [  1,  30, 300],\n",
       "          [  1,  30, 400]]],\n",
       "\n",
       "\n",
       "        [[[  2,  10, 100],\n",
       "          [  2,  10, 200],\n",
       "          [  2,  10, 300],\n",
       "          [  2,  10, 400]],\n",
       "\n",
       "         [[  2,  20, 100],\n",
       "          [  2,  20, 200],\n",
       "          [  2,  20, 300],\n",
       "          [  2,  20, 400]],\n",
       "\n",
       "         [[  2,  30, 100],\n",
       "          [  2,  30, 200],\n",
       "          [  2,  30, 300],\n",
       "          [  2,  30, 400]]]])"
      ]
     },
     "execution_count": 7,
     "metadata": {},
     "output_type": "execute_result"
    }
   ],
   "source": [
    "params = torch.stack(xyz_mesh, dim=-1)\n",
    "print(params.shape)\n",
    "params"
   ]
  },
  {
   "cell_type": "code",
   "execution_count": 9,
   "metadata": {},
   "outputs": [
    {
     "name": "stdout",
     "output_type": "stream",
     "text": [
      "torch.Size([24, 3])\n"
     ]
    },
    {
     "data": {
      "text/plain": [
       "tensor([[  1,  10, 100],\n",
       "        [  1,  10, 200],\n",
       "        [  1,  10, 300],\n",
       "        [  1,  10, 400],\n",
       "        [  1,  20, 100],\n",
       "        [  1,  20, 200],\n",
       "        [  1,  20, 300],\n",
       "        [  1,  20, 400],\n",
       "        [  1,  30, 100],\n",
       "        [  1,  30, 200],\n",
       "        [  1,  30, 300],\n",
       "        [  1,  30, 400],\n",
       "        [  2,  10, 100],\n",
       "        [  2,  10, 200],\n",
       "        [  2,  10, 300],\n",
       "        [  2,  10, 400],\n",
       "        [  2,  20, 100],\n",
       "        [  2,  20, 200],\n",
       "        [  2,  20, 300],\n",
       "        [  2,  20, 400],\n",
       "        [  2,  30, 100],\n",
       "        [  2,  30, 200],\n",
       "        [  2,  30, 300],\n",
       "        [  2,  30, 400]])"
      ]
     },
     "execution_count": 9,
     "metadata": {},
     "output_type": "execute_result"
    }
   ],
   "source": [
    "params_list = params.reshape((-1,3))\n",
    "print(params_list.shape)\n",
    "params_list"
   ]
  },
  {
   "cell_type": "code",
   "execution_count": 13,
   "metadata": {},
   "outputs": [
    {
     "data": {
      "text/plain": [
       "torch.Size([24, 3, 1])"
      ]
     },
     "execution_count": 13,
     "metadata": {},
     "output_type": "execute_result"
    }
   ],
   "source": [
    "params_list.unsqueeze(-1).shape"
   ]
  },
  {
   "cell_type": "code",
   "execution_count": null,
   "metadata": {},
   "outputs": [],
   "source": []
  }
 ],
 "metadata": {
  "kernelspec": {
   "display_name": "ps-reconstruction",
   "language": "python",
   "name": "python3"
  },
  "language_info": {
   "codemirror_mode": {
    "name": "ipython",
    "version": 3
   },
   "file_extension": ".py",
   "mimetype": "text/x-python",
   "name": "python",
   "nbconvert_exporter": "python",
   "pygments_lexer": "ipython3",
   "version": "3.10.12"
  },
  "orig_nbformat": 4
 },
 "nbformat": 4,
 "nbformat_minor": 2
}
